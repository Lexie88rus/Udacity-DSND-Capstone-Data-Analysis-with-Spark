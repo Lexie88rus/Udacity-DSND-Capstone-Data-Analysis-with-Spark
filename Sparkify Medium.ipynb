{
 "cells": [
  {
   "cell_type": "markdown",
   "metadata": {},
   "source": [
    "# Sparkify Project"
   ]
  },
  {
   "cell_type": "markdown",
   "metadata": {},
   "source": [
    "Analysis of `medium_sparkify_event_data.json` dataset using IBM Cloud services."
   ]
  },
  {
   "cell_type": "markdown",
   "metadata": {},
   "source": [
    "# Load and Clean Dataset\n",
    "Load and clean dataset `medium_sparkify_event_data.json`:"
   ]
  },
  {
   "cell_type": "code",
   "execution_count": 2,
   "metadata": {},
   "outputs": [],
   "source": [
    "# import general libraries for data manipulation and plotting\n",
    "import numpy as np\n",
    "import pandas as pd\n",
    "import matplotlib.pyplot as plt\n",
    "\n",
    "from datetime import datetime\n",
    "\n",
    "import re"
   ]
  },
  {
   "cell_type": "code",
   "execution_count": 2,
   "metadata": {},
   "outputs": [],
   "source": [
    "# import spark libraries\n",
    "from pyspark.sql import SparkSession\n",
    "\n",
    "from pyspark.ml.feature import StringIndexer, VectorAssembler, Normalizer, StandardScaler, MinMaxScaler\n",
    "from pyspark.ml.feature import OneHotEncoder, StringIndexer, OneHotEncoderEstimator\n",
    "from pyspark.sql.functions import udf\n",
    "from pyspark.sql.types import IntegerType\n",
    "from pyspark.sql.types import StringType, DateType\n",
    "from pyspark.sql.functions import to_date, datediff\n",
    "from pyspark.sql.functions import concat, lit, avg, split, isnan, when, count, col, sum, mean, stddev, min, max, round\n",
    "from pyspark.sql import Window\n",
    "\n",
    "from pyspark.ml.classification import LogisticRegression, GBTClassifier, NaiveBayes, RandomForestClassifier\n",
    "\n",
    "from pyspark.ml import Pipeline\n",
    "from pyspark.ml.evaluation import MulticlassClassificationEvaluator\n",
    "from pyspark.ml.tuning import CrossValidator, ParamGridBuilder\n",
    "\n",
    "from pyspark.mllib.evaluation import BinaryClassificationMetrics, MulticlassMetrics\n",
    "from pyspark.mllib.util import MLUtils"
   ]
  },
  {
   "cell_type": "markdown",
   "metadata": {},
   "source": [
    "`1.` Load the dataset:"
   ]
  },
  {
   "cell_type": "code",
   "execution_count": 3,
   "metadata": {},
   "outputs": [
    {
     "data": {
      "text/plain": [
       "[Row(artist='Martin Orford', auth='Logged In', firstName='Joseph', gender='M', itemInSession=20, lastName='Morales', length=597.55057, level='free', location='Corpus Christi, TX', method='PUT', page='NextSong', registration=1532063507000, sessionId=292, song='Grand Designs', status=200, ts=1538352011000, userAgent='\"Mozilla/5.0 (Macintosh; Intel Mac OS X 10_9_4) AppleWebKit/537.36 (KHTML, like Gecko) Chrome/36.0.1985.125 Safari/537.36\"', userId='293'),\n",
       " Row(artist=\"John Brown's Body\", auth='Logged In', firstName='Sawyer', gender='M', itemInSession=74, lastName='Larson', length=380.21179, level='free', location='Houston-The Woodlands-Sugar Land, TX', method='PUT', page='NextSong', registration=1538069638000, sessionId=97, song='Bulls', status=200, ts=1538352025000, userAgent='\"Mozilla/5.0 (Macintosh; Intel Mac OS X 10_9_4) AppleWebKit/537.36 (KHTML, like Gecko) Chrome/36.0.1985.143 Safari/537.36\"', userId='98'),\n",
       " Row(artist='Afroman', auth='Logged In', firstName='Maverick', gender='M', itemInSession=184, lastName='Santiago', length=202.37016, level='paid', location='Orlando-Kissimmee-Sanford, FL', method='PUT', page='NextSong', registration=1535953455000, sessionId=178, song='Because I Got High', status=200, ts=1538352118000, userAgent='\"Mozilla/5.0 (Macintosh; Intel Mac OS X 10_9_4) AppleWebKit/537.36 (KHTML, like Gecko) Chrome/36.0.1985.143 Safari/537.36\"', userId='179'),\n",
       " Row(artist=None, auth='Logged In', firstName='Maverick', gender='M', itemInSession=185, lastName='Santiago', length=None, level='paid', location='Orlando-Kissimmee-Sanford, FL', method='PUT', page='Logout', registration=1535953455000, sessionId=178, song=None, status=307, ts=1538352119000, userAgent='\"Mozilla/5.0 (Macintosh; Intel Mac OS X 10_9_4) AppleWebKit/537.36 (KHTML, like Gecko) Chrome/36.0.1985.143 Safari/537.36\"', userId='179'),\n",
       " Row(artist='Lily Allen', auth='Logged In', firstName='Gianna', gender='F', itemInSession=22, lastName='Campos', length=194.53342, level='paid', location='Mobile, AL', method='PUT', page='NextSong', registration=1535931018000, sessionId=245, song='Smile (Radio Edit)', status=200, ts=1538352124000, userAgent='Mozilla/5.0 (Windows NT 6.1; WOW64; rv:31.0) Gecko/20100101 Firefox/31.0', userId='246')]"
      ]
     },
     "execution_count": 3,
     "metadata": {},
     "output_type": "execute_result"
    }
   ],
   "source": [
    "import ibmos2spark\n",
    "# @hidden_cell\n",
    "credentials = {\n",
    "    'endpoint': 'https://s3.eu-geo.objectstorage.service.networklayer.com',\n",
    "    'service_id': 'iam-ServiceId-6db02be6-9127-48e0-8f20-d8b49e247c67',\n",
    "    'iam_service_endpoint': 'https://iam.bluemix.net/oidc/token',\n",
    "    'api_key': 'pyhRDkq55K8ETNvx_wWr2eXFU7QTEMvIh21zKFVketmX'\n",
    "}\n",
    "\n",
    "configuration_name = 'os_218bc8cce9124b6f9716ce75acae81c9_configs'\n",
    "cos = ibmos2spark.CloudObjectStorage(sc, credentials, configuration_name, 'bluemix_cos')\n",
    "\n",
    "from pyspark.sql import SparkSession\n",
    "spark = SparkSession.builder.getOrCreate()\n",
    "# Since JSON data can be semi-structured and contain additional metadata, it is possible that you might face issues with the DataFrame layout.\n",
    "# Please read the documentation of 'SparkSession.read()' to learn more about the possibilities to adjust the data loading.\n",
    "# PySpark documentation: http://spark.apache.org/docs/2.0.2/api/python/pyspark.sql.html#pyspark.sql.DataFrameReader.json\n",
    "\n",
    "df_medium = spark.read.json(cos.url('medium-sparkify-event-data.json', 'sparkly-donotdelete-pr-xd5vv9g8psteli'))\n",
    "df_medium.take(5)"
   ]
  },
  {
   "cell_type": "markdown",
   "metadata": {},
   "source": [
    "`2.` Clean the dataset:"
   ]
  },
  {
   "cell_type": "markdown",
   "metadata": {},
   "source": [
    "For data cleaning I used the script which is already prepared for the mini dataset:"
   ]
  },
  {
   "cell_type": "code",
   "execution_count": 6,
   "metadata": {},
   "outputs": [
    {
     "data": {
      "text/plain": [
       "Row(artist='Martin Orford', auth='Logged In', firstName='Joseph', gender='M', itemInSession=20, lastName='Morales', length=597.55057, level='free', location='Corpus Christi, TX', method='PUT', page='NextSong', registration=1532063507000, sessionId=292, song='Grand Designs', status=200, ts=1538352011000, userAgent='\"Mozilla/5.0 (Macintosh; Intel Mac OS X 10_9_4) AppleWebKit/537.36 (KHTML, like Gecko) Chrome/36.0.1985.125 Safari/537.36\"', userId='293')"
      ]
     },
     "execution_count": 6,
     "metadata": {},
     "output_type": "execute_result"
    }
   ],
   "source": [
    "def clean_data(df):\n",
    "    '''\n",
    "    Function which performs data cleaning of Sparkify dataset.\n",
    "    \n",
    "    INPUT: \n",
    "    df - pyspark dataframe containing Sparkify log events\n",
    "    \n",
    "    OUTPUT:\n",
    "    df_new - pyspark dataframe with removed rows with empty 'userId' column\n",
    "    '''\n",
    "    \n",
    "    # remove rows where userId is empty\n",
    "    df_new = df.filter(df[\"userId\"] != \"\")\n",
    "    \n",
    "    return df_new\n",
    "\n",
    "# clean data\n",
    "df_medium = clean_data(df_medium)\n",
    "\n",
    "# print out first line\n",
    "df_medium.head()"
   ]
  },
  {
   "cell_type": "markdown",
   "metadata": {},
   "source": [
    "# Exploratory Data Analysis"
   ]
  },
  {
   "cell_type": "markdown",
   "metadata": {},
   "source": [
    "## 1. Preliminary Analysis"
   ]
  },
  {
   "cell_type": "markdown",
   "metadata": {},
   "source": [
    "`1.1` Get summary for the dataset:"
   ]
  },
  {
   "cell_type": "code",
   "execution_count": 6,
   "metadata": {},
   "outputs": [
    {
     "name": "stdout",
     "output_type": "stream",
     "text": [
      "There are 528005 lines in the dataset.  Each line corresponds to an event for a user, who signed in.\n"
     ]
    }
   ],
   "source": [
    "print('There are {} lines in the dataset.  Each line corresponds to an event for a user, who signed in.'\\\n",
    "     .format(df_medium.count()))"
   ]
  },
  {
   "cell_type": "code",
   "execution_count": 7,
   "metadata": {},
   "outputs": [
    {
     "name": "stdout",
     "output_type": "stream",
     "text": [
      "There are 448 unique users in the dataset.\n"
     ]
    }
   ],
   "source": [
    "print('There are {users} unique users in the dataset.'.format( users = df_medium.select('userId').distinct().count()))"
   ]
  },
  {
   "cell_type": "markdown",
   "metadata": {},
   "source": [
    "`1.2` Analyze number of events for each value of categorical columns ('auth', 'gender', 'level', 'method', 'page'):"
   ]
  },
  {
   "cell_type": "code",
   "execution_count": 8,
   "metadata": {},
   "outputs": [
    {
     "data": {
      "image/png": "[encoded data removed]",
      "text/plain": [
       "<matplotlib.figure.Figure at 0x2ac0aab83a90>"
      ]
     },
     "metadata": {},
     "output_type": "display_data"
    }
   ],
   "source": [
    "# plot bar charts with number of events with respect to categorical values\n",
    "\n",
    "cat_columns = ['auth', 'gender', 'level', 'method']\n",
    "\n",
    "fig = plt.figure(figsize=(10, 7))\n",
    "st = fig.suptitle(\"Statistics of number of events for categorical column values\", fontsize=\"x-large\")\n",
    "\n",
    "grid = plt.GridSpec(2, 3, hspace=0.4, wspace=0.5)\n",
    "\n",
    "counter = 0\n",
    "for cat_column in cat_columns:\n",
    "    \n",
    "    value_counts = df_medium.groupBy(cat_column).count().toPandas()\n",
    "    \n",
    "    trace_x = counter // 3\n",
    "    trace_y = counter % 3\n",
    "    \n",
    "    x_pos = np.arange(0, len(value_counts))\n",
    "    \n",
    "    hist_ax = fig.add_subplot(grid[trace_x, trace_y])\n",
    "    \n",
    "    hist_ax.bar(x_pos, value_counts['count'].values, tick_label = value_counts[cat_column].values)\n",
    "    \n",
    "    hist_ax.set_title(cat_column)\n",
    "    \n",
    "    counter += 1\n",
    "\n",
    "page_ax = fig.add_subplot(grid[1 , 1:])\n",
    "\n",
    "value_counts = df_medium.groupBy('page').count().orderBy('count', ascending=False).toPandas()\n",
    "\n",
    "x_pos = np.arange(0, len(value_counts))\n",
    "\n",
    "page_ax.bar(x_pos, value_counts['count'].values, tick_label = value_counts['page'].values)\n",
    "\n",
    "page_ax.set_title('page')\n",
    "    \n",
    "for tick in page_ax.get_xticklabels():\n",
    "    tick.set_rotation(90)\n",
    "\n",
    "plt.show()"
   ]
  },
  {
   "cell_type": "markdown",
   "metadata": {},
   "source": [
    "`1.3` Analyze the number of users of dufferent gender and different subscription level:"
   ]
  },
  {
   "cell_type": "code",
   "execution_count": 9,
   "metadata": {},
   "outputs": [
    {
     "name": "stdout",
     "output_type": "stream",
     "text": [
      "There are 250 male and 198 female users in dataset.\n"
     ]
    }
   ],
   "source": [
    "# calculate the number of female and male users\n",
    "\n",
    "male = df_medium.select('userId', 'gender').where(df_medium.gender == 'M').groupBy('userId').count().agg(count(\"count\"))\n",
    "female = df_medium.select('userId', 'gender').where(df_medium.gender == 'F').groupBy('userId').count().agg(count(\"count\"))\n",
    "\n",
    "print('There are {male} male and {female} female users in dataset.'\\\n",
    "      .format(male = male.collect()[0][\"count(count)\"],\\\n",
    "             female = female.collect()[0][\"count(count)\"]))"
   ]
  },
  {
   "cell_type": "code",
   "execution_count": 10,
   "metadata": {},
   "outputs": [
    {
     "name": "stdout",
     "output_type": "stream",
     "text": [
      "There are 321 paid and 370 free accounts in dataset.\n"
     ]
    }
   ],
   "source": [
    "# calculate the number of paid and free accounts\n",
    "\n",
    "paid = df_medium.select('userId', 'level').where(df_medium.level == 'paid').groupBy('userId').count().agg(count(\"count\"))\n",
    "free = df_medium.select('userId', 'level').where(df_medium.level == 'free').groupBy('userId').count().agg(count(\"count\"))\n",
    "\n",
    "print('There are {paid} paid and {free} free accounts in dataset.'\\\n",
    "      .format(paid = paid.collect()[0][\"count(count)\"],\\\n",
    "             free = free.collect()[0][\"count(count)\"]))"
   ]
  },
  {
   "cell_type": "code",
   "execution_count": 11,
   "metadata": {},
   "outputs": [
    {
     "data": {
      "image/png": "[encoded data removed]",
      "text/plain": [
       "<matplotlib.figure.Figure at 0x2ac0aaafb828>"
      ]
     },
     "metadata": {},
     "output_type": "display_data"
    }
   ],
   "source": [
    "#plot the results\n",
    "\n",
    "fig = plt.figure(figsize=(7, 3))\n",
    "st = fig.suptitle(\"Statistics for gender and level\")\n",
    "\n",
    "grid = plt.GridSpec(1, 2, hspace=0.4, wspace=0.7)\n",
    "\n",
    "x_pos = np.arange(0, 2)\n",
    "\n",
    "gender_ax = fig.add_subplot(grid[0 , 0])\n",
    "\n",
    "level_ax = fig.add_subplot(grid[0 , 1])\n",
    "\n",
    "gender_ax.bar(x_pos, [male.collect()[0][\"count(count)\"], female.collect()[0][\"count(count)\"]], \\\n",
    "              tick_label = ['male', 'female'])\n",
    "gender_ax.set_title('gender')\n",
    "\n",
    "level_ax.bar(x_pos, [paid.collect()[0][\"count(count)\"], free.collect()[0][\"count(count)\"]], \\\n",
    "              tick_label = ['paid', 'free'])\n",
    "level_ax.set_title('level')\n",
    "\n",
    "plt.show()"
   ]
  },
  {
   "cell_type": "markdown",
   "metadata": {},
   "source": [
    "### `1.4` Conclusions:"
   ]
  },
  {
   "cell_type": "markdown",
   "metadata": {},
   "source": [
    "From the preliminary analysis we can tell that:\n",
    "* There are more male users than female users in the dataset and the number of events corresponding to male users is greater than the number of events for female users.\n",
    "* There are fewer paid level users than free level users, but the number of events for paud users is greater than the number of events for free level users. __This means that paid level users are more active users of the service.__"
   ]
  },
  {
   "cell_type": "markdown",
   "metadata": {},
   "source": [
    "## 2. Define Churn"
   ]
  },
  {
   "cell_type": "markdown",
   "metadata": {},
   "source": [
    "Create a column `churn` to label users who cancelled subscription and and mark rows for the users, who cancelled subscription, with `churn = 1`."
   ]
  },
  {
   "cell_type": "code",
   "execution_count": 12,
   "metadata": {},
   "outputs": [],
   "source": [
    "# create column Churn and mark rows for the users, who cancelled subscription, with Churn = 1\n",
    "\n",
    "cancellation_event = udf(lambda x: 1 if x == \"Cancellation Confirmation\" else 0, IntegerType())\n",
    "# set churn = 1 for rows where page == 'Cancellation Confirmation'\n",
    "df_medium = df_medium.withColumn(\"churn\", cancellation_event(col(\"page\")))"
   ]
  },
  {
   "cell_type": "code",
   "execution_count": 13,
   "metadata": {},
   "outputs": [],
   "source": [
    "# get userId with churn == 1\n",
    "cancelled_users = df_medium.select('userId', 'churn').filter(df_medium['churn'] == 1).distinct()"
   ]
  },
  {
   "cell_type": "code",
   "execution_count": 14,
   "metadata": {},
   "outputs": [
    {
     "name": "stdout",
     "output_type": "stream",
     "text": [
      "99 users churned.\n"
     ]
    }
   ],
   "source": [
    "# get number of users, who churned\n",
    "\n",
    "print('{} users churned.'.format(cancelled_users.count()))"
   ]
  },
  {
   "cell_type": "code",
   "execution_count": 15,
   "metadata": {},
   "outputs": [],
   "source": [
    "# create a list of userIds of the users who churned\n",
    "\n",
    "cancelled_users_list = [int(row.userId) for row in cancelled_users.collect()]"
   ]
  },
  {
   "cell_type": "code",
   "execution_count": 16,
   "metadata": {},
   "outputs": [],
   "source": [
    "# set churn == 1 for all rows for users who cancelled their subscription\n",
    "\n",
    "# create udf, which sets churn of a row to 1 if userId is in cancelled_users list\n",
    "def fill_array(userId):\n",
    "    if(int(userId) in cancelled_users_list): return 1\n",
    "    else : return 0\n",
    "\n",
    "fill_array_udf = udf(fill_array, IntegerType())\n",
    "\n",
    "df_medium = df_medium.withColumn(\"churn\", fill_array_udf(col(\"userId\")))"
   ]
  },
  {
   "cell_type": "markdown",
   "metadata": {},
   "source": [
    "Demonstrate log of events for one of the users who cancelled subscription:"
   ]
  },
  {
   "cell_type": "code",
   "execution_count": 17,
   "metadata": {},
   "outputs": [
    {
     "data": {
      "text/html": [
       "<div>\n",
       "<style scoped>\n",
       "    .dataframe tbody tr th:only-of-type {\n",
       "        vertical-align: middle;\n",
       "    }\n",
       "\n",
       "    .dataframe tbody tr th {\n",
       "        vertical-align: top;\n",
       "    }\n",
       "\n",
       "    .dataframe thead th {\n",
       "        text-align: right;\n",
       "    }\n",
       "</style>\n",
       "<table border=\"1\" class=\"dataframe\">\n",
       "  <thead>\n",
       "    <tr style=\"text-align: right;\">\n",
       "      <th></th>\n",
       "      <th>userId</th>\n",
       "      <th>firstName</th>\n",
       "      <th>page</th>\n",
       "      <th>churn</th>\n",
       "    </tr>\n",
       "  </thead>\n",
       "  <tbody>\n",
       "    <tr>\n",
       "      <th>0</th>\n",
       "      <td>100030</td>\n",
       "      <td>Sonia</td>\n",
       "      <td>NextSong</td>\n",
       "      <td>1</td>\n",
       "    </tr>\n",
       "    <tr>\n",
       "      <th>1</th>\n",
       "      <td>100030</td>\n",
       "      <td>Sonia</td>\n",
       "      <td>NextSong</td>\n",
       "      <td>1</td>\n",
       "    </tr>\n",
       "    <tr>\n",
       "      <th>2</th>\n",
       "      <td>100030</td>\n",
       "      <td>Sonia</td>\n",
       "      <td>NextSong</td>\n",
       "      <td>1</td>\n",
       "    </tr>\n",
       "    <tr>\n",
       "      <th>3</th>\n",
       "      <td>100030</td>\n",
       "      <td>Sonia</td>\n",
       "      <td>NextSong</td>\n",
       "      <td>1</td>\n",
       "    </tr>\n",
       "    <tr>\n",
       "      <th>4</th>\n",
       "      <td>100030</td>\n",
       "      <td>Sonia</td>\n",
       "      <td>NextSong</td>\n",
       "      <td>1</td>\n",
       "    </tr>\n",
       "  </tbody>\n",
       "</table>\n",
       "</div>"
      ],
      "text/plain": [
       "   userId firstName      page  churn\n",
       "0  100030     Sonia  NextSong      1\n",
       "1  100030     Sonia  NextSong      1\n",
       "2  100030     Sonia  NextSong      1\n",
       "3  100030     Sonia  NextSong      1\n",
       "4  100030     Sonia  NextSong      1"
      ]
     },
     "execution_count": 17,
     "metadata": {},
     "output_type": "execute_result"
    }
   ],
   "source": [
    "df_medium.select(['userId', 'firstName', 'page', 'churn']).where((df_medium.userId == cancelled_users_list[0])).toPandas().head(5)"
   ]
  },
  {
   "cell_type": "markdown",
   "metadata": {},
   "source": [
    "## 3. Explore Data"
   ]
  },
  {
   "cell_type": "markdown",
   "metadata": {},
   "source": [
    "Perform exploratory data analysis to observe the behavior for users who stayed vs users who churned."
   ]
  },
  {
   "cell_type": "markdown",
   "metadata": {},
   "source": [
    "`3.1` Explore number of users who churned vs number of users who stayed with the service:"
   ]
  },
  {
   "cell_type": "code",
   "execution_count": 18,
   "metadata": {},
   "outputs": [
    {
     "name": "stdout",
     "output_type": "stream",
     "text": [
      "The number of users who churned is 99\n",
      "The number of users who didn't cancel subscription is 349\n"
     ]
    }
   ],
   "source": [
    "# find the number of users who churned and who stayed\n",
    "churned_users = df_medium.select('userId', 'churn').where(df_medium['churn'] == 1).groupBy('userId').count().count()\n",
    "stayed_users = df_medium.select('userId', 'churn').where(df_medium['churn'] == 0).groupBy('userId').count().count()\n",
    "\n",
    "print('The number of users who churned is {}'.format(churned_users))\n",
    "print('The number of users who didn\\'t cancel subscription is {}'.format(stayed_users))"
   ]
  },
  {
   "cell_type": "markdown",
   "metadata": {},
   "source": [
    "We can see that __the dataset is imbalanced__: number of users who churned is approximately 3 times less than the number of users who stayed. That is why __accuracy is probably not the best metric to evaluate our future machine learning model__. I suggest to use F1 score to evaluate the model."
   ]
  },
  {
   "cell_type": "markdown",
   "metadata": {},
   "source": [
    "`3.2`  Explore number of events with respect to categorical columns for users who churned and for users who kept subscription:"
   ]
  },
  {
   "cell_type": "code",
   "execution_count": 20,
   "metadata": {},
   "outputs": [
    {
     "data": {
      "image/png": "[encoded data removed]",
      "text/plain": [
       "<matplotlib.figure.Figure at 0x2ac0b7c22240>"
      ]
     },
     "metadata": {},
     "output_type": "display_data"
    }
   ],
   "source": [
    "# plot bar charts with values of categorical values\n",
    "\n",
    "cat_columns = ['gender', 'level', 'method', 'auth']\n",
    "\n",
    "fig = plt.figure(figsize=(10, 7))\n",
    "st = fig.suptitle(\"Statistics of number of events for categorical column values\", fontsize=\"x-large\")\n",
    "\n",
    "grid = plt.GridSpec(2, 3, hspace=0.4, wspace=0.5)\n",
    "width = 0.35\n",
    "\n",
    "counter = 0\n",
    "for cat_column in cat_columns:\n",
    "    \n",
    "    trace_x = counter // 3\n",
    "    trace_y = counter % 3\n",
    "    \n",
    "    hist_ax = fig.add_subplot(grid[trace_x, trace_y])\n",
    "    \n",
    "    value_counts_ch = df_medium.where(df_medium['churn'] == 1).groupBy(cat_column).count().toPandas()\n",
    "    value_counts_st = df_medium.where(df_medium['churn'] == 0).groupBy(cat_column).count().toPandas()\n",
    "    \n",
    "    x_pos_ch = np.arange(0, len(value_counts_ch))\n",
    "    x_pos_st = np.arange(0, len(value_counts_st))\n",
    "        \n",
    "    p1 = hist_ax.bar(x_pos_ch, value_counts_ch['count'].values, width, \\\n",
    "                     tick_label = value_counts_ch[cat_column].values)\n",
    "    p2 = hist_ax.bar(x_pos_st + width, value_counts_st['count'].values, width, \\\n",
    "                     tick_label = value_counts_st[cat_column].values)\n",
    "    \n",
    "    hist_ax.set_title(cat_column)\n",
    "    hist_ax.set_xticks(x_pos + width / 2)\n",
    "    \n",
    "    hist_ax.legend((p1[0], p2[0]), ('Churn', 'Stay'))\n",
    "    \n",
    "    counter += 1\n",
    "\n",
    "page_ax = fig.add_subplot(grid[1 , 1:])\n",
    "\n",
    "value_counts_ch = df_medium.where(df_medium['churn'] == 1).groupBy('page').count().orderBy('count', ascending=False).toPandas()\n",
    "value_counts_st = df_medium.where(df_medium['churn'] == 0).groupBy('page').count().orderBy('count', ascending=False).toPandas()\n",
    "    \n",
    "x_pos_ch = np.arange(0, len(value_counts_ch))\n",
    "x_pos_st = np.arange(0, len(value_counts_st))\n",
    "\n",
    "p1 = page_ax.bar(x_pos_ch, value_counts_ch['count'].values, width, tick_label = value_counts_ch['page'].values)\n",
    "p2 = page_ax.bar(x_pos_st + width, value_counts_st['count'].values, width, \\\n",
    "                 tick_label = value_counts_st['page'].values)\n",
    "\n",
    "page_ax.legend((p1[0], p2[0]), ('Churn', 'Stay'))\n",
    "\n",
    "page_ax.set_title('page')\n",
    "    \n",
    "for tick in page_ax.get_xticklabels():\n",
    "    tick.set_rotation(90)\n",
    "\n",
    "plt.show()"
   ]
  },
  {
   "cell_type": "markdown",
   "metadata": {},
   "source": [
    "`3.4` Explore average song length for users who churned vs users who stayed:"
   ]
  },
  {
   "cell_type": "code",
   "execution_count": 25,
   "metadata": {},
   "outputs": [
    {
     "name": "stdout",
     "output_type": "stream",
     "text": [
      "+------------------+-----------------+\n",
      "|              mean|              std|\n",
      "+------------------+-----------------+\n",
      "|248.99398360601663|98.49278064882218|\n",
      "+------------------+-----------------+\n",
      "\n"
     ]
    }
   ],
   "source": [
    "# calculate average song length for the users who churned\n",
    "\n",
    "avg_length = df_medium.where(df_medium.churn == 1).select(\n",
    "    mean(col('length')).alias('mean'),\n",
    "    stddev(col('length')).alias('std')\n",
    ").show()"
   ]
  },
  {
   "cell_type": "code",
   "execution_count": 26,
   "metadata": {},
   "outputs": [
    {
     "name": "stdout",
     "output_type": "stream",
     "text": [
      "+------------------+-----------------+\n",
      "|              mean|              std|\n",
      "+------------------+-----------------+\n",
      "|248.58486352452857|98.39324443629265|\n",
      "+------------------+-----------------+\n",
      "\n"
     ]
    }
   ],
   "source": [
    "# calculate average song length for the users who stayed\n",
    "\n",
    "avg_length = df_medium.where(df_medium.churn == 0).select(\n",
    "    mean(col('length')).alias('mean'),\n",
    "    stddev(col('length')).alias('std')\n",
    ").show()"
   ]
  },
  {
   "cell_type": "markdown",
   "metadata": {},
   "source": [
    "We see that average song length for users who churned is very close to the average song length for the other users."
   ]
  },
  {
   "cell_type": "markdown",
   "metadata": {},
   "source": [
    "`3.5`  Explore userAgent column:"
   ]
  },
  {
   "cell_type": "code",
   "execution_count": 28,
   "metadata": {},
   "outputs": [],
   "source": [
    "# create column for parsed agent\n",
    "def get_agent(agent):\n",
    "    agent = agent.split()[0]\n",
    "    return re.sub(r'[^\\w\\s]','',agent)\n",
    "    \n",
    "get_agent_udf = udf(get_agent, StringType())\n",
    "df_medium = df_medium.withColumn('agent', get_agent_udf(col('userAgent')))"
   ]
  },
  {
   "cell_type": "code",
   "execution_count": 30,
   "metadata": {},
   "outputs": [
    {
     "name": "stdout",
     "output_type": "stream",
     "text": [
      "+---------+\n",
      "|    agent|\n",
      "+---------+\n",
      "|Mozilla50|\n",
      "+---------+\n",
      "\n"
     ]
    }
   ],
   "source": [
    "# select all agent values\n",
    "df_medium.select('agent').distinct().show()"
   ]
  },
  {
   "cell_type": "markdown",
   "metadata": {},
   "source": [
    "We see that the 1st user agent is Mozilla for all users. So this column is not informative for this dataset."
   ]
  },
  {
   "cell_type": "markdown",
   "metadata": {},
   "source": [
    "`3.6` Explore location column:"
   ]
  },
  {
   "cell_type": "code",
   "execution_count": 31,
   "metadata": {},
   "outputs": [],
   "source": [
    "# create column for state for each event\n",
    "\n",
    "def get_state(location):\n",
    "    location = location.split(',')[-1].strip()\n",
    "    if (len(location) > 2):\n",
    "        location = location.split('-')[-1].strip()\n",
    "    \n",
    "    return location\n",
    "    \n",
    "get_state_udf = udf(get_state, StringType())\n",
    "df_medium = df_medium.withColumn('state', get_state_udf(col('location')))"
   ]
  },
  {
   "cell_type": "code",
   "execution_count": 33,
   "metadata": {},
   "outputs": [
    {
     "data": {
      "image/png": "[encoded data removed]",
      "text/plain": [
       "<matplotlib.figure.Figure at 0x2ac0b7cae4e0>"
      ]
     },
     "metadata": {},
     "output_type": "display_data"
    }
   ],
   "source": [
    "# plot statistics for location of the events\n",
    "fig = plt.figure(figsize=(10,5))\n",
    "ax = fig.add_subplot(111)\n",
    "\n",
    "value_counts = df_medium.groupBy('state').count().orderBy('count', ascending=False).toPandas()\n",
    "\n",
    "x_pos = np.arange(0, len(value_counts))\n",
    "\n",
    "ax.bar(x_pos, value_counts['count'].values, tick_label = value_counts['state'].values)\n",
    "\n",
    "ax.set_title('Location of the events (state)')\n",
    "    \n",
    "for tick in ax.get_xticklabels():\n",
    "    tick.set_rotation(90)\n",
    "\n",
    "plt.show()"
   ]
  },
  {
   "cell_type": "code",
   "execution_count": 35,
   "metadata": {},
   "outputs": [],
   "source": [
    "# calculate number of events for users who churned/stayed for each state\n",
    "\n",
    "value_counts_ch = df_medium.where(df_medium['churn'] == 1).groupBy('state').count().toPandas().sort_values('state')\n",
    "value_counts_st = df_medium.where(df_medium['churn'] == 0).groupBy('state').count().toPandas().sort_values('state')"
   ]
  },
  {
   "cell_type": "code",
   "execution_count": 36,
   "metadata": {},
   "outputs": [],
   "source": [
    "# create lists of states in number of users who churned and stayed\n",
    "\n",
    "churn_states = value_counts_ch['state'].values.tolist()\n",
    "for state in value_counts_st['state'].values.tolist():\n",
    "    if state not in churn_states:\n",
    "        value_counts_ch = value_counts_ch.append({'state' : state, 'count' : 0}, ignore_index=True)\n",
    "        \n",
    "stay_states = value_counts_st['state'].values.tolist()\n",
    "for state in value_counts_ch['state'].values.tolist():\n",
    "    if state not in stay_states:\n",
    "        value_counts_st = value_counts_st.append({'state' : state, 'count' : 0}, ignore_index=True)"
   ]
  },
  {
   "cell_type": "code",
   "execution_count": 37,
   "metadata": {},
   "outputs": [
    {
     "data": {
      "image/png": "[encoded data removed]",
      "text/plain": [
       "<matplotlib.figure.Figure at 0x2ac0ab7bc5f8>"
      ]
     },
     "metadata": {},
     "output_type": "display_data"
    }
   ],
   "source": [
    "# plot the results\n",
    "\n",
    "fig = plt.figure(figsize=(10, 5))\n",
    "ax = fig.add_subplot(111)\n",
    "\n",
    "st = fig.suptitle(\"Location of the events (state) for users who churned and stayed\")\n",
    "\n",
    "x_pos = np.arange(0, len(value_counts_st['count'].values))\n",
    "width = 0.35\n",
    "\n",
    "p1 = ax.bar(x_pos, value_counts_ch['count'].values.tolist(), width, tick_label = value_counts_ch['state'].values.tolist())\n",
    "p2 = ax.bar(x_pos + width, value_counts_st['count'].values.tolist(), width, tick_label = value_counts_st['state'].values.tolist())\n",
    "\n",
    "ax.legend((p1[0], p2[0]), ('Churn', 'Stay'), bbox_to_anchor=(1, 0.5))\n",
    "\n",
    "level_ax.set_title('level')\n",
    "ax.set_xticks(x_pos + width / 2)\n",
    "\n",
    "for tick in ax.get_xticklabels():\n",
    "    tick.set_rotation(90)\n",
    "\n",
    "plt.show()"
   ]
  },
  {
   "cell_type": "markdown",
   "metadata": {},
   "source": [
    "On the plot above we see that states differ by churn rate: there are states with events related only to users who stayed and there are also states, where there is significant number of events related to users, who churned."
   ]
  },
  {
   "cell_type": "markdown",
   "metadata": {},
   "source": [
    "### `3.6` __Conclusions__:\n",
    "1. We can't say anything about the difference in gender and level for users who churned vs users who stayed, because for these columns the more users/events there are the more there are users/events related to churn.\n",
    "2. User's agent and song length features are not very informative for the analysis of the churn.\n",
    "3. Location feature (state of the event) might be informative, because there are states with high and low churn rates."
   ]
  },
  {
   "cell_type": "markdown",
   "metadata": {},
   "source": [
    "# Feature Engineering"
   ]
  },
  {
   "cell_type": "markdown",
   "metadata": {},
   "source": [
    "To predict for each user whether the user is going to churn  we are going extract the following features:\n",
    "* __gender__, because EDA showed us that male and female users might have different behavior;\n",
    "* __last level (paid or free)__, because we see that paid level users are more active and also may have different behavior;\n",
    "* __average events per day__ to see how active the user is in general;\n",
    "* __average songs per day__ to see how active the user is in listening to the music;\n",
    "* __number of thumbs up__ to see how satisfied the user is with the content of the service;\n",
    "* __number of thumbs down__ to see how satisfied the user is with the content of the service;\n",
    "* __days since the date of first event__ to see how long the user has already been using the service;\n",
    "* __last location (state)__ the popularity may vary depending on advertising in different regions;\n",
    "* __number of add friend events__ perhaps the user is less likely to churn if his friends subscribe to the service."
   ]
  },
  {
   "cell_type": "markdown",
   "metadata": {},
   "source": [
    "For data engineering I used script prepared for mini dataset:"
   ]
  },
  {
   "cell_type": "code",
   "execution_count": 7,
   "metadata": {},
   "outputs": [],
   "source": [
    "def prepare_dataset(df):\n",
    "    '''\n",
    "    Function for preparation of dataset for machine learning\n",
    "    INPUT:\n",
    "    df - initial dataset loaded from json file\n",
    "    \n",
    "    OUTPUT:\n",
    "    df_ml - new dataset prepared for machine learning\n",
    "    contains the following columns:\n",
    "    1. userId - initial id of the user\n",
    "    2. gender - user's gender\n",
    "    3. avg_events - average number of events per day for the user\n",
    "    4. avg_songs - average number of songs the user listens to per day\n",
    "    5. thumbs_up - number of thumbs up events\n",
    "    6. thumbs_down - number of thumbs down events\n",
    "    7. active_days - days since user's firts event\n",
    "    8. last_location - location of the last event\n",
    "    9. last_level - user's last level (paid or free)\n",
    "    10. addfriends - number of add friends events\n",
    "    '''\n",
    "    \n",
    "    # clean dataset using clean_data function\n",
    "    df = clean_data(df)\n",
    "    \n",
    "    # add 'churn' column to the original dataset\n",
    "    \n",
    "    # define cancellation udf\n",
    "    cancellation_event = udf(lambda x: 1 if x == \"Cancellation Confirmation\" else 0, IntegerType())\n",
    "    \n",
    "    # set churn = 1 for rows where page == 'Cancellation Confirmation'\n",
    "    df = df.withColumn(\"churn\", cancellation_event(\"page\"))\n",
    "    \n",
    "    # get userId with churn == 1\n",
    "    cancelled_users = df.select(['userId', 'churn']).where(df.churn == 1).groupby('userId').count().toPandas()['userId'].values\n",
    "    \n",
    "    # create udf, which sets churn of a row to 1 if userId is in cancelled_users list\n",
    "    def fill_array(userId, features):\n",
    "        if(userId in cancelled_users): return 1\n",
    "        else : return 0\n",
    "    \n",
    "    # set churn == 1 for all rows for users who cancelled their subscription\n",
    "    fill_array_udf = udf(fill_array, IntegerType())\n",
    "    df = df.withColumn(\"churn\", fill_array_udf(col(\"userId\"), col(\"churn\")))\n",
    "    \n",
    "    # set column last ts with the first and the last event timestamp\n",
    "    w = Window.partitionBy('userId')\n",
    "    df = df.withColumn('last_ts', max('ts').over(w))\n",
    "    df = df.withColumn('first_ts', min('ts').over(w))\n",
    "    \n",
    "    # convert timestamp to date (string)\n",
    "    def get_date_from_ts(ts):\n",
    "        return str(datetime.utcfromtimestamp(ts / 1000).strftime('%Y-%m-%d'))\n",
    "    \n",
    "    get_date_from_ts_udf = udf(get_date_from_ts, StringType())\n",
    "    df = df.withColumn('last_date', get_date_from_ts_udf(col('last_ts')))\n",
    "    df = df.withColumn('first_date', get_date_from_ts_udf(col('first_ts')))\n",
    "    \n",
    "    # add column date and convert timetamp to date\n",
    "    df = df.withColumn('date', get_date_from_ts_udf(col('ts')))\n",
    "    \n",
    "    # set column last_level to level when timestamp is last timestamp\n",
    "    df = df.withColumn('last_level',when(df.last_ts == df.ts, df.level))\n",
    "    \n",
    "    # create column avg_songs to calculate average number of songs per day\n",
    "    w = Window.partitionBy('userId', 'date')\n",
    "    songs = df.where(df.page == 'NextSong').select('userId', 'date', count('userId').over(w).alias('songs')).distinct()\n",
    "    w = Window.partitionBy('userId')\n",
    "    songs = songs.withColumn('avg_songs', avg('songs').over(w))\n",
    "    songs = songs.select(col(\"userId\").alias(\"songs_userId\"), 'avg_songs')\n",
    "    songs = songs.withColumn(\"avg_songs\", round(songs[\"avg_songs\"], 2))\n",
    "    \n",
    "    # create column avg_songs to calculate average number of events per day\n",
    "    w = Window.partitionBy('userId', 'date')\n",
    "    events = df.select('userId', 'date', count('userId').over(w).alias('events')).distinct()\n",
    "    w = Window.partitionBy('userId')\n",
    "    events = events.withColumn('avg_events', avg('events').over(w))\n",
    "    events = events.select(col(\"userId\").alias(\"events_userId\"), 'avg_events')\n",
    "    events = events.withColumn(\"avg_events\", round(events[\"avg_events\"], 2))\n",
    "    \n",
    "    # calculate number of thumbs up for a user\n",
    "    w = Window.partitionBy('userId')\n",
    "    thumbsup = df.where(df.page == 'Thumbs Up').select('userId', count('userId').over(w).alias('thumbs_up')).distinct()\n",
    "    thumbsup = thumbsup.select(col(\"userId\").alias(\"thumbsup_userId\"), 'thumbs_up')\n",
    "    \n",
    "    # calculate number of thumbs down for a user\n",
    "    w = Window.partitionBy('userId')\n",
    "    thumbsdown = df.where(df.page == 'Thumbs Down').select('userId', count('userId').over(w).alias('thumbs_down')).distinct()\n",
    "    thumbsdown = thumbsdown.select(col(\"userId\").alias(\"thumbsdown_userId\"), 'thumbs_down')\n",
    "    \n",
    "    # calculate days since the date of the first event\n",
    "    df = df.withColumn(\"days_active\", \n",
    "              datediff(to_date(lit(datetime.now().strftime(\"%Y-%m-%d %H:%M\"))),\n",
    "                       to_date(\"first_date\",\"yyyy-MM-dd\")))\n",
    "    \n",
    "    # add column with state of the event based on location column\n",
    "    def get_state(location):\n",
    "        location = location.split(',')[-1].strip()\n",
    "        if (len(location) > 2):\n",
    "            location = location.split('-')[-1].strip()\n",
    "    \n",
    "        return location\n",
    "    \n",
    "    get_state_udf = udf(get_state, StringType())\n",
    "    df = df.withColumn('state', get_state_udf(col('location')))\n",
    "    \n",
    "    #add column with last location of the user\n",
    "    df = df.withColumn('last_state',when(df.last_ts == df.ts, df.state))\n",
    "    \n",
    "    # calculate number of add friends for a user\n",
    "    w = Window.partitionBy('userId')\n",
    "    addfriend = df.where(df.page == 'Add Friend').select('userId', count('userId').over(w).alias('addfriend')).distinct()\n",
    "    addfriend = addfriend.select(col(\"userId\").alias(\"addfriend_userId\"), 'addfriend')\n",
    "\n",
    "    # assemble everything into resulting dataset\n",
    "    df_ml = df.select('userId', 'gender', 'churn', 'last_level', 'days_active', 'last_state')\\\n",
    "    .dropna().drop_duplicates()\n",
    "    df_ml = df_ml.join(songs, df_ml.userId == songs.songs_userId).distinct()\n",
    "    df_ml = df_ml.join(events, df_ml.userId == events.events_userId).distinct()\n",
    "    df_ml = df_ml.join(thumbsup, df_ml.userId == thumbsup.thumbsup_userId, how='left').distinct()\n",
    "    df_ml = df_ml.fillna(0, subset=['thumbs_up'])\n",
    "    df_ml = df_ml.join(thumbsdown, df_ml.userId == thumbsdown.thumbsdown_userId, how='left').distinct()\n",
    "    df_ml = df_ml.fillna(0, subset=['thumbs_down'])\n",
    "    df_ml = df_ml.join(addfriend, df_ml.userId == addfriend.addfriend_userId, how='left').distinct()\n",
    "    df_ml = df_ml.fillna(0, subset=['addfriend'])\n",
    "    df_ml = df_ml.drop('songs_userId','events_userId', 'thumbsup_userId', 'thumbsdown_userId', 'addfriend_userId')\n",
    "    \n",
    "    return df, df_ml\n",
    "    \n",
    "df_medium = spark.read.json(cos.url('medium-sparkify-event-data.json', 'sparkly-donotdelete-pr-xd5vv9g8psteli'))\n",
    "df_medium.persist()\n",
    "\n",
    "df_medium, df_ml = prepare_dataset(df_medium)"
   ]
  },
  {
   "cell_type": "code",
   "execution_count": 43,
   "metadata": {},
   "outputs": [
    {
     "data": {
      "text/plain": [
       "Row(userId='100010', gender='F', churn=1, last_level='free', days_active=182, last_state='CT', avg_songs=48.0, avg_events=68.5, thumbs_up=4, thumbs_down=3, addfriend=3)"
      ]
     },
     "execution_count": 43,
     "metadata": {},
     "output_type": "execute_result"
    }
   ],
   "source": [
    "df_ml.head()"
   ]
  },
  {
   "cell_type": "code",
   "execution_count": 44,
   "metadata": {},
   "outputs": [
    {
     "name": "stdout",
     "output_type": "stream",
     "text": [
      "+------+------+-----+----------+-----------+----------+---------+----------+---------+-----------+---------+\n",
      "|userId|gender|churn|last_level|days_active|last_state|avg_songs|avg_events|thumbs_up|thumbs_down|addfriend|\n",
      "+------+------+-----+----------+-----------+----------+---------+----------+---------+-----------+---------+\n",
      "|100010|     F|    1|      free|        182|        CT|     48.0|      68.5|        4|          3|        3|\n",
      "|200002|     M|    1|      paid|        189|        WI|    51.67|     65.83|       15|          5|        2|\n",
      "|   296|     F|    1|      paid|        188|        NJ|     22.4|      30.4|        8|          0|        2|\n",
      "|   125|     M|    0|      free|        188|        TX|    20.67|      28.0|        3|          1|        3|\n",
      "|   124|     F|    1|      paid|        189|        NJ|    86.95|      98.0|      102|         15|       26|\n",
      "|    51|     M|    1|      paid|        189|        KY|    44.33|     54.67|       16|          1|        3|\n",
      "|     7|     M|    0|      free|        188|        WA|     30.8|      40.0|       12|          4|       16|\n",
      "|200037|     M|    1|      free|        182|        AL|    17.43|     22.14|        5|          3|        2|\n",
      "|   169|     M|    0|      free|        188|        IN|     14.0|     18.63|        6|          0|        6|\n",
      "|   205|     F|    0|      paid|        186|        IL|   116.44|    138.22|       50|         10|       21|\n",
      "|   272|     F|    0|      free|        174|        SC|     48.5|      65.5|        7|          4|        0|\n",
      "|    15|     M|    0|      paid|        181|        WV|    87.38|    103.48|       93|         16|       32|\n",
      "|   232|     F|    0|      paid|        189|        CA|    75.04|      93.0|       97|         17|       43|\n",
      "|   234|     M|    1|      paid|        188|        LA|    76.09|     87.87|       91|         22|       17|\n",
      "|   282|     M|    0|      paid|        189|        CA|    87.63|    102.94|      133|         29|       79|\n",
      "|    54|     F|    1|      paid|        189|        WA|    86.17|     104.0|       26|          7|       20|\n",
      "|   155|     F|    0|      paid|        178|        WI|     28.0|      34.4|        7|          0|        0|\n",
      "|200043|     F|    0|      paid|        188|        NH|    55.91|     67.33|       33|         22|       12|\n",
      "|100014|     M|    1|      paid|        187|        PA|     83.0|     101.5|       14|          3|        3|\n",
      "|   132|     F|    1|      paid|        188|        CO|     56.5|      72.0|        4|          1|        4|\n",
      "+------+------+-----+----------+-----------+----------+---------+----------+---------+-----------+---------+\n",
      "only showing top 20 rows\n",
      "\n"
     ]
    }
   ],
   "source": [
    "df_ml.show()"
   ]
  },
  {
   "cell_type": "code",
   "execution_count": 45,
   "metadata": {},
   "outputs": [
    {
     "data": {
      "text/plain": [
       "448"
      ]
     },
     "execution_count": 45,
     "metadata": {},
     "output_type": "execute_result"
    }
   ],
   "source": [
    "df_ml.count() # to check that there are still 448 users and we didn't miss anyone"
   ]
  },
  {
   "cell_type": "markdown",
   "metadata": {},
   "source": [
    "# Modeling"
   ]
  },
  {
   "cell_type": "markdown",
   "metadata": {},
   "source": [
    "## `1.` Split into Train, Test and Validations Sets:"
   ]
  },
  {
   "cell_type": "code",
   "execution_count": 8,
   "metadata": {},
   "outputs": [],
   "source": [
    "# split into train, test and validation sets (60% - 20% - 20%)\n",
    "df_ml = df_ml.withColumnRenamed(\"churn\", \"label\")\n",
    "\n",
    "train, test_valid = df_ml.randomSplit([0.6, 0.4], seed = 42)\n",
    "test, validation = test_valid.randomSplit([0.5, 0.5], seed = 42)"
   ]
  },
  {
   "cell_type": "markdown",
   "metadata": {},
   "source": [
    "## `2.` Create Machine Learning Pipelines:"
   ]
  },
  {
   "cell_type": "markdown",
   "metadata": {},
   "source": [
    " `2.1` Random Forest Classifier:"
   ]
  },
  {
   "cell_type": "code",
   "execution_count": 9,
   "metadata": {},
   "outputs": [],
   "source": [
    "# index and encode categorical features gender, level and state\n",
    "\n",
    "stringIndexerGender = StringIndexer(inputCol=\"gender\", outputCol=\"genderIndex\", handleInvalid = 'skip')\n",
    "stringIndexerLevel = StringIndexer(inputCol=\"last_level\", outputCol=\"levelIndex\", handleInvalid = 'skip')\n",
    "stringIndexerState = StringIndexer(inputCol=\"last_state\", outputCol=\"stateIndex\", handleInvalid = 'skip')\n",
    "\n",
    "encoder = OneHotEncoderEstimator(inputCols=[\"genderIndex\", \"levelIndex\", \"stateIndex\"],\n",
    "                                       outputCols=[\"genderVec\", \"levelVec\", \"stateVec\"],\n",
    "                                handleInvalid = 'keep')\n",
    "\n",
    "# create vector for features\n",
    "features = ['genderVec', 'levelVec', 'stateVec', 'days_active', 'avg_songs', 'avg_events', 'thumbs_up', 'thumbs_down', 'addfriend']\n",
    "assembler = VectorAssembler(inputCols=features, outputCol=\"features\")\n",
    "\n",
    "# initialize random forest classifier\n",
    "rf = RandomForestClassifier(labelCol=\"label\", featuresCol=\"features\", numTrees=10)\n",
    "\n",
    "# assemble pipeline\n",
    "pipeline = Pipeline(stages = [stringIndexerGender, stringIndexerLevel, stringIndexerState, encoder, assembler, rf])"
   ]
  },
  {
   "cell_type": "code",
   "execution_count": 48,
   "metadata": {},
   "outputs": [],
   "source": [
    "model = pipeline.fit(train)"
   ]
  },
  {
   "cell_type": "code",
   "execution_count": 49,
   "metadata": {},
   "outputs": [],
   "source": [
    "pred_train = model.transform(train)\n",
    "pred_test = model.transform(test)"
   ]
  },
  {
   "cell_type": "code",
   "execution_count": 50,
   "metadata": {},
   "outputs": [
    {
     "name": "stdout",
     "output_type": "stream",
     "text": [
      "F1 score on train dataset is 0.7885304659498208\n"
     ]
    }
   ],
   "source": [
    "predictionAndLabels = pred_train.rdd.map(lambda lp: (float(lp.prediction), float(lp.label)))\n",
    "\n",
    "# Instantiate metrics object\n",
    "metrics = MulticlassMetrics(predictionAndLabels)\n",
    "\n",
    "# Area under precision-recall curve\n",
    "print(\"F1 score on train dataset is %s\" % metrics.fMeasure())"
   ]
  },
  {
   "cell_type": "code",
   "execution_count": 51,
   "metadata": {},
   "outputs": [
    {
     "name": "stdout",
     "output_type": "stream",
     "text": [
      "F1 score on test dataset is 0.7708333333333334\n"
     ]
    }
   ],
   "source": [
    "predictionAndLabels = pred_test.rdd.map(lambda lp: (float(lp.prediction), float(lp.label)))\n",
    "\n",
    "# Instantiate metrics object\n",
    "metrics = MulticlassMetrics(predictionAndLabels)\n",
    "\n",
    "# Area under precision-recall curve\n",
    "print(\"F1 score on test dataset is %s\" % metrics.fMeasure())"
   ]
  },
  {
   "cell_type": "markdown",
   "metadata": {},
   "source": [
    "Try to tune hyperparameters for RF to optimize the results:"
   ]
  },
  {
   "cell_type": "code",
   "execution_count": 53,
   "metadata": {},
   "outputs": [],
   "source": [
    "paramGrid = ParamGridBuilder() \\\n",
    "    .addGrid(rf.numTrees, [10, 20, 30, 50, 100]) \\\n",
    "    .addGrid(rf.maxDepth, [3, 5, 10]) \\\n",
    "    .addGrid(rf.impurity, ['entropy', 'gini'])\\\n",
    "    .build()\n",
    "\n",
    "#featureSubsetStrategy: auto, all, onethird, sqrt, log2"
   ]
  },
  {
   "cell_type": "code",
   "execution_count": 54,
   "metadata": {},
   "outputs": [],
   "source": [
    "crossval = CrossValidator(estimator=pipeline,\n",
    "                          estimatorParamMaps=paramGrid,\n",
    "                          evaluator=MulticlassClassificationEvaluator(),\n",
    "                          numFolds=3)"
   ]
  },
  {
   "cell_type": "code",
   "execution_count": 55,
   "metadata": {},
   "outputs": [],
   "source": [
    "cvModel = crossval.fit(train)"
   ]
  },
  {
   "cell_type": "code",
   "execution_count": 56,
   "metadata": {},
   "outputs": [],
   "source": [
    "bestModel = cvModel.bestModel"
   ]
  },
  {
   "cell_type": "code",
   "execution_count": 57,
   "metadata": {},
   "outputs": [
    {
     "name": "stdout",
     "output_type": "stream",
     "text": [
      "F1 score on test dataset is 0.7916666666666666\n"
     ]
    }
   ],
   "source": [
    "pred_test = bestModel.transform(test)\n",
    "\n",
    "predictionAndLabels = pred_test.rdd.map(lambda lp: (float(lp.prediction), float(lp.label)))\n",
    "\n",
    "# Instantiate metrics object\n",
    "metrics = MulticlassMetrics(predictionAndLabels)\n",
    "\n",
    "# Area under precision-recall curve\n",
    "print(\"F1 score on test dataset is %s\" % metrics.fMeasure())"
   ]
  },
  {
   "cell_type": "code",
   "execution_count": 58,
   "metadata": {},
   "outputs": [],
   "source": [
    "# get the results of cross validation\n",
    "\n",
    "# get parameters\n",
    "params = [{p.name: v for p, v in m.items()} for m in cvModel.getEstimatorParamMaps()]\n",
    "\n",
    "# convert validation results to pandas dataframe\n",
    "validation_results = pd.DataFrame.from_dict([\n",
    "    {cvModel.getEvaluator().getMetricName(): metric, **ps} \n",
    "    for ps, metric in zip(params, cvModel.avgMetrics)\n",
    "])"
   ]
  },
  {
   "cell_type": "code",
   "execution_count": 59,
   "metadata": {},
   "outputs": [
    {
     "data": {
      "text/html": [
       "<div>\n",
       "<style scoped>\n",
       "    .dataframe tbody tr th:only-of-type {\n",
       "        vertical-align: middle;\n",
       "    }\n",
       "\n",
       "    .dataframe tbody tr th {\n",
       "        vertical-align: top;\n",
       "    }\n",
       "\n",
       "    .dataframe thead th {\n",
       "        text-align: right;\n",
       "    }\n",
       "</style>\n",
       "<table border=\"1\" class=\"dataframe\">\n",
       "  <thead>\n",
       "    <tr style=\"text-align: right;\">\n",
       "      <th></th>\n",
       "      <th>f1</th>\n",
       "      <th>impurity</th>\n",
       "      <th>maxDepth</th>\n",
       "      <th>numTrees</th>\n",
       "    </tr>\n",
       "  </thead>\n",
       "  <tbody>\n",
       "    <tr>\n",
       "      <th>0</th>\n",
       "      <td>0.662549</td>\n",
       "      <td>entropy</td>\n",
       "      <td>3</td>\n",
       "      <td>10</td>\n",
       "    </tr>\n",
       "    <tr>\n",
       "      <th>1</th>\n",
       "      <td>0.662549</td>\n",
       "      <td>entropy</td>\n",
       "      <td>3</td>\n",
       "      <td>20</td>\n",
       "    </tr>\n",
       "    <tr>\n",
       "      <th>2</th>\n",
       "      <td>0.656309</td>\n",
       "      <td>entropy</td>\n",
       "      <td>3</td>\n",
       "      <td>30</td>\n",
       "    </tr>\n",
       "    <tr>\n",
       "      <th>3</th>\n",
       "      <td>0.658230</td>\n",
       "      <td>entropy</td>\n",
       "      <td>3</td>\n",
       "      <td>50</td>\n",
       "    </tr>\n",
       "    <tr>\n",
       "      <th>4</th>\n",
       "      <td>0.658230</td>\n",
       "      <td>entropy</td>\n",
       "      <td>3</td>\n",
       "      <td>100</td>\n",
       "    </tr>\n",
       "    <tr>\n",
       "      <th>5</th>\n",
       "      <td>0.679658</td>\n",
       "      <td>entropy</td>\n",
       "      <td>5</td>\n",
       "      <td>10</td>\n",
       "    </tr>\n",
       "    <tr>\n",
       "      <th>6</th>\n",
       "      <td>0.660869</td>\n",
       "      <td>entropy</td>\n",
       "      <td>5</td>\n",
       "      <td>20</td>\n",
       "    </tr>\n",
       "    <tr>\n",
       "      <th>7</th>\n",
       "      <td>0.670172</td>\n",
       "      <td>entropy</td>\n",
       "      <td>5</td>\n",
       "      <td>30</td>\n",
       "    </tr>\n",
       "    <tr>\n",
       "      <th>8</th>\n",
       "      <td>0.656309</td>\n",
       "      <td>entropy</td>\n",
       "      <td>5</td>\n",
       "      <td>50</td>\n",
       "    </tr>\n",
       "    <tr>\n",
       "      <th>9</th>\n",
       "      <td>0.681985</td>\n",
       "      <td>entropy</td>\n",
       "      <td>5</td>\n",
       "      <td>100</td>\n",
       "    </tr>\n",
       "    <tr>\n",
       "      <th>10</th>\n",
       "      <td>0.694278</td>\n",
       "      <td>entropy</td>\n",
       "      <td>10</td>\n",
       "      <td>10</td>\n",
       "    </tr>\n",
       "    <tr>\n",
       "      <th>11</th>\n",
       "      <td>0.681047</td>\n",
       "      <td>entropy</td>\n",
       "      <td>10</td>\n",
       "      <td>20</td>\n",
       "    </tr>\n",
       "    <tr>\n",
       "      <th>12</th>\n",
       "      <td>0.687006</td>\n",
       "      <td>entropy</td>\n",
       "      <td>10</td>\n",
       "      <td>30</td>\n",
       "    </tr>\n",
       "    <tr>\n",
       "      <th>13</th>\n",
       "      <td>0.694433</td>\n",
       "      <td>entropy</td>\n",
       "      <td>10</td>\n",
       "      <td>50</td>\n",
       "    </tr>\n",
       "    <tr>\n",
       "      <th>14</th>\n",
       "      <td>0.685552</td>\n",
       "      <td>entropy</td>\n",
       "      <td>10</td>\n",
       "      <td>100</td>\n",
       "    </tr>\n",
       "    <tr>\n",
       "      <th>15</th>\n",
       "      <td>0.667091</td>\n",
       "      <td>gini</td>\n",
       "      <td>3</td>\n",
       "      <td>10</td>\n",
       "    </tr>\n",
       "    <tr>\n",
       "      <th>16</th>\n",
       "      <td>0.662549</td>\n",
       "      <td>gini</td>\n",
       "      <td>3</td>\n",
       "      <td>20</td>\n",
       "    </tr>\n",
       "    <tr>\n",
       "      <th>17</th>\n",
       "      <td>0.658230</td>\n",
       "      <td>gini</td>\n",
       "      <td>3</td>\n",
       "      <td>30</td>\n",
       "    </tr>\n",
       "    <tr>\n",
       "      <th>18</th>\n",
       "      <td>0.667091</td>\n",
       "      <td>gini</td>\n",
       "      <td>3</td>\n",
       "      <td>50</td>\n",
       "    </tr>\n",
       "    <tr>\n",
       "      <th>19</th>\n",
       "      <td>0.658230</td>\n",
       "      <td>gini</td>\n",
       "      <td>3</td>\n",
       "      <td>100</td>\n",
       "    </tr>\n",
       "    <tr>\n",
       "      <th>20</th>\n",
       "      <td>0.665163</td>\n",
       "      <td>gini</td>\n",
       "      <td>5</td>\n",
       "      <td>10</td>\n",
       "    </tr>\n",
       "    <tr>\n",
       "      <th>21</th>\n",
       "      <td>0.679451</td>\n",
       "      <td>gini</td>\n",
       "      <td>5</td>\n",
       "      <td>20</td>\n",
       "    </tr>\n",
       "    <tr>\n",
       "      <th>22</th>\n",
       "      <td>0.679451</td>\n",
       "      <td>gini</td>\n",
       "      <td>5</td>\n",
       "      <td>30</td>\n",
       "    </tr>\n",
       "    <tr>\n",
       "      <th>23</th>\n",
       "      <td>0.664816</td>\n",
       "      <td>gini</td>\n",
       "      <td>5</td>\n",
       "      <td>50</td>\n",
       "    </tr>\n",
       "    <tr>\n",
       "      <th>24</th>\n",
       "      <td>0.658230</td>\n",
       "      <td>gini</td>\n",
       "      <td>5</td>\n",
       "      <td>100</td>\n",
       "    </tr>\n",
       "    <tr>\n",
       "      <th>25</th>\n",
       "      <td>0.686072</td>\n",
       "      <td>gini</td>\n",
       "      <td>10</td>\n",
       "      <td>10</td>\n",
       "    </tr>\n",
       "    <tr>\n",
       "      <th>26</th>\n",
       "      <td>0.702805</td>\n",
       "      <td>gini</td>\n",
       "      <td>10</td>\n",
       "      <td>20</td>\n",
       "    </tr>\n",
       "    <tr>\n",
       "      <th>27</th>\n",
       "      <td>0.702399</td>\n",
       "      <td>gini</td>\n",
       "      <td>10</td>\n",
       "      <td>30</td>\n",
       "    </tr>\n",
       "    <tr>\n",
       "      <th>28</th>\n",
       "      <td>0.705275</td>\n",
       "      <td>gini</td>\n",
       "      <td>10</td>\n",
       "      <td>50</td>\n",
       "    </tr>\n",
       "    <tr>\n",
       "      <th>29</th>\n",
       "      <td>0.681550</td>\n",
       "      <td>gini</td>\n",
       "      <td>10</td>\n",
       "      <td>100</td>\n",
       "    </tr>\n",
       "  </tbody>\n",
       "</table>\n",
       "</div>"
      ],
      "text/plain": [
       "          f1 impurity  maxDepth  numTrees\n",
       "0   0.662549  entropy         3        10\n",
       "1   0.662549  entropy         3        20\n",
       "2   0.656309  entropy         3        30\n",
       "3   0.658230  entropy         3        50\n",
       "4   0.658230  entropy         3       100\n",
       "5   0.679658  entropy         5        10\n",
       "6   0.660869  entropy         5        20\n",
       "7   0.670172  entropy         5        30\n",
       "8   0.656309  entropy         5        50\n",
       "9   0.681985  entropy         5       100\n",
       "10  0.694278  entropy        10        10\n",
       "11  0.681047  entropy        10        20\n",
       "12  0.687006  entropy        10        30\n",
       "13  0.694433  entropy        10        50\n",
       "14  0.685552  entropy        10       100\n",
       "15  0.667091     gini         3        10\n",
       "16  0.662549     gini         3        20\n",
       "17  0.658230     gini         3        30\n",
       "18  0.667091     gini         3        50\n",
       "19  0.658230     gini         3       100\n",
       "20  0.665163     gini         5        10\n",
       "21  0.679451     gini         5        20\n",
       "22  0.679451     gini         5        30\n",
       "23  0.664816     gini         5        50\n",
       "24  0.658230     gini         5       100\n",
       "25  0.686072     gini        10        10\n",
       "26  0.702805     gini        10        20\n",
       "27  0.702399     gini        10        30\n",
       "28  0.705275     gini        10        50\n",
       "29  0.681550     gini        10       100"
      ]
     },
     "execution_count": 59,
     "metadata": {},
     "output_type": "execute_result"
    }
   ],
   "source": [
    "validation_results"
   ]
  },
  {
   "cell_type": "markdown",
   "metadata": {},
   "source": [
    " `2.2` Logistic Regression classifier:"
   ]
  },
  {
   "cell_type": "code",
   "execution_count": 10,
   "metadata": {},
   "outputs": [],
   "source": [
    "# initialize logistic regression\n",
    "lr = LogisticRegression(maxIter=10, regParam=0.3, elasticNetParam=0.8, family=\"multinomial\")\n",
    "\n",
    "# assemble pipeline\n",
    "pipeline = Pipeline(stages = [stringIndexerGender, stringIndexerLevel, stringIndexerState, encoder, assembler, lr])"
   ]
  },
  {
   "cell_type": "code",
   "execution_count": 11,
   "metadata": {},
   "outputs": [],
   "source": [
    "model = pipeline.fit(train)\n",
    "pred_train = model.transform(train)\n",
    "pred_test = model.transform(test)"
   ]
  },
  {
   "cell_type": "code",
   "execution_count": 12,
   "metadata": {},
   "outputs": [
    {
     "name": "stdout",
     "output_type": "stream",
     "text": [
      "F1 score on train dataset is 0.7598566308243727\n"
     ]
    }
   ],
   "source": [
    "predictionAndLabels = pred_train.rdd.map(lambda lp: (float(lp.prediction), float(lp.label)))\n",
    "\n",
    "# Instantiate metrics object\n",
    "metrics = MulticlassMetrics(predictionAndLabels)\n",
    "\n",
    "# F1 score\n",
    "print(\"F1 score on train dataset is %s\" % metrics.fMeasure())"
   ]
  },
  {
   "cell_type": "code",
   "execution_count": 13,
   "metadata": {},
   "outputs": [
    {
     "name": "stdout",
     "output_type": "stream",
     "text": [
      "F1 score on test dataset is 0.7708333333333334\n"
     ]
    }
   ],
   "source": [
    "predictionAndLabels = pred_test.rdd.map(lambda lp: (float(lp.prediction), float(lp.label)))\n",
    "\n",
    "# Instantiate metrics object\n",
    "metrics = MulticlassMetrics(predictionAndLabels)\n",
    "\n",
    "# F1 score\n",
    "print(\"F1 score on test dataset is %s\" % metrics.fMeasure())"
   ]
  },
  {
   "cell_type": "markdown",
   "metadata": {},
   "source": [
    "Try to tune hyperparameters for LR to optimize the results:"
   ]
  },
  {
   "cell_type": "code",
   "execution_count": 14,
   "metadata": {},
   "outputs": [],
   "source": [
    "paramGrid = ParamGridBuilder() \\\n",
    "    .addGrid(lr.maxIter, [10, 30, 50]) \\\n",
    "    .addGrid(lr.regParam, [0.1, 0.3]) \\\n",
    "    .addGrid(lr.elasticNetParam, [0.8])\\\n",
    "    .addGrid(lr.family, ['auto'])\\\n",
    "    .build()"
   ]
  },
  {
   "cell_type": "code",
   "execution_count": 15,
   "metadata": {},
   "outputs": [],
   "source": [
    "crossval = CrossValidator(estimator=pipeline,\n",
    "                          estimatorParamMaps=paramGrid,\n",
    "                          evaluator=MulticlassClassificationEvaluator(),\n",
    "                          numFolds=3)"
   ]
  },
  {
   "cell_type": "code",
   "execution_count": 16,
   "metadata": {},
   "outputs": [],
   "source": [
    "cvModel = crossval.fit(train)"
   ]
  },
  {
   "cell_type": "code",
   "execution_count": 17,
   "metadata": {},
   "outputs": [
    {
     "name": "stdout",
     "output_type": "stream",
     "text": [
      "F1 score on train dataset is 0.7598566308243727\n"
     ]
    }
   ],
   "source": [
    "bestModel = cvModel.bestModel\n",
    "\n",
    "predictionAndLabels = pred_train.rdd.map(lambda lp: (float(lp.prediction), float(lp.label)))\n",
    "\n",
    "# Instantiate metrics object\n",
    "metrics = MulticlassMetrics(predictionAndLabels)\n",
    "\n",
    "# F1 score\n",
    "print(\"F1 score on train dataset is %s\" % metrics.fMeasure())"
   ]
  },
  {
   "cell_type": "code",
   "execution_count": 18,
   "metadata": {},
   "outputs": [
    {
     "data": {
      "text/html": [
       "<div>\n",
       "<style scoped>\n",
       "    .dataframe tbody tr th:only-of-type {\n",
       "        vertical-align: middle;\n",
       "    }\n",
       "\n",
       "    .dataframe tbody tr th {\n",
       "        vertical-align: top;\n",
       "    }\n",
       "\n",
       "    .dataframe thead th {\n",
       "        text-align: right;\n",
       "    }\n",
       "</style>\n",
       "<table border=\"1\" class=\"dataframe\">\n",
       "  <thead>\n",
       "    <tr style=\"text-align: right;\">\n",
       "      <th></th>\n",
       "      <th>elasticNetParam</th>\n",
       "      <th>f1</th>\n",
       "      <th>family</th>\n",
       "      <th>maxIter</th>\n",
       "      <th>regParam</th>\n",
       "    </tr>\n",
       "  </thead>\n",
       "  <tbody>\n",
       "    <tr>\n",
       "      <th>0</th>\n",
       "      <td>0.8</td>\n",
       "      <td>0.662829</td>\n",
       "      <td>auto</td>\n",
       "      <td>10</td>\n",
       "      <td>0.1</td>\n",
       "    </tr>\n",
       "    <tr>\n",
       "      <th>1</th>\n",
       "      <td>0.8</td>\n",
       "      <td>0.662829</td>\n",
       "      <td>auto</td>\n",
       "      <td>30</td>\n",
       "      <td>0.1</td>\n",
       "    </tr>\n",
       "    <tr>\n",
       "      <th>2</th>\n",
       "      <td>0.8</td>\n",
       "      <td>0.662829</td>\n",
       "      <td>auto</td>\n",
       "      <td>50</td>\n",
       "      <td>0.1</td>\n",
       "    </tr>\n",
       "    <tr>\n",
       "      <th>3</th>\n",
       "      <td>0.8</td>\n",
       "      <td>0.662829</td>\n",
       "      <td>auto</td>\n",
       "      <td>10</td>\n",
       "      <td>0.3</td>\n",
       "    </tr>\n",
       "    <tr>\n",
       "      <th>4</th>\n",
       "      <td>0.8</td>\n",
       "      <td>0.662829</td>\n",
       "      <td>auto</td>\n",
       "      <td>30</td>\n",
       "      <td>0.3</td>\n",
       "    </tr>\n",
       "    <tr>\n",
       "      <th>5</th>\n",
       "      <td>0.8</td>\n",
       "      <td>0.662829</td>\n",
       "      <td>auto</td>\n",
       "      <td>50</td>\n",
       "      <td>0.3</td>\n",
       "    </tr>\n",
       "  </tbody>\n",
       "</table>\n",
       "</div>"
      ],
      "text/plain": [
       "   elasticNetParam        f1 family  maxIter  regParam\n",
       "0              0.8  0.662829   auto       10       0.1\n",
       "1              0.8  0.662829   auto       30       0.1\n",
       "2              0.8  0.662829   auto       50       0.1\n",
       "3              0.8  0.662829   auto       10       0.3\n",
       "4              0.8  0.662829   auto       30       0.3\n",
       "5              0.8  0.662829   auto       50       0.3"
      ]
     },
     "execution_count": 18,
     "metadata": {},
     "output_type": "execute_result"
    }
   ],
   "source": [
    "# get the results of cross validation\n",
    "\n",
    "# get parameters\n",
    "params = [{p.name: v for p, v in m.items()} for m in cvModel.getEstimatorParamMaps()]\n",
    "\n",
    "# convert validation results to pandas dataframe\n",
    "validation_results = pd.DataFrame.from_dict([\n",
    "    {cvModel.getEvaluator().getMetricName(): metric, **ps} \n",
    "    for ps, metric in zip(params, cvModel.avgMetrics)\n",
    "])\n",
    "\n",
    "validation_results"
   ]
  },
  {
   "cell_type": "markdown",
   "metadata": {},
   "source": [
    " `2.3` Gradient-boosted tree classifier:"
   ]
  },
  {
   "cell_type": "code",
   "execution_count": 19,
   "metadata": {},
   "outputs": [],
   "source": [
    "#GBTClassifier(self, featuresCol=\"features\", labelCol=\"label\", predictionCol=\"prediction\", maxDepth=5, maxBins=32, minInstancesPerNode=1, minInfoGain=0.0, maxMemoryInMB=256, cacheNodeIds=False, checkpointInterval=10, lossType=\"logistic\", maxIter=20, stepSize=0.1, seed=None, subsamplingRate=1.0)[source]\n",
    "\n",
    "gbt = GBTClassifier(labelCol=\"label\", featuresCol=\"features\", maxIter=10)\n",
    "\n",
    "# assemble pipeline\n",
    "pipeline = Pipeline(stages = [stringIndexerGender, stringIndexerLevel, stringIndexerState, encoder, assembler, gbt])"
   ]
  },
  {
   "cell_type": "code",
   "execution_count": 20,
   "metadata": {},
   "outputs": [],
   "source": [
    "model = pipeline.fit(train)\n",
    "pred_train = model.transform(train)\n",
    "pred_test = model.transform(test)"
   ]
  },
  {
   "cell_type": "code",
   "execution_count": 21,
   "metadata": {},
   "outputs": [
    {
     "name": "stdout",
     "output_type": "stream",
     "text": [
      "F1 score on train dataset is 0.953405017921147\n"
     ]
    }
   ],
   "source": [
    "predictionAndLabels = pred_train.rdd.map(lambda lp: (float(lp.prediction), float(lp.label)))\n",
    "\n",
    "# Instantiate metrics object\n",
    "metrics = MulticlassMetrics(predictionAndLabels)\n",
    "\n",
    "# F1 score\n",
    "print(\"F1 score on train dataset is %s\" % metrics.fMeasure())"
   ]
  },
  {
   "cell_type": "code",
   "execution_count": 22,
   "metadata": {},
   "outputs": [
    {
     "name": "stdout",
     "output_type": "stream",
     "text": [
      "F1 score on test dataset is 0.75\n"
     ]
    }
   ],
   "source": [
    "predictionAndLabels = pred_test.rdd.map(lambda lp: (float(lp.prediction), float(lp.label)))\n",
    "\n",
    "# Instantiate metrics object\n",
    "metrics = MulticlassMetrics(predictionAndLabels)\n",
    "\n",
    "# F1 score\n",
    "print(\"F1 score on test dataset is %s\" % metrics.fMeasure())"
   ]
  },
  {
   "cell_type": "markdown",
   "metadata": {},
   "source": [
    "Try to tune hyperparameters for GBT to optimize the results:"
   ]
  },
  {
   "cell_type": "code",
   "execution_count": 26,
   "metadata": {},
   "outputs": [],
   "source": [
    "paramGrid = ParamGridBuilder() \\\n",
    "    .addGrid(gbt.maxIter, [10, 20, 40]) \\\n",
    "    .addGrid(gbt.maxDepth, [2, 3, 5]) \\\n",
    "    .build()"
   ]
  },
  {
   "cell_type": "code",
   "execution_count": 27,
   "metadata": {},
   "outputs": [],
   "source": [
    "crossval = CrossValidator(estimator=pipeline,\n",
    "                          estimatorParamMaps=paramGrid,\n",
    "                          evaluator=MulticlassClassificationEvaluator(),\n",
    "                          numFolds=3)"
   ]
  },
  {
   "cell_type": "code",
   "execution_count": null,
   "metadata": {},
   "outputs": [],
   "source": [
    "cvModel = crossval.fit(train)"
   ]
  },
  {
   "cell_type": "code",
   "execution_count": null,
   "metadata": {},
   "outputs": [
    {
     "data": {
      "text/html": [
       "<div>\n",
       "<style scoped>\n",
       "    .dataframe tbody tr th:only-of-type {\n",
       "        vertical-align: middle;\n",
       "    }\n",
       "\n",
       "    .dataframe tbody tr th {\n",
       "        vertical-align: top;\n",
       "    }\n",
       "\n",
       "    .dataframe thead th {\n",
       "        text-align: right;\n",
       "    }\n",
       "</style>\n",
       "<table border=\"1\" class=\"dataframe\">\n",
       "  <thead>\n",
       "    <tr style=\"text-align: right;\">\n",
       "      <th></th>\n",
       "      <th>f1</th>\n",
       "      <th>maxDepth</th>\n",
       "      <th>maxIter</th>\n",
       "    </tr>\n",
       "  </thead>\n",
       "  <tbody>\n",
       "    <tr>\n",
       "      <th>0</th>\n",
       "      <td>0.679561</td>\n",
       "      <td>2</td>\n",
       "      <td>10</td>\n",
       "    </tr>\n",
       "    <tr>\n",
       "      <th>1</th>\n",
       "      <td>0.696031</td>\n",
       "      <td>3</td>\n",
       "      <td>10</td>\n",
       "    </tr>\n",
       "    <tr>\n",
       "      <th>2</th>\n",
       "      <td>0.691077</td>\n",
       "      <td>5</td>\n",
       "      <td>10</td>\n",
       "    </tr>\n",
       "    <tr>\n",
       "      <th>3</th>\n",
       "      <td>0.685216</td>\n",
       "      <td>2</td>\n",
       "      <td>20</td>\n",
       "    </tr>\n",
       "    <tr>\n",
       "      <th>4</th>\n",
       "      <td>0.686541</td>\n",
       "      <td>3</td>\n",
       "      <td>20</td>\n",
       "    </tr>\n",
       "    <tr>\n",
       "      <th>5</th>\n",
       "      <td>0.691844</td>\n",
       "      <td>5</td>\n",
       "      <td>20</td>\n",
       "    </tr>\n",
       "    <tr>\n",
       "      <th>6</th>\n",
       "      <td>0.698134</td>\n",
       "      <td>2</td>\n",
       "      <td>40</td>\n",
       "    </tr>\n",
       "    <tr>\n",
       "      <th>7</th>\n",
       "      <td>0.677590</td>\n",
       "      <td>3</td>\n",
       "      <td>40</td>\n",
       "    </tr>\n",
       "    <tr>\n",
       "      <th>8</th>\n",
       "      <td>0.692877</td>\n",
       "      <td>5</td>\n",
       "      <td>40</td>\n",
       "    </tr>\n",
       "  </tbody>\n",
       "</table>\n",
       "</div>"
      ],
      "text/plain": [
       "         f1  maxDepth  maxIter\n",
       "0  0.679561         2       10\n",
       "1  0.696031         3       10\n",
       "2  0.691077         5       10\n",
       "3  0.685216         2       20\n",
       "4  0.686541         3       20\n",
       "5  0.691844         5       20\n",
       "6  0.698134         2       40\n",
       "7  0.677590         3       40\n",
       "8  0.692877         5       40"
      ]
     },
     "execution_count": 29,
     "metadata": {},
     "output_type": "execute_result"
    }
   ],
   "source": [
    "# get the results of cross validation\n",
    "\n",
    "# get parameters\n",
    "params = [{p.name: v for p, v in m.items()} for m in cvModel.getEstimatorParamMaps()]\n",
    "\n",
    "# convert validation results to pandas dataframe\n",
    "validation_results = pd.DataFrame.from_dict([\n",
    "    {cvModel.getEvaluator().getMetricName(): metric, **ps} \n",
    "    for ps, metric in zip(params, cvModel.avgMetrics)\n",
    "])\n",
    "\n",
    "validation_results"
   ]
  },
  {
   "cell_type": "markdown",
   "metadata": {},
   "source": [
    " `2.4` Naive Bayes classifier:"
   ]
  },
  {
   "cell_type": "code",
   "execution_count": 150,
   "metadata": {},
   "outputs": [],
   "source": [
    "nb = NaiveBayes(smoothing=1.0, modelType=\"multinomial\")\n",
    "\n",
    "# assemble pipeline\n",
    "pipeline = Pipeline(stages = [stringIndexerGender, stringIndexerLevel, stringIndexerState, encoder, assembler, nb])"
   ]
  },
  {
   "cell_type": "code",
   "execution_count": 151,
   "metadata": {},
   "outputs": [],
   "source": [
    "model = pipeline.fit(train)\n",
    "pred_train = model.transform(train)\n",
    "pred_test = model.transform(test)"
   ]
  },
  {
   "cell_type": "code",
   "execution_count": 152,
   "metadata": {},
   "outputs": [
    {
     "name": "stdout",
     "output_type": "stream",
     "text": [
      "F1 score on train dataset is 0.44802867383512546\n"
     ]
    }
   ],
   "source": [
    "predictionAndLabels = pred_train.rdd.map(lambda lp: (float(lp.prediction), float(lp.label)))\n",
    "\n",
    "# Instantiate metrics object\n",
    "metrics = MulticlassMetrics(predictionAndLabels)\n",
    "\n",
    "# F1 score\n",
    "print(\"F1 score on train dataset is %s\" % metrics.fMeasure())"
   ]
  },
  {
   "cell_type": "code",
   "execution_count": 153,
   "metadata": {},
   "outputs": [
    {
     "name": "stdout",
     "output_type": "stream",
     "text": [
      "F1 score on test dataset is 0.5416666666666666\n"
     ]
    }
   ],
   "source": [
    "predictionAndLabels = pred_test.rdd.map(lambda lp: (float(lp.prediction), float(lp.label)))\n",
    "\n",
    "# Instantiate metrics object\n",
    "metrics = MulticlassMetrics(predictionAndLabels)\n",
    "\n",
    "# F1 score\n",
    "print(\"F1 score on test dataset is %s\" % metrics.fMeasure())"
   ]
  },
  {
   "cell_type": "markdown",
   "metadata": {},
   "source": [
    "Try to tune hyperparameters for NB to optimize the results:"
   ]
  },
  {
   "cell_type": "code",
   "execution_count": 154,
   "metadata": {},
   "outputs": [],
   "source": [
    "paramGrid = ParamGridBuilder() \\\n",
    "    .addGrid(nb.smoothing, [1.0, 0.5]) \\\n",
    "    .build()"
   ]
  },
  {
   "cell_type": "code",
   "execution_count": 155,
   "metadata": {},
   "outputs": [],
   "source": [
    "crossval = CrossValidator(estimator=pipeline,\n",
    "                          estimatorParamMaps=paramGrid,\n",
    "                          evaluator=MulticlassClassificationEvaluator(),\n",
    "                          numFolds=3)"
   ]
  },
  {
   "cell_type": "code",
   "execution_count": 156,
   "metadata": {},
   "outputs": [],
   "source": [
    "cvModel = crossval.fit(train)"
   ]
  },
  {
   "cell_type": "code",
   "execution_count": 157,
   "metadata": {},
   "outputs": [
    {
     "data": {
      "text/html": [
       "<div>\n",
       "<style scoped>\n",
       "    .dataframe tbody tr th:only-of-type {\n",
       "        vertical-align: middle;\n",
       "    }\n",
       "\n",
       "    .dataframe tbody tr th {\n",
       "        vertical-align: top;\n",
       "    }\n",
       "\n",
       "    .dataframe thead th {\n",
       "        text-align: right;\n",
       "    }\n",
       "</style>\n",
       "<table border=\"1\" class=\"dataframe\">\n",
       "  <thead>\n",
       "    <tr style=\"text-align: right;\">\n",
       "      <th></th>\n",
       "      <th>f1</th>\n",
       "      <th>smoothing</th>\n",
       "    </tr>\n",
       "  </thead>\n",
       "  <tbody>\n",
       "    <tr>\n",
       "      <th>0</th>\n",
       "      <td>0.492802</td>\n",
       "      <td>1.0</td>\n",
       "    </tr>\n",
       "    <tr>\n",
       "      <th>1</th>\n",
       "      <td>0.492669</td>\n",
       "      <td>0.5</td>\n",
       "    </tr>\n",
       "  </tbody>\n",
       "</table>\n",
       "</div>"
      ],
      "text/plain": [
       "         f1  smoothing\n",
       "0  0.492802        1.0\n",
       "1  0.492669        0.5"
      ]
     },
     "execution_count": 157,
     "metadata": {},
     "output_type": "execute_result"
    }
   ],
   "source": [
    "# get the results of cross validation\n",
    "\n",
    "# get parameters\n",
    "params = [{p.name: v for p, v in m.items()} for m in cvModel.getEstimatorParamMaps()]\n",
    "\n",
    "# convert validation results to pandas dataframe\n",
    "validation_results = pd.DataFrame.from_dict([\n",
    "    {cvModel.getEvaluator().getMetricName(): metric, **ps} \n",
    "    for ps, metric in zip(params, cvModel.avgMetrics)\n",
    "])\n",
    "\n",
    "validation_results"
   ]
  },
  {
   "cell_type": "markdown",
   "metadata": {},
   "source": [
    "`2.5` Compare model evaluation results:"
   ]
  },
  {
   "cell_type": "code",
   "execution_count": 6,
   "metadata": {},
   "outputs": [
    {
     "data": {
      "image/png": "[encoded data removed]",
      "text/plain": [
       "<Figure size 504x360 with 1 Axes>"
      ]
     },
     "metadata": {
      "needs_background": "light"
     },
     "output_type": "display_data"
    }
   ],
   "source": [
    "# plot diagram with model evaluation results\n",
    "\n",
    "models = ['RF', 'LG', 'GBT', 'NB']\n",
    "performance = [0.705275, 0.662829, 0.698134, 0.492669]\n",
    "\n",
    "fig, ax = plt.subplots(figsize=(7, 5))\n",
    "\n",
    "x_pos = np.arange(0, 4)\n",
    "\n",
    "ax.bar(x_pos, performance, tick_label = models)\n",
    "ax.set_title('Model evaluation')\n",
    "\n",
    "plt.ylim(0, 1)\n",
    "plt.show()"
   ]
  },
  {
   "cell_type": "markdown",
   "metadata": {},
   "source": [
    "## `3.` Use the Best Model on Validation Dataset"
   ]
  },
  {
   "cell_type": "code",
   "execution_count": 31,
   "metadata": {},
   "outputs": [
    {
     "name": "stdout",
     "output_type": "stream",
     "text": [
      "F1 score on validation dataset is 0.75\n"
     ]
    }
   ],
   "source": [
    "rf = RandomForestClassifier(labelCol=\"label\", featuresCol=\"features\", numTrees=50, impurity = 'gini', maxDepth = 10)\n",
    "\n",
    "pipeline = Pipeline(stages = [stringIndexerGender, stringIndexerLevel, stringIndexerState, encoder, assembler, rf])\n",
    "\n",
    "bestModel = pipeline.fit(train)\n",
    "\n",
    "pred_validation = bestModel.transform(validation)\n",
    "\n",
    "predictionAndLabels = pred_test.rdd.map(lambda lp: (float(lp.prediction), float(lp.label)))\n",
    "\n",
    "# Instantiate metrics object\n",
    "metrics = MulticlassMetrics(predictionAndLabels)\n",
    "\n",
    "# Area under precision-recall curve\n",
    "print(\"F1 score on validation dataset is %s\" % metrics.fMeasure())"
   ]
  },
  {
   "cell_type": "markdown",
   "metadata": {},
   "source": [
    "# Conclusion"
   ]
  },
  {
   "cell_type": "markdown",
   "metadata": {},
   "source": [
    "The best performance of 75% F1 score was achieved with Random Forest Classifier, but there are ways for the further improvement:\n",
    "1. Use the largest dataset. The more training data we have the more accurate model we can achieve.\n",
    "2. Try to think of more meaningful features. \n",
    "3. Use feature preprocessing like feature scaling to raise accuracy. This might help to raise accuracy of methods which rely on distance between points, like Naive Bayes classifier.\n",
    "4. Do more fine tuning of the hyperparameters.\n",
    "5. Perform model stacking: assemble several completely different models."
   ]
  }
 ],
 "metadata": {
  "kernelspec": {
   "display_name": "Python 3",
   "language": "python",
   "name": "python3"
  },
  "language_info": {
   "codemirror_mode": {
    "name": "ipython",
    "version": 3
   },
   "file_extension": ".py",
   "mimetype": "text/x-python",
   "name": "python",
   "nbconvert_exporter": "python",
   "pygments_lexer": "ipython3",
   "version": "3.6.8"
  }
 },
 "nbformat": 4,
 "nbformat_minor": 1
}
