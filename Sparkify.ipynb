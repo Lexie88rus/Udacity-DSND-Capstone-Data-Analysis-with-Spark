{
 "cells": [
  {
   "cell_type": "markdown",
   "metadata": {},
   "source": [
    "# Sparkify Project\n",
    "Analysis of `mini_sparkify_event_data.json` dataset which is a subset of the full dataset before using the full datastet."
   ]
  },
  {
   "cell_type": "code",
   "execution_count": 688,
   "metadata": {},
   "outputs": [],
   "source": [
    "# import general libraries for data manipulation and plotting\n",
    "import numpy as np\n",
    "import pandas as pd\n",
    "import matplotlib.pyplot as plt\n",
    "\n",
    "from datetime import datetime\n",
    "\n",
    "import re"
   ]
  },
  {
   "cell_type": "code",
   "execution_count": 975,
   "metadata": {},
   "outputs": [],
   "source": [
    "# import spark libraries\n",
    "from pyspark.sql import SparkSession\n",
    "\n",
    "from pyspark.ml.feature import StringIndexer, VectorAssembler, Normalizer, StandardScaler, MinMaxScaler\n",
    "from pyspark.ml.feature import OneHotEncoder, StringIndexer, OneHotEncoderEstimator\n",
    "from pyspark.sql.functions import udf\n",
    "from pyspark.sql.types import IntegerType\n",
    "from pyspark.sql.types import StringType, DateType\n",
    "from pyspark.sql.functions import to_date, datediff\n",
    "from pyspark.sql.functions import concat, lit, avg, split, isnan, when, count, col, sum, mean, stddev, min, max, round\n",
    "from pyspark.sql import Window\n",
    "\n",
    "from pyspark.ml.classification import LogisticRegression, GBTClassifier, NaiveBayes, RandomForestClassifier\n",
    "\n",
    "from pyspark.ml import Pipeline\n",
    "from pyspark.ml.evaluation import MulticlassClassificationEvaluator\n",
    "from pyspark.ml.tuning import CrossValidator, ParamGridBuilder\n",
    "\n",
    "from pyspark.mllib.evaluation import BinaryClassificationMetrics, MulticlassMetrics\n",
    "from pyspark.mllib.util import MLUtils"
   ]
  },
  {
   "cell_type": "code",
   "execution_count": 677,
   "metadata": {},
   "outputs": [],
   "source": [
    "# create a Spark session\n",
    "spark = SparkSession.builder \\\n",
    "    .master(\"local\") \\\n",
    "    .appName(\"Sparkify\") \\\n",
    "    .getOrCreate()"
   ]
  },
  {
   "cell_type": "markdown",
   "metadata": {},
   "source": [
    "# Load and Clean Dataset\n",
    "Load and clean dataset `mini_sparkify_event_data.json`, checking for invalid or missing data."
   ]
  },
  {
   "cell_type": "markdown",
   "metadata": {},
   "source": [
    "## Load Dataset"
   ]
  },
  {
   "cell_type": "code",
   "execution_count": 1014,
   "metadata": {},
   "outputs": [],
   "source": [
    "mini_sparkify_event_data = 'mini_sparkify_event_data.json'"
   ]
  },
  {
   "cell_type": "code",
   "execution_count": 1015,
   "metadata": {},
   "outputs": [
    {
     "data": {
      "text/plain": [
       "DataFrame[artist: string, auth: string, firstName: string, gender: string, itemInSession: bigint, lastName: string, length: double, level: string, location: string, method: string, page: string, registration: bigint, sessionId: bigint, song: string, status: bigint, ts: bigint, userAgent: string, userId: string]"
      ]
     },
     "execution_count": 1015,
     "metadata": {},
     "output_type": "execute_result"
    }
   ],
   "source": [
    "df = spark.read.json(mini_sparkify_event_data)\n",
    "df.persist()"
   ]
  },
  {
   "cell_type": "markdown",
   "metadata": {},
   "source": [
    "## Clean Dataset"
   ]
  },
  {
   "cell_type": "markdown",
   "metadata": {},
   "source": [
    "`1.` Check for missing values:"
   ]
  },
  {
   "cell_type": "code",
   "execution_count": 1016,
   "metadata": {
    "scrolled": true
   },
   "outputs": [],
   "source": [
    "# find number of missing values in dataset columns\n",
    "columns = df.describe().columns[1:]\n",
    "empy_vals = {}\n",
    "for column in columns:\n",
    "    # check for both nan and null values\n",
    "    empy_vals[column] = (df.select(['userId']).where(isnan(df[column]) | df[column].isNull()).count())"
   ]
  },
  {
   "cell_type": "code",
   "execution_count": 1017,
   "metadata": {},
   "outputs": [
    {
     "data": {
      "image/png": "[encoded data removed]",
      "text/plain": [
       "<Figure size 720x504 with 1 Axes>"
      ]
     },
     "metadata": {
      "needs_background": "light"
     },
     "output_type": "display_data"
    }
   ],
   "source": [
    "# plot the results with matplotlib\n",
    "\n",
    "fig, ax = plt.subplots(figsize=(10, 7))  \n",
    "\n",
    "width = 0.75 # the width of the bars \n",
    "ind = np.arange(len(empy_vals))  # the x locations for the groups\n",
    "ax.barh(ind, list(empy_vals.values()), width)\n",
    "ax.set_yticks(ind+width/2)\n",
    "ax.set_yticklabels(list(empy_vals.keys()), minor=False)\n",
    "\n",
    "for i, v in enumerate(list(empy_vals.values())):\n",
    "    ax.text(v + 3, i + .25, str(v))\n",
    "\n",
    "plt.title('Number of empty values per column')\n",
    "plt.xlabel('Columns')\n",
    "plt.ylabel('Number of empty values')      \n",
    "\n",
    "plt.show()"
   ]
  },
  {
   "cell_type": "markdown",
   "metadata": {},
   "source": [
    "We see that there are exactly the same numbers of missing values for some of the columns. This may mean that some columns are not filled in for specific kind of events. Let's explore our dataset to prove this:"
   ]
  },
  {
   "cell_type": "code",
   "execution_count": 88,
   "metadata": {},
   "outputs": [
    {
     "name": "stdout",
     "output_type": "stream",
     "text": [
      "+------+-----+---------+------------+--------+---------+--------+------+----+------+------+\n",
      "|userId| page|userAgent|registration|location|firstName|lastName|gender|song|length|artist|\n",
      "+------+-----+---------+------------+--------+---------+--------+------+----+------+------+\n",
      "|      | Home|     null|        null|    null|     null|    null|  null|null|  null|  null|\n",
      "|      | Help|     null|        null|    null|     null|    null|  null|null|  null|  null|\n",
      "|      | Home|     null|        null|    null|     null|    null|  null|null|  null|  null|\n",
      "|      |Login|     null|        null|    null|     null|    null|  null|null|  null|  null|\n",
      "|      | Home|     null|        null|    null|     null|    null|  null|null|  null|  null|\n",
      "|      |Login|     null|        null|    null|     null|    null|  null|null|  null|  null|\n",
      "|      |Login|     null|        null|    null|     null|    null|  null|null|  null|  null|\n",
      "|      |Login|     null|        null|    null|     null|    null|  null|null|  null|  null|\n",
      "|      | Home|     null|        null|    null|     null|    null|  null|null|  null|  null|\n",
      "|      |Login|     null|        null|    null|     null|    null|  null|null|  null|  null|\n",
      "|      | Home|     null|        null|    null|     null|    null|  null|null|  null|  null|\n",
      "|      | Home|     null|        null|    null|     null|    null|  null|null|  null|  null|\n",
      "|      |Login|     null|        null|    null|     null|    null|  null|null|  null|  null|\n",
      "|      | Home|     null|        null|    null|     null|    null|  null|null|  null|  null|\n",
      "|      |About|     null|        null|    null|     null|    null|  null|null|  null|  null|\n",
      "|      | Home|     null|        null|    null|     null|    null|  null|null|  null|  null|\n",
      "|      | Home|     null|        null|    null|     null|    null|  null|null|  null|  null|\n",
      "|      |Login|     null|        null|    null|     null|    null|  null|null|  null|  null|\n",
      "|      | Home|     null|        null|    null|     null|    null|  null|null|  null|  null|\n",
      "|      | Home|     null|        null|    null|     null|    null|  null|null|  null|  null|\n",
      "+------+-----+---------+------------+--------+---------+--------+------+----+------+------+\n",
      "only showing top 20 rows\n",
      "\n"
     ]
    }
   ],
   "source": [
    "# select columns with 8346 empty values\n",
    "df.select(['userId','page', 'userAgent', 'registration', 'location', \\\n",
    "           'firstName', 'lastName', 'gender', 'song', 'length', 'artist']) \\\n",
    ".where(isnan(df['firstName']) | df['firstName'].isNull()).show()"
   ]
  },
  {
   "cell_type": "code",
   "execution_count": 95,
   "metadata": {},
   "outputs": [
    {
     "name": "stdout",
     "output_type": "stream",
     "text": [
      "+------+-----+\n",
      "|userId|count|\n",
      "+------+-----+\n",
      "|      | 8346|\n",
      "+------+-----+\n",
      "\n"
     ]
    }
   ],
   "source": [
    "# select userIds correponding to missing values in page, userAgent, registration\n",
    "# location, firstName, lastName, gender columns\n",
    "\n",
    "df.select(['userId']).where(df['firstName'].isNull() & df['userAgent'].isNull() & df['registration'].isNull() \\\n",
    "                            & df['location'].isNull() & df['lastName'].isNull() & df['gender'].isNull())\\\n",
    ".groupby('userId').count().show()"
   ]
  },
  {
   "cell_type": "markdown",
   "metadata": {},
   "source": [
    "So we see that rows with empty `userId`, which correspond to users, who are not signed in, have null values for `userAgent, registration, location, firstName, lastName, gender, song, length and artist` columns."
   ]
  },
  {
   "cell_type": "markdown",
   "metadata": {},
   "source": [
    "Other rows with empty `song, artist and length` columns probably correspond to other events, which are not related to listening to music, for example, upgrade or downgrade events. Let's look closer at the `page` column values corresponding to rows with empty `song, artist and length` columns."
   ]
  },
  {
   "cell_type": "code",
   "execution_count": 91,
   "metadata": {},
   "outputs": [
    {
     "name": "stdout",
     "output_type": "stream",
     "text": [
      "+--------+------+\n",
      "|    page| count|\n",
      "+--------+------+\n",
      "|NextSong|228108|\n",
      "+--------+------+\n",
      "\n"
     ]
    }
   ],
   "source": [
    "# select page column values where song, artist and length columns are not null\n",
    "df.select(['page']).where(df['song'].isNotNull() & df['length'].isNotNull() & df['artist'].isNotNull())\\\n",
    ".groupby('page').count().show()"
   ]
  },
  {
   "cell_type": "markdown",
   "metadata": {},
   "source": [
    "We see that `song, artist and length` columns are filled in only for `NextSong` event."
   ]
  },
  {
   "cell_type": "markdown",
   "metadata": {},
   "source": [
    "`2.` Check for empty strings in string type colums:"
   ]
  },
  {
   "cell_type": "code",
   "execution_count": 25,
   "metadata": {},
   "outputs": [],
   "source": [
    "# define list of string columns\n",
    "columns_str = ['artist', 'auth', 'firstName', \\\n",
    "               'gender', 'lastName', 'level', 'location', 'method', 'page', 'song', 'userAgent', 'userId']"
   ]
  },
  {
   "cell_type": "code",
   "execution_count": 34,
   "metadata": {},
   "outputs": [],
   "source": [
    "# for each column with type string find number of empty string values\n",
    "empy_str_vals = []\n",
    "for column in columns_str:\n",
    "    empy_str_vals.append(df.select(['userId']).where(df[column] == '').count())"
   ]
  },
  {
   "cell_type": "code",
   "execution_count": 52,
   "metadata": {},
   "outputs": [
    {
     "data": {
      "image/png": "[encoded data removed]",
      "text/plain": [
       "<Figure size 432x288 with 1 Axes>"
      ]
     },
     "metadata": {
      "needs_background": "light"
     },
     "output_type": "display_data"
    }
   ],
   "source": [
    "# plot the results with matplotlib\n",
    "\n",
    "fig, ax = plt.subplots()    \n",
    "width = 0.75 # the width of the bars \n",
    "ind = np.arange(len(empy_str_vals))  # the x locations for the groups\n",
    "ax.barh(ind, empy_str_vals, width)\n",
    "ax.set_yticks(ind+width/2)\n",
    "ax.set_yticklabels(columns_str, minor=False)\n",
    "\n",
    "plt.title('Number of empty string values per column')\n",
    "plt.xlabel('Columns')\n",
    "plt.ylabel('Number of empty string values')      \n",
    "\n",
    "plt.show()"
   ]
  },
  {
   "cell_type": "markdown",
   "metadata": {},
   "source": [
    "As we can see there are __empty string values in `userId` column__, which correspond to the users who are not signed in. As our task is to predict customer churn, we can __remove those records from the analysis__."
   ]
  },
  {
   "cell_type": "markdown",
   "metadata": {},
   "source": [
    "`3.` Check for invalid values in numeric columns:"
   ]
  },
  {
   "cell_type": "code",
   "execution_count": 57,
   "metadata": {},
   "outputs": [
    {
     "name": "stdout",
     "output_type": "stream",
     "text": [
      "+-------+------------------+------------------+-----------------+--------------------+\n",
      "|summary|     itemInSession|            length|        sessionId|        registration|\n",
      "+-------+------------------+------------------+-----------------+--------------------+\n",
      "|  count|            286500|            228108|           286500|              278154|\n",
      "|   mean|114.41421291448516|249.11718197783478|1041.526554973822|1.535358834085557...|\n",
      "| stddev|129.76726201141113| 99.23517921058324|726.7762634630808|3.2913216163276587E9|\n",
      "|    min|                 0|           0.78322|                1|       1521380675000|\n",
      "|    max|              1321|        3024.66567|             2474|       1543247354000|\n",
      "+-------+------------------+------------------+-----------------+--------------------+\n",
      "\n"
     ]
    }
   ],
   "source": [
    "df.describe(['itemInSession', 'length', 'sessionId', 'registration']).show()"
   ]
  },
  {
   "cell_type": "code",
   "execution_count": 56,
   "metadata": {},
   "outputs": [
    {
     "name": "stdout",
     "output_type": "stream",
     "text": [
      "+-------+------------------+--------------------+\n",
      "|summary|            status|                  ts|\n",
      "+-------+------------------+--------------------+\n",
      "|  count|            286500|              286500|\n",
      "|   mean|210.05459685863875|1.540956889810471...|\n",
      "| stddev|31.505078488422033| 1.507543960823119E9|\n",
      "|    min|               200|       1538352117000|\n",
      "|    max|               404|       1543799476000|\n",
      "+-------+------------------+--------------------+\n",
      "\n"
     ]
    }
   ],
   "source": [
    "df.describe(['status', 'ts']).show()"
   ]
  },
  {
   "cell_type": "markdown",
   "metadata": {},
   "source": [
    "As we see numeric columns don't have any invalid values."
   ]
  },
  {
   "cell_type": "markdown",
   "metadata": {},
   "source": [
    "`4.` __Perform data cleaning__: the following function removes rows with empty `userId` from the dataset."
   ]
  },
  {
   "cell_type": "code",
   "execution_count": 680,
   "metadata": {},
   "outputs": [
    {
     "data": {
      "text/plain": [
       "Row(artist='Martha Tilston', auth='Logged In', firstName='Colin', gender='M', itemInSession=50, lastName='Freeman', length=277.89016, level='paid', location='Bakersfield, CA', method='PUT', page='NextSong', registration=1538173362000, sessionId=29, song='Rockpools', status=200, ts=1538352117000, userAgent='Mozilla/5.0 (Windows NT 6.1; WOW64; rv:31.0) Gecko/20100101 Firefox/31.0', userId='30')"
      ]
     },
     "execution_count": 680,
     "metadata": {},
     "output_type": "execute_result"
    }
   ],
   "source": [
    "def clean_data(df):\n",
    "    '''\n",
    "    Function which performs data cleaning of Sparkify dataset.\n",
    "    \n",
    "    INPUT: \n",
    "    df - pyspark dataframe containing Sparkify log events\n",
    "    \n",
    "    OUTPUT:\n",
    "    df_new - pyspark dataframe with removed rows with empty 'userId' column\n",
    "    '''\n",
    "    \n",
    "    # remove rows where userId is empty\n",
    "    df_new = df.filter(df[\"userId\"] != \"\")\n",
    "    \n",
    "    return df_new\n",
    "\n",
    "# clean data\n",
    "df = clean_data(df)\n",
    "\n",
    "# print out first line\n",
    "df.head()"
   ]
  },
  {
   "cell_type": "code",
   "execution_count": 426,
   "metadata": {},
   "outputs": [
    {
     "data": {
      "text/plain": [
       "278154"
      ]
     },
     "execution_count": 426,
     "metadata": {},
     "output_type": "execute_result"
    }
   ],
   "source": [
    "df.count() # we see that rows with empty userId are removed from df"
   ]
  },
  {
   "cell_type": "markdown",
   "metadata": {},
   "source": [
    "# Exploratory Data Analysis"
   ]
  },
  {
   "cell_type": "markdown",
   "metadata": {},
   "source": [
    "Exploratory data analysis for mini dataset, which is the subset of full dataset."
   ]
  },
  {
   "cell_type": "markdown",
   "metadata": {},
   "source": [
    "## 1. Preliminary Analysis"
   ]
  },
  {
   "cell_type": "markdown",
   "metadata": {},
   "source": [
    "Get summary for the dataset:"
   ]
  },
  {
   "cell_type": "code",
   "execution_count": 703,
   "metadata": {},
   "outputs": [
    {
     "name": "stdout",
     "output_type": "stream",
     "text": [
      "There are 278154 lines in the dataset.  Each line corresponds to an event for a user, who signed in.\n"
     ]
    }
   ],
   "source": [
    "print('There are {} lines in the dataset.  Each line corresponds to an event for a user, who signed in.'\\\n",
    "     .format(df.count()))"
   ]
  },
  {
   "cell_type": "code",
   "execution_count": 697,
   "metadata": {},
   "outputs": [
    {
     "name": "stdout",
     "output_type": "stream",
     "text": [
      "There are 225 unique users in the dataset.\n"
     ]
    }
   ],
   "source": [
    "print('There are {users} unique users in the dataset.'.format( users = df.select('userId').distinct().count()))"
   ]
  },
  {
   "cell_type": "markdown",
   "metadata": {},
   "source": [
    "Analyze categorical columns ('auth', 'gender', 'level', 'method', 'page'):"
   ]
  },
  {
   "cell_type": "code",
   "execution_count": 305,
   "metadata": {},
   "outputs": [
    {
     "data": {
      "image/png": "[encoded data removed]",
      "text/plain": [
       "<Figure size 720x504 with 5 Axes>"
      ]
     },
     "metadata": {
      "needs_background": "light"
     },
     "output_type": "display_data"
    }
   ],
   "source": [
    "# plot bar charts with number of events with respect to categorical values\n",
    "\n",
    "cat_columns = ['auth', 'gender', 'level', 'method']\n",
    "\n",
    "fig = plt.figure(figsize=(10, 7))\n",
    "st = fig.suptitle(\"Statistics of number of events for categorical column values\", fontsize=\"x-large\")\n",
    "\n",
    "grid = plt.GridSpec(2, 3, hspace=0.4, wspace=0.5)\n",
    "\n",
    "counter = 0\n",
    "for cat_column in cat_columns:\n",
    "    \n",
    "    value_counts = df.groupBy(cat_column).count().toPandas()\n",
    "    \n",
    "    trace_x = counter // 3\n",
    "    trace_y = counter % 3\n",
    "    \n",
    "    x_pos = np.arange(0, len(value_counts))\n",
    "    \n",
    "    hist_ax = fig.add_subplot(grid[trace_x, trace_y])\n",
    "    \n",
    "    hist_ax.bar(x_pos, value_counts['count'].values, tick_label = value_counts[cat_column].values)\n",
    "    \n",
    "    hist_ax.set_title(cat_column)\n",
    "    \n",
    "    counter += 1\n",
    "\n",
    "page_ax = fig.add_subplot(grid[1 , 1:])\n",
    "\n",
    "value_counts = df.groupBy('page').count().orderBy('count', ascending=False).toPandas()\n",
    "\n",
    "x_pos = np.arange(0, len(value_counts))\n",
    "\n",
    "page_ax.bar(x_pos, value_counts['count'].values, tick_label = value_counts['page'].values)\n",
    "\n",
    "page_ax.set_title('page')\n",
    "    \n",
    "for tick in page_ax.get_xticklabels():\n",
    "    tick.set_rotation(90)\n",
    "\n",
    "plt.show()"
   ]
  },
  {
   "cell_type": "markdown",
   "metadata": {},
   "source": [
    "The plot above shows us the following:\n",
    "1. The number of events for female users is slightly greater than for male users. However this may be true only for our small dataset which is the subset of the full dataset.\n",
    "2. The number of events for paid level accounts is approximately 4 times greater than the number of events for free level accounts.\n",
    "3. The most popular action is 'NextSong' which is not surprising for a music streaming service."
   ]
  },
  {
   "cell_type": "code",
   "execution_count": 344,
   "metadata": {},
   "outputs": [
    {
     "name": "stdout",
     "output_type": "stream",
     "text": [
      "There are 121 male and 104 female users in dataset.\n"
     ]
    }
   ],
   "source": [
    "# calculate the number of female and male users\n",
    "\n",
    "male = df.select('userId', 'gender').where(df.gender == 'M').groupBy('userId').count().agg(count(\"count\"))\n",
    "female = df.select('userId', 'gender').where(df.gender == 'F').groupBy('userId').count().agg(count(\"count\"))\n",
    "\n",
    "print('There are {male} male and {female} female users in dataset.'\\\n",
    "      .format(male = male.collect()[0][\"count(count)\"],\\\n",
    "             female = female.collect()[0][\"count(count)\"]))"
   ]
  },
  {
   "cell_type": "code",
   "execution_count": 348,
   "metadata": {},
   "outputs": [
    {
     "name": "stdout",
     "output_type": "stream",
     "text": [
      "There are 165 paid and 195 free accounts in dataset.\n"
     ]
    }
   ],
   "source": [
    "# calculate the number of paid and free accounts\n",
    "\n",
    "paid = df.select('userId', 'level').where(df.level == 'paid').groupBy('userId').count().agg(count(\"count\"))\n",
    "free = df.select('userId', 'level').where(df.level == 'free').groupBy('userId').count().agg(count(\"count\"))\n",
    "\n",
    "print('There are {paid} paid and {free} free accounts in dataset.'\\\n",
    "      .format(paid = paid.collect()[0][\"count(count)\"],\\\n",
    "             free = free.collect()[0][\"count(count)\"]))"
   ]
  },
  {
   "cell_type": "markdown",
   "metadata": {},
   "source": [
    "We see that the total number of accounts we calculated (165 + 195 = 360) is greater than total amount of users (121 + 104 = 225). This happened because one user can upgrade/downgrade his account, so when grouping by users we can get more records in total than the number of users."
   ]
  },
  {
   "cell_type": "code",
   "execution_count": 354,
   "metadata": {},
   "outputs": [
    {
     "data": {
      "image/png": "[encoded data removed]",
      "text/plain": [
       "<Figure size 504x216 with 2 Axes>"
      ]
     },
     "metadata": {
      "needs_background": "light"
     },
     "output_type": "display_data"
    }
   ],
   "source": [
    "#plot the results\n",
    "\n",
    "fig = plt.figure(figsize=(7, 3))\n",
    "st = fig.suptitle(\"Statistics for gender and level\")\n",
    "\n",
    "grid = plt.GridSpec(1, 2, hspace=0.4, wspace=0.7)\n",
    "\n",
    "x_pos = np.arange(0, 2)\n",
    "\n",
    "gender_ax = fig.add_subplot(grid[0 , 0])\n",
    "\n",
    "level_ax = fig.add_subplot(grid[0 , 1])\n",
    "\n",
    "gender_ax.bar(x_pos, [male.collect()[0][\"count(count)\"], female.collect()[0][\"count(count)\"]], \\\n",
    "              tick_label = ['male', 'female'])\n",
    "gender_ax.set_title('gender')\n",
    "\n",
    "level_ax.bar(x_pos, [paid.collect()[0][\"count(count)\"], free.collect()[0][\"count(count)\"]], \\\n",
    "              tick_label = ['paid', 'free'])\n",
    "level_ax.set_title('level')\n",
    "\n",
    "plt.show()"
   ]
  },
  {
   "cell_type": "markdown",
   "metadata": {},
   "source": [
    "The plot above tells us:\n",
    "1. There are slightly more male users in mini dataset. But compairing with the previous plot where we saw more events for female users, we can say that female users more actively use the service than male users.\n",
    "2. There are slightly more free accounts in mini dataset, but there are more events for paid users. This leads to a conclusion that users with paid accounts are more active using the service."
   ]
  },
  {
   "cell_type": "markdown",
   "metadata": {},
   "source": [
    "## 2. Define Churn"
   ]
  },
  {
   "cell_type": "markdown",
   "metadata": {},
   "source": [
    "Create a column `churn` to label users who cancelled subscription and and mark rows for the users, who cancelled subscription, with `churn = 1`."
   ]
  },
  {
   "cell_type": "code",
   "execution_count": 681,
   "metadata": {},
   "outputs": [],
   "source": [
    "# create column Churn and mark rows for the users, who cancelled subscription, with Churn = 1\n",
    "\n",
    "cancellation_event = udf(lambda x: 1 if x == \"Cancellation Confirmation\" else 0, IntegerType())\n",
    "# set churn = 1 for rows where page == 'Cancellation Confirmation'\n",
    "df = df.withColumn(\"churn\", cancellation_event(\"page\"))"
   ]
  },
  {
   "cell_type": "code",
   "execution_count": 682,
   "metadata": {},
   "outputs": [],
   "source": [
    "# get userId with churn == 1\n",
    "cancelled_users = df.select(['userId']).where(df.churn == 1).groupby('userId').count().toPandas()['userId'].values"
   ]
  },
  {
   "cell_type": "code",
   "execution_count": 683,
   "metadata": {},
   "outputs": [],
   "source": [
    "# set churn == 1 for all rows for users who cancelled their subscription\n",
    "\n",
    "# create udf, which sets churn of a row to 1 if userId is in cancelled_users list\n",
    "def fill_array(userId, features):\n",
    "    if(userId in cancelled_users): return 1\n",
    "    else : return 0\n",
    "\n",
    "fill_array_udf = udf(fill_array, IntegerType())\n",
    "\n",
    "df = df.withColumn(\"churn\", fill_array_udf(col(\"userId\"), col(\"churn\")))"
   ]
  },
  {
   "cell_type": "markdown",
   "metadata": {},
   "source": [
    "Demonstrate log of events for one of the users who cancelled subscription:"
   ]
  },
  {
   "cell_type": "code",
   "execution_count": 183,
   "metadata": {},
   "outputs": [
    {
     "data": {
      "text/html": [
       "<div>\n",
       "<style scoped>\n",
       "    .dataframe tbody tr th:only-of-type {\n",
       "        vertical-align: middle;\n",
       "    }\n",
       "\n",
       "    .dataframe tbody tr th {\n",
       "        vertical-align: top;\n",
       "    }\n",
       "\n",
       "    .dataframe thead th {\n",
       "        text-align: right;\n",
       "    }\n",
       "</style>\n",
       "<table border=\"1\" class=\"dataframe\">\n",
       "  <thead>\n",
       "    <tr style=\"text-align: right;\">\n",
       "      <th></th>\n",
       "      <th>userId</th>\n",
       "      <th>firstName</th>\n",
       "      <th>page</th>\n",
       "      <th>churn</th>\n",
       "    </tr>\n",
       "  </thead>\n",
       "  <tbody>\n",
       "    <tr>\n",
       "      <th>0</th>\n",
       "      <td>125</td>\n",
       "      <td>Mason</td>\n",
       "      <td>NextSong</td>\n",
       "      <td>1</td>\n",
       "    </tr>\n",
       "    <tr>\n",
       "      <th>1</th>\n",
       "      <td>125</td>\n",
       "      <td>Mason</td>\n",
       "      <td>NextSong</td>\n",
       "      <td>1</td>\n",
       "    </tr>\n",
       "    <tr>\n",
       "      <th>2</th>\n",
       "      <td>125</td>\n",
       "      <td>Mason</td>\n",
       "      <td>NextSong</td>\n",
       "      <td>1</td>\n",
       "    </tr>\n",
       "    <tr>\n",
       "      <th>3</th>\n",
       "      <td>125</td>\n",
       "      <td>Mason</td>\n",
       "      <td>NextSong</td>\n",
       "      <td>1</td>\n",
       "    </tr>\n",
       "    <tr>\n",
       "      <th>4</th>\n",
       "      <td>125</td>\n",
       "      <td>Mason</td>\n",
       "      <td>NextSong</td>\n",
       "      <td>1</td>\n",
       "    </tr>\n",
       "    <tr>\n",
       "      <th>5</th>\n",
       "      <td>125</td>\n",
       "      <td>Mason</td>\n",
       "      <td>NextSong</td>\n",
       "      <td>1</td>\n",
       "    </tr>\n",
       "    <tr>\n",
       "      <th>6</th>\n",
       "      <td>125</td>\n",
       "      <td>Mason</td>\n",
       "      <td>NextSong</td>\n",
       "      <td>1</td>\n",
       "    </tr>\n",
       "    <tr>\n",
       "      <th>7</th>\n",
       "      <td>125</td>\n",
       "      <td>Mason</td>\n",
       "      <td>NextSong</td>\n",
       "      <td>1</td>\n",
       "    </tr>\n",
       "    <tr>\n",
       "      <th>8</th>\n",
       "      <td>125</td>\n",
       "      <td>Mason</td>\n",
       "      <td>Roll Advert</td>\n",
       "      <td>1</td>\n",
       "    </tr>\n",
       "    <tr>\n",
       "      <th>9</th>\n",
       "      <td>125</td>\n",
       "      <td>Mason</td>\n",
       "      <td>Cancel</td>\n",
       "      <td>1</td>\n",
       "    </tr>\n",
       "    <tr>\n",
       "      <th>10</th>\n",
       "      <td>125</td>\n",
       "      <td>Mason</td>\n",
       "      <td>Cancellation Confirmation</td>\n",
       "      <td>1</td>\n",
       "    </tr>\n",
       "  </tbody>\n",
       "</table>\n",
       "</div>"
      ],
      "text/plain": [
       "   userId firstName                       page  churn\n",
       "0     125     Mason                   NextSong      1\n",
       "1     125     Mason                   NextSong      1\n",
       "2     125     Mason                   NextSong      1\n",
       "3     125     Mason                   NextSong      1\n",
       "4     125     Mason                   NextSong      1\n",
       "5     125     Mason                   NextSong      1\n",
       "6     125     Mason                   NextSong      1\n",
       "7     125     Mason                   NextSong      1\n",
       "8     125     Mason                Roll Advert      1\n",
       "9     125     Mason                     Cancel      1\n",
       "10    125     Mason  Cancellation Confirmation      1"
      ]
     },
     "execution_count": 183,
     "metadata": {},
     "output_type": "execute_result"
    }
   ],
   "source": [
    "df.select(['userId', 'firstName', 'page', 'churn']).where(df.userId == 125).toPandas()"
   ]
  },
  {
   "cell_type": "markdown",
   "metadata": {},
   "source": [
    "## 3. Explore Data"
   ]
  },
  {
   "cell_type": "markdown",
   "metadata": {},
   "source": [
    "Perform exploratory data analysis to observe the behavior for users who stayed vs users who churned."
   ]
  },
  {
   "cell_type": "markdown",
   "metadata": {},
   "source": [
    "`3.1` Explore number of users who churned vs number of users who stayed with the service:"
   ]
  },
  {
   "cell_type": "code",
   "execution_count": 304,
   "metadata": {},
   "outputs": [
    {
     "name": "stdout",
     "output_type": "stream",
     "text": [
      "The number of users who churned is 52\n",
      "The number of users who didn't cancel subscription is 173\n"
     ]
    }
   ],
   "source": [
    "# find the number of users who churned and who stayed\n",
    "churned_users = df.select('userId').where(df['churn'] == 1).groupBy('userId').count().count()\n",
    "stayed_users = df.select('userId').where(df['churn'] == 0).groupBy('userId').count().count()\n",
    "\n",
    "print('The number of users who churned is {}'.format(churned_users))\n",
    "print('The number of users who didn\\'t cancel subscription is {}'.format(stayed_users))"
   ]
  },
  {
   "cell_type": "markdown",
   "metadata": {},
   "source": [
    "We can see that __the dataset is imbalanced__: number of users who churned is approximately 3 times less than the number of users who stayed. That is why __accuracy is probably not the best metric to evaluate our future machine learning model__."
   ]
  },
  {
   "cell_type": "markdown",
   "metadata": {},
   "source": [
    "`3.2`  Explore number of events with respect to categorical columns for users who churned and for users who kept subscription:"
   ]
  },
  {
   "cell_type": "code",
   "execution_count": 383,
   "metadata": {},
   "outputs": [
    {
     "data": {
      "image/png": "[encoded data removed]",
      "text/plain": [
       "<Figure size 720x504 with 5 Axes>"
      ]
     },
     "metadata": {
      "needs_background": "light"
     },
     "output_type": "display_data"
    }
   ],
   "source": [
    "# plot bar charts with values of categorical values\n",
    "\n",
    "cat_columns = ['gender', 'level', 'method', 'auth']\n",
    "\n",
    "fig = plt.figure(figsize=(10, 7))\n",
    "st = fig.suptitle(\"Statistics of number of events for categorical column values\", fontsize=\"x-large\")\n",
    "\n",
    "grid = plt.GridSpec(2, 3, hspace=0.4, wspace=0.5)\n",
    "width = 0.35\n",
    "\n",
    "counter = 0\n",
    "for cat_column in cat_columns:\n",
    "    \n",
    "    trace_x = counter // 3\n",
    "    trace_y = counter % 3\n",
    "    \n",
    "    hist_ax = fig.add_subplot(grid[trace_x, trace_y])\n",
    "    \n",
    "    value_counts_ch = df.where(df['churn'] == 1).groupBy(cat_column).count().toPandas()\n",
    "    value_counts_st = df.where(df['churn'] == 0).groupBy(cat_column).count().toPandas()\n",
    "    \n",
    "    x_pos_ch = np.arange(0, len(value_counts_ch))\n",
    "    x_pos_st = np.arange(0, len(value_counts_st))\n",
    "        \n",
    "    p1 = hist_ax.bar(x_pos_ch, value_counts_ch['count'].values, width, \\\n",
    "                     tick_label = value_counts_ch[cat_column].values)\n",
    "    p2 = hist_ax.bar(x_pos_st + width, value_counts_st['count'].values, width, \\\n",
    "                     tick_label = value_counts_st[cat_column].values)\n",
    "    \n",
    "    hist_ax.set_title(cat_column)\n",
    "    hist_ax.set_xticks(x_pos + width / 2)\n",
    "    \n",
    "    hist_ax.legend((p1[0], p2[0]), ('Churn', 'Stay'))\n",
    "    \n",
    "    counter += 1\n",
    "\n",
    "page_ax = fig.add_subplot(grid[1 , 1:])\n",
    "\n",
    "value_counts_ch = df.where(df['churn'] == 1).groupBy('page').count().orderBy('count', ascending=False).toPandas()\n",
    "value_counts_st = df.where(df['churn'] == 0).groupBy('page').count().orderBy('count', ascending=False).toPandas()\n",
    "    \n",
    "x_pos_ch = np.arange(0, len(value_counts_ch))\n",
    "x_pos_st = np.arange(0, len(value_counts_st))\n",
    "\n",
    "p1 = page_ax.bar(x_pos_ch, value_counts_ch['count'].values, width, tick_label = value_counts_ch['page'].values)\n",
    "p2 = page_ax.bar(x_pos_st + width, value_counts_st['count'].values, width, \\\n",
    "                 tick_label = value_counts_st['page'].values)\n",
    "\n",
    "page_ax.legend((p1[0], p2[0]), ('Churn', 'Stay'))\n",
    "\n",
    "page_ax.set_title('page')\n",
    "    \n",
    "for tick in page_ax.get_xticklabels():\n",
    "    tick.set_rotation(90)\n",
    "\n",
    "plt.show()"
   ]
  },
  {
   "cell_type": "markdown",
   "metadata": {},
   "source": [
    "The plot above tells us the following:\n",
    "1. Despite the fact that there are more events for female than male users, number of events for churned male users is greater than for churned female users. That is why we can suppose that female users who churned are less active service users than those who stay with their subscription.\n",
    "2. For all other categorical features, we see that there more events for specific value there are in dataset, the more events for this specific value correspond to churned users. So we can't make any conclusion out of that regarding behaviour of churned users."
   ]
  },
  {
   "cell_type": "markdown",
   "metadata": {},
   "source": [
    "`3.3` Explore the gender of churned users and account level:"
   ]
  },
  {
   "cell_type": "code",
   "execution_count": 371,
   "metadata": {},
   "outputs": [
    {
     "name": "stdout",
     "output_type": "stream",
     "text": [
      "There are 32 male and 20 female users who churned in the dataset.\n"
     ]
    }
   ],
   "source": [
    "# calculate number of churned male and female users\n",
    "\n",
    "male = df.select('userId', 'gender', 'churn').where((df.gender == 'M') & (df.churn == 1))\\\n",
    ".groupBy('userId').count().agg(count(\"count\"))\n",
    "female = df.select('userId', 'gender').where((df.gender == 'F') & (df.churn == 1))\\\n",
    ".groupBy('userId').count().agg(count(\"count\"))\n",
    "\n",
    "male_ch = male.collect()[0][\"count(count)\"]\n",
    "female_ch = female.collect()[0][\"count(count)\"]\n",
    "\n",
    "print('There are {male} male and {female} female users who churned in the dataset.'\\\n",
    "      .format(male = male_ch, female = female_ch))"
   ]
  },
  {
   "cell_type": "code",
   "execution_count": 372,
   "metadata": {},
   "outputs": [
    {
     "name": "stdout",
     "output_type": "stream",
     "text": [
      "There are 89 male and 84 female users who didn't cancel their subscription in the dataset.\n"
     ]
    }
   ],
   "source": [
    "# calculate number of male and female users who didn't cancel their subscription\n",
    "\n",
    "male = df.select('userId', 'gender', 'churn').where((df.gender == 'M') & (df.churn == 0))\\\n",
    ".groupBy('userId').count().agg(count(\"count\"))\n",
    "female = df.select('userId', 'gender').where((df.gender == 'F') & (df.churn == 0))\\\n",
    ".groupBy('userId').count().agg(count(\"count\"))\n",
    "\n",
    "male_st = male.collect()[0][\"count(count)\"]\n",
    "female_st = female.collect()[0][\"count(count)\"]\n",
    "\n",
    "print('There are {male} male and {female} female users who didn\\'t cancel their subscription in the dataset.'\\\n",
    "      .format(male = male_st, female = female_st))"
   ]
  },
  {
   "cell_type": "code",
   "execution_count": 370,
   "metadata": {},
   "outputs": [
    {
     "name": "stdout",
     "output_type": "stream",
     "text": [
      "There are 36 paid and 46 free accounts related to churned users in the dataset.\n"
     ]
    }
   ],
   "source": [
    "# calculate the number of paid and free accounts related to churned users\n",
    "\n",
    "paid = df.select('userId', 'level').where((df.level == 'paid') & (df.churn == 1))\\\n",
    ".groupBy('userId').count().agg(count(\"count\"))\n",
    "free = df.select('userId', 'level').where((df.level == 'free') & (df.churn == 1))\\\n",
    ".groupBy('userId').count().agg(count(\"count\"))\n",
    "\n",
    "paid_ch = paid.collect()[0][\"count(count)\"]\n",
    "free_ch = free.collect()[0][\"count(count)\"]\n",
    "\n",
    "print('There are {paid} paid and {free} free accounts related to churned users in the dataset.'\\\n",
    "      .format(paid = paid_ch, free = free_ch))"
   ]
  },
  {
   "cell_type": "markdown",
   "metadata": {},
   "source": [
    "There are only 52 users, who churned, and having 82 (36 + 46) accounts related to churned users means that 30 of users had both paid and free account levels. "
   ]
  },
  {
   "cell_type": "code",
   "execution_count": 369,
   "metadata": {},
   "outputs": [
    {
     "name": "stdout",
     "output_type": "stream",
     "text": [
      "There are 129 paid and 149 free accounts related to users who didn't cancel their subscription in the dataset.\n"
     ]
    }
   ],
   "source": [
    "# calculate the number of paid and free accounts related to users who didn't cancel their subscription\n",
    "\n",
    "paid = df.select('userId', 'level').where((df.level == 'paid') & (df.churn == 0))\\\n",
    ".groupBy('userId').count().agg(count(\"count\"))\n",
    "free = df.select('userId', 'level').where((df.level == 'free') & (df.churn == 0))\\\n",
    ".groupBy('userId').count().agg(count(\"count\"))\n",
    "\n",
    "paid_st = paid.collect()[0][\"count(count)\"]\n",
    "free_st = free.collect()[0][\"count(count)\"]\n",
    "\n",
    "print('There are {paid} paid and {free} free accounts related to users who didn\\'t cancel their subscription in the dataset.'\\\n",
    "      .format(paid = paid_st,\\\n",
    "             free = free_st))"
   ]
  },
  {
   "cell_type": "code",
   "execution_count": 393,
   "metadata": {},
   "outputs": [
    {
     "data": {
      "image/png": "[encoded data removed]",
      "text/plain": [
       "<Figure size 504x360 with 2 Axes>"
      ]
     },
     "metadata": {
      "needs_background": "light"
     },
     "output_type": "display_data"
    }
   ],
   "source": [
    "# plot the results\n",
    "\n",
    "fig = plt.figure(figsize=(7, 5))\n",
    "st = fig.suptitle(\"Statistics for gender and level\")\n",
    "\n",
    "grid = plt.GridSpec(1, 2, hspace=0.4, wspace=0.7)\n",
    "\n",
    "x_pos = np.arange(0, 2)\n",
    "width = 0.35\n",
    "\n",
    "gender_ax = fig.add_subplot(grid[0 , 0])\n",
    "\n",
    "level_ax = fig.add_subplot(grid[0 , 1])\n",
    "\n",
    "g1 = gender_ax.bar(x_pos, [male_ch, female_ch], width, tick_label = ['male', 'female'])\n",
    "g2 = gender_ax.bar(x_pos + width, [male_st, female_st], width, tick_label = ['male', 'female'])\n",
    "\n",
    "gender_ax.set_title('gender')\n",
    "\n",
    "gender_ax.set_xticks(x_pos + width / 2)\n",
    "\n",
    "p1 = level_ax.bar(x_pos, [paid_ch, free_ch], width, tick_label = ['paid', 'free'])\n",
    "p2 = level_ax.bar(x_pos + width, [paid_st, free_st], width, tick_label = ['paid', 'free'])\n",
    "\n",
    "level_ax.legend((p1[0], p2[0]), ('Churn', 'Stay'), bbox_to_anchor=(1, 0.5))\n",
    "\n",
    "level_ax.set_title('level')\n",
    "level_ax.set_xticks(x_pos + width / 2)\n",
    "\n",
    "plt.show()"
   ]
  },
  {
   "cell_type": "code",
   "execution_count": 401,
   "metadata": {},
   "outputs": [
    {
     "name": "stdout",
     "output_type": "stream",
     "text": [
      "Percentage of female users who churned is 19.23%\n"
     ]
    }
   ],
   "source": [
    "print('Percentage of female users who churned is {:.2f}%'.format(100 * female_ch / (female_ch + female_st)))"
   ]
  },
  {
   "cell_type": "code",
   "execution_count": 400,
   "metadata": {},
   "outputs": [
    {
     "name": "stdout",
     "output_type": "stream",
     "text": [
      "Percentage of male users who churned is 26.45%\n"
     ]
    }
   ],
   "source": [
    "print('Percentage of male users who churned is {:.2f}%'.format(100* male_ch / (male_ch + male_st)))"
   ]
  },
  {
   "cell_type": "code",
   "execution_count": 405,
   "metadata": {},
   "outputs": [
    {
     "name": "stdout",
     "output_type": "stream",
     "text": [
      "Percentage of paid accounts related to users who churned 21.82%\n"
     ]
    }
   ],
   "source": [
    "print('Percentage of paid accounts related to users who churned {:.2f}%'.format(100 * paid_ch / (paid_ch + paid_st)))"
   ]
  },
  {
   "cell_type": "code",
   "execution_count": 404,
   "metadata": {},
   "outputs": [
    {
     "name": "stdout",
     "output_type": "stream",
     "text": [
      "Percentage of free accounts related to users who churned is 23.59%\n"
     ]
    }
   ],
   "source": [
    "print('Percentage of free accounts related to users who churned is {:.2f}%'.format(100 * free_ch / (free_ch + free_st)))"
   ]
  },
  {
   "cell_type": "markdown",
   "metadata": {},
   "source": [
    "From the plot above we learn that:\n",
    "1. There are less female users than male users and also fewer number of female users who churned.\n",
    "2. Percentage of male users who churned is greater than percentage of female users, who churned.\n",
    "3. Percentage of paid accounts related to users who churned is almost as the same as the percentage of free accounts related to users who churned."
   ]
  },
  {
   "cell_type": "markdown",
   "metadata": {},
   "source": [
    "`3.4` Explore average song length for users who churned vs users who stayed:"
   ]
  },
  {
   "cell_type": "code",
   "execution_count": 436,
   "metadata": {},
   "outputs": [
    {
     "name": "stdout",
     "output_type": "stream",
     "text": [
      "+------------------+------------------+\n",
      "|              mean|               std|\n",
      "+------------------+------------------+\n",
      "|248.63279564406176|102.38497717575473|\n",
      "+------------------+------------------+\n",
      "\n"
     ]
    }
   ],
   "source": [
    "# calculate average song length for the users who churned\n",
    "\n",
    "avg_length = df.where(df.churn == 1).select(\n",
    "    mean(col('length')).alias('mean'),\n",
    "    stddev(col('length')).alias('std')\n",
    ").show()"
   ]
  },
  {
   "cell_type": "code",
   "execution_count": 437,
   "metadata": {},
   "outputs": [
    {
     "name": "stdout",
     "output_type": "stream",
     "text": [
      "+------------------+----------------+\n",
      "|              mean|             std|\n",
      "+------------------+----------------+\n",
      "|249.20913538880765|98.6258830014687|\n",
      "+------------------+----------------+\n",
      "\n"
     ]
    }
   ],
   "source": [
    "# calculate average song length for the users who stayed\n",
    "\n",
    "avg_length = df.where(df.churn == 0).select(\n",
    "    mean(col('length')).alias('mean'),\n",
    "    stddev(col('length')).alias('std')\n",
    ").show()"
   ]
  },
  {
   "cell_type": "markdown",
   "metadata": {},
   "source": [
    "We see that average song length for users who churned is very close to the average song length for the other users."
   ]
  },
  {
   "cell_type": "markdown",
   "metadata": {},
   "source": [
    "`3.5`  Explore userAgent column:"
   ]
  },
  {
   "cell_type": "code",
   "execution_count": 686,
   "metadata": {},
   "outputs": [],
   "source": [
    "# create column for parsed agent\n",
    "def get_agent(agent):\n",
    "    agent = agent.split()[0]\n",
    "    return re.sub(r'[^\\w\\s]','',agent)\n",
    "    \n",
    "get_agent_udf = udf(get_agent, StringType())\n",
    "df = df.withColumn('agent', get_agent_udf(col('userAgent')))"
   ]
  },
  {
   "cell_type": "code",
   "execution_count": 689,
   "metadata": {
    "scrolled": true
   },
   "outputs": [
    {
     "name": "stdout",
     "output_type": "stream",
     "text": [
      "+---------+\n",
      "|    agent|\n",
      "+---------+\n",
      "|Mozilla50|\n",
      "+---------+\n",
      "\n"
     ]
    }
   ],
   "source": [
    "# select all agent values\n",
    "df.select('agent').distinct().show()"
   ]
  },
  {
   "cell_type": "markdown",
   "metadata": {},
   "source": [
    "We see that the 1st user agent is Mozilla for all users. So this column is not informative for mini dataset."
   ]
  },
  {
   "cell_type": "markdown",
   "metadata": {},
   "source": [
    "`3.6` Explore location column:"
   ]
  },
  {
   "cell_type": "code",
   "execution_count": 708,
   "metadata": {},
   "outputs": [],
   "source": [
    "# create column for state for each event\n",
    "\n",
    "def get_state(location):\n",
    "    location = location.split(',')[-1].strip()\n",
    "    if (len(location) > 2):\n",
    "        location = location.split('-')[-1].strip()\n",
    "    \n",
    "    return location\n",
    "    \n",
    "get_state_udf = udf(get_state, StringType())\n",
    "df = df.withColumn('state', get_state_udf(col('location')))"
   ]
  },
  {
   "cell_type": "code",
   "execution_count": 720,
   "metadata": {},
   "outputs": [
    {
     "data": {
      "image/png": "[encoded data removed]",
      "text/plain": [
       "<Figure size 720x360 with 1 Axes>"
      ]
     },
     "metadata": {
      "needs_background": "light"
     },
     "output_type": "display_data"
    }
   ],
   "source": [
    "# plot statistics for location of the events\n",
    "fig = plt.figure(figsize=(10,5))\n",
    "ax = fig.add_subplot(111)\n",
    "\n",
    "value_counts = df.groupBy('state').count().orderBy('count', ascending=False).toPandas()\n",
    "\n",
    "x_pos = np.arange(0, len(value_counts))\n",
    "\n",
    "ax.bar(x_pos, value_counts['count'].values, tick_label = value_counts['state'].values)\n",
    "\n",
    "ax.set_title('Location of the events (state)')\n",
    "    \n",
    "for tick in ax.get_xticklabels():\n",
    "    tick.set_rotation(90)\n",
    "\n",
    "plt.show()"
   ]
  },
  {
   "cell_type": "code",
   "execution_count": 971,
   "metadata": {},
   "outputs": [],
   "source": [
    "# calculate number of events for users who churned/stayed for each state\n",
    "\n",
    "value_counts_ch = df.where(df['churn'] == 1).groupBy('state').count().toPandas().sort_values('state')\n",
    "value_counts_st = df.where(df['churn'] == 0).groupBy('state').count().toPandas().sort_values('state')"
   ]
  },
  {
   "cell_type": "code",
   "execution_count": 972,
   "metadata": {},
   "outputs": [],
   "source": [
    "churn_states = value_counts_ch['state'].values.tolist()\n",
    "for state in value_counts_st['state'].values.tolist():\n",
    "    if state not in churn_states:\n",
    "        value_counts_ch = value_counts_ch.append({'state' : state, 'count' : 0}, ignore_index=True)\n",
    "        \n",
    "stay_states = value_counts_st['state'].values.tolist()\n",
    "for state in value_counts_ch['state'].values.tolist():\n",
    "    if state not in stay_states:\n",
    "        value_counts_st = value_counts_st.append({'state' : state, 'count' : 0}, ignore_index=True)"
   ]
  },
  {
   "cell_type": "code",
   "execution_count": 973,
   "metadata": {},
   "outputs": [
    {
     "data": {
      "image/png": "[encoded data removed]",
      "text/plain": [
       "<Figure size 720x360 with 1 Axes>"
      ]
     },
     "metadata": {
      "needs_background": "light"
     },
     "output_type": "display_data"
    }
   ],
   "source": [
    "# plot the results\n",
    "\n",
    "fig = plt.figure(figsize=(10, 5))\n",
    "ax = fig.add_subplot(111)\n",
    "\n",
    "st = fig.suptitle(\"Location of the events (state) for users who churned and stayed\")\n",
    "\n",
    "x_pos = np.arange(0, len(value_counts_st['count'].values))\n",
    "width = 0.35\n",
    "\n",
    "p1 = ax.bar(x_pos, value_counts_ch['count'].values.tolist(), width, tick_label = value_counts_ch['state'].values.tolist())\n",
    "p2 = ax.bar(x_pos + width, value_counts_st['count'].values.tolist(), width, tick_label = value_counts_st['state'].values.tolist())\n",
    "\n",
    "ax.legend((p1[0], p2[0]), ('Churn', 'Stay'), bbox_to_anchor=(1, 0.5))\n",
    "\n",
    "level_ax.set_title('level')\n",
    "ax.set_xticks(x_pos + width / 2)\n",
    "\n",
    "for tick in ax.get_xticklabels():\n",
    "    tick.set_rotation(90)\n",
    "\n",
    "plt.show()"
   ]
  },
  {
   "cell_type": "markdown",
   "metadata": {},
   "source": [
    "### `3.6` __Conclusions__:\n",
    "1. From the exploratory analysis above we learn that behavior of female users is different compairing to behavior of male users:\n",
    "    * Female users are more active: there are fewer female users, but there are more events related to female users.\n",
    "    * Percentage of male users who churned is greater than percentage of female users, who churned, so male users may be more likely to churn.\n",
    "2. Female users who churned have different behavior rather than other female users: female users whi churned are less active users of the service."
   ]
  },
  {
   "cell_type": "markdown",
   "metadata": {},
   "source": [
    "# Feature Engineering"
   ]
  },
  {
   "cell_type": "markdown",
   "metadata": {},
   "source": [
    "To predict whether the user is going to churn for each user we will extract the following features:\n",
    "* __gender__, because EDA showed us that male and female users may have different behavior;\n",
    "* __last level (paid or free)__, because we see that paid level users are more active and also may have different behavior;\n",
    "* __average events per day__ to see how active the user is in general;\n",
    "* __average songs per day__ to see how active the user is in listening to the music;\n",
    "* __number of thumbs up__ to see how satisfied the user is with the content of the service;\n",
    "* __number of thumbs down__ to see how satisfied the user is with the content of the service;\n",
    "* __days since the date of first event__ to see how long the user has already been using the service;\n",
    "* __last location (state)__ the popularity may vary depending on advertising in different regions;\n",
    "* __number of add friend events__ perhaps the user is less likely to churn if his friends are also subscribed to the service."
   ]
  },
  {
   "cell_type": "code",
   "execution_count": 974,
   "metadata": {},
   "outputs": [],
   "source": [
    "def prepare_dataset(df):\n",
    "    '''\n",
    "    Function for preparation of dataset for machine learning\n",
    "    INPUT:\n",
    "    df - initial dataset loaded from json file\n",
    "    \n",
    "    OUTPUT:\n",
    "    df_ml - new dataset prepared for machine learning\n",
    "    contains the following columns:\n",
    "    1. userId - initial id of the user\n",
    "    2. gender - user's gender\n",
    "    3. avg_events - average number of events per day for the user\n",
    "    4. avg_songs - average number of songs the user listens to per day\n",
    "    5. thumbs_up - number of thumbs up events\n",
    "    6. thumbs_down - number of thumbs down events\n",
    "    7. active_days - days since user's firts event\n",
    "    8. last_location - location of the last event\n",
    "    9. last_level - user's last level (paid or free)\n",
    "    10. addfriends - number of add friends events\n",
    "    '''\n",
    "    \n",
    "    # clean dataset using clean_data function\n",
    "    df = clean_data(df)\n",
    "    \n",
    "    # add 'churn' column to the original dataset\n",
    "    \n",
    "    # define cancellation udf\n",
    "    cancellation_event = udf(lambda x: 1 if x == \"Cancellation Confirmation\" else 0, IntegerType())\n",
    "    \n",
    "    # set churn = 1 for rows where page == 'Cancellation Confirmation'\n",
    "    df = df.withColumn(\"churn\", cancellation_event(\"page\"))\n",
    "    \n",
    "    # get userId with churn == 1\n",
    "    cancelled_users = df.select(['userId']).where(df.churn == 1).groupby('userId').count().toPandas()['userId'].values\n",
    "    \n",
    "    # create udf, which sets churn of a row to 1 if userId is in cancelled_users list\n",
    "    def fill_array(userId, features):\n",
    "        if(userId in cancelled_users): return 1\n",
    "        else : return 0\n",
    "    \n",
    "    # set churn == 1 for all rows for users who cancelled their subscription\n",
    "    fill_array_udf = udf(fill_array, IntegerType())\n",
    "    df = df.withColumn(\"churn\", fill_array_udf(col(\"userId\"), col(\"churn\")))\n",
    "    \n",
    "    # set column last ts with the first and the last event timestamp\n",
    "    w = Window.partitionBy('userId')\n",
    "    df = df.withColumn('last_ts', max('ts').over(w))\n",
    "    df = df.withColumn('first_ts', min('ts').over(w))\n",
    "    \n",
    "    # convert timestamp to date (string)\n",
    "    def get_date_from_ts(ts):\n",
    "        return str(datetime.utcfromtimestamp(ts / 1000).strftime('%Y-%m-%d'))\n",
    "    \n",
    "    get_date_from_ts_udf = udf(get_date_from_ts, StringType())\n",
    "    df = df.withColumn('last_date', get_date_from_ts_udf(col('last_ts')))\n",
    "    df = df.withColumn('first_date', get_date_from_ts_udf(col('first_ts')))\n",
    "    \n",
    "    # add column date and convert timetamp to date\n",
    "    df = df.withColumn('date', get_date_from_ts_udf(col('ts')))\n",
    "    \n",
    "    # set column last_level to level when timestamp is last timestamp\n",
    "    df = df.withColumn('last_level',when(df.last_ts == df.ts, df.level))\n",
    "    \n",
    "    # create column avg_songs to calculate average number of songs per day\n",
    "    w = Window.partitionBy('userId', 'date')\n",
    "    songs = df.where(df.page == 'NextSong').select('userId', 'date', count('userId').over(w).alias('songs')).distinct()\n",
    "    w = Window.partitionBy('userId')\n",
    "    songs = songs.withColumn('avg_songs', avg('songs').over(w))\n",
    "    songs = songs.select(col(\"userId\").alias(\"songs_userId\"), 'avg_songs')\n",
    "    songs = songs.withColumn(\"avg_songs\", round(songs[\"avg_songs\"], 2))\n",
    "    \n",
    "    # create column avg_songs to calculate average number of events per day\n",
    "    w = Window.partitionBy('userId', 'date')\n",
    "    events = df.select('userId', 'date', count('userId').over(w).alias('events')).distinct()\n",
    "    w = Window.partitionBy('userId')\n",
    "    events = events.withColumn('avg_events', avg('events').over(w))\n",
    "    events = events.select(col(\"userId\").alias(\"events_userId\"), 'avg_events')\n",
    "    events = events.withColumn(\"avg_events\", round(events[\"avg_events\"], 2))\n",
    "    \n",
    "    # calculate number of thumbs up for a user\n",
    "    w = Window.partitionBy('userId')\n",
    "    thumbsup = df.where(df.page == 'Thumbs Up').select('userId', count('userId').over(w).alias('thumbs_up')).distinct()\n",
    "    thumbsup = thumbsup.select(col(\"userId\").alias(\"thumbsup_userId\"), 'thumbs_up')\n",
    "    \n",
    "    # calculate number of thumbs down for a user\n",
    "    w = Window.partitionBy('userId')\n",
    "    thumbsdown = df.where(df.page == 'Thumbs Down').select('userId', count('userId').over(w).alias('thumbs_down')).distinct()\n",
    "    thumbsdown = thumbsdown.select(col(\"userId\").alias(\"thumbsdown_userId\"), 'thumbs_down')\n",
    "    \n",
    "    # calculate days since the date of the first event\n",
    "    df = df.withColumn(\"days_active\", \n",
    "              datediff(to_date(lit(datetime.now().strftime(\"%Y-%m-%d %H:%M\"))),\n",
    "                       to_date(\"first_date\",\"yyyy-MM-dd\")))\n",
    "    \n",
    "    # add column with state of the event based on location column\n",
    "    def get_state(location):\n",
    "        location = location.split(',')[-1].strip()\n",
    "        if (len(location) > 2):\n",
    "            location = location.split('-')[-1].strip()\n",
    "    \n",
    "        return location\n",
    "    \n",
    "    get_state_udf = udf(get_state, StringType())\n",
    "    df = df.withColumn('state', get_state_udf(col('location')))\n",
    "    \n",
    "    #add column with last location of the user\n",
    "    df = df.withColumn('last_state',when(df.last_ts == df.ts, df.state))\n",
    "    \n",
    "    # calculate number of add friends for a user\n",
    "    w = Window.partitionBy('userId')\n",
    "    addfriend = df.where(df.page == 'Add Friend').select('userId', count('userId').over(w).alias('addfriend')).distinct()\n",
    "    addfriend = addfriend.select(col(\"userId\").alias(\"addfriend_userId\"), 'addfriend')\n",
    "\n",
    "    # assemble everything into resulting dataset\n",
    "    df_ml = df.select('userId', 'gender', 'churn', 'last_level', 'days_active', 'last_state')\\\n",
    "    .dropna().drop_duplicates()\n",
    "    df_ml = df_ml.join(songs, df_ml.userId == songs.songs_userId).distinct()\n",
    "    df_ml = df_ml.join(events, df_ml.userId == events.events_userId).distinct()\n",
    "    df_ml = df_ml.join(thumbsup, df_ml.userId == thumbsup.thumbsup_userId, how='left').distinct()\n",
    "    df_ml = df_ml.fillna(0, subset=['thumbs_up'])\n",
    "    df_ml = df_ml.join(thumbsdown, df_ml.userId == thumbsdown.thumbsdown_userId, how='left').distinct()\n",
    "    df_ml = df_ml.fillna(0, subset=['thumbs_down'])\n",
    "    df_ml = df_ml.join(addfriend, df_ml.userId == addfriend.addfriend_userId, how='left').distinct()\n",
    "    df_ml = df_ml.fillna(0, subset=['addfriend'])\n",
    "    df_ml = df_ml.drop('songs_userId','events_userId', 'thumbsup_userId', 'thumbsdown_userId', 'addfriend_userId')\n",
    "    \n",
    "    return df, df_ml\n",
    "    \n",
    "df = spark.read.json(mini_sparkify_event_data)\n",
    "df.persist()\n",
    "\n",
    "df, df_ml = prepare_dataset(df)"
   ]
  },
  {
   "cell_type": "code",
   "execution_count": 735,
   "metadata": {},
   "outputs": [
    {
     "name": "stdout",
     "output_type": "stream",
     "text": [
      "+------+------+-----+----------+-----------+----------+---------+----------+---------+-----------+---------+\n",
      "|userId|gender|churn|last_level|days_active|last_state|avg_songs|avg_events|thumbs_up|thumbs_down|addfriend|\n",
      "+------+------+-----+----------+-----------+----------+---------+----------+---------+-----------+---------+\n",
      "|    89|     M|    0|      paid|        178|        GA|   111.17|     133.5|       30|          6|       14|\n",
      "|   148|     M|    0|      free|        181|        FL|    36.18|     47.09|       28|          3|        7|\n",
      "|200015|     M|    1|      free|        184|        CA|    28.67|      34.9|       10|         10|        2|\n",
      "|    93|     M|    0|      paid|        186|        NJ|    58.18|     74.09|       35|          4|       13|\n",
      "|300022|     M|    0|      paid|        179|        KY|    40.44|     49.56|       25|          5|       11|\n",
      "|    64|     M|    0|      free|        170|        TX|    15.33|     22.67|        4|          0|        5|\n",
      "|    79|     M|    0|      paid|        163|        MD|    62.75|     80.25|       13|          2|        3|\n",
      "|   139|     M|    0|      paid|        155|        CA|     75.4|      91.4|       18|          5|        6|\n",
      "|300016|     M|    0|      paid|        181|        WI|    48.58|     56.54|       56|          4|       11|\n",
      "|300004|     F|    0|      free|        171|        CA|     68.0|     87.33|       17|          2|        2|\n",
      "|   114|     M|    0|      paid|        184|        NV|     76.0|     85.94|       74|         12|       13|\n",
      "|200024|     M|    1|      paid|        183|        KY|    37.91|     50.18|       19|         13|        9|\n",
      "|    81|     M|    0|      paid|        186|        MD|     94.0|    111.19|       94|         14|       23|\n",
      "|    38|     M|    0|      paid|        186|        PA|    69.58|      78.5|       65|         21|       21|\n",
      "|100024|     M|    1|      free|        183|        PA|     22.0|      36.0|        5|          0|        0|\n",
      "|   122|     F|    1|      paid|        183|        AR|    13.67|      15.5|        3|          1|        1|\n",
      "|    40|     F|    0|      paid|        186|        TX|    56.74|     69.58|       66|         11|       23|\n",
      "|100008|     F|    0|      free|        178|        CA|     96.5|     117.5|       37|          6|       17|\n",
      "|    58|     M|    1|      paid|        186|        AL|    121.0|    144.79|       94|         20|       19|\n",
      "|   123|     M|    0|      free|        161|        FL|    21.43|      28.0|        5|          1|        5|\n",
      "+------+------+-----+----------+-----------+----------+---------+----------+---------+-----------+---------+\n",
      "only showing top 20 rows\n",
      "\n"
     ]
    }
   ],
   "source": [
    "df_ml.show()"
   ]
  },
  {
   "cell_type": "code",
   "execution_count": 843,
   "metadata": {},
   "outputs": [
    {
     "data": {
      "text/plain": [
       "225"
      ]
     },
     "execution_count": 843,
     "metadata": {},
     "output_type": "execute_result"
    }
   ],
   "source": [
    "df_ml.count()"
   ]
  },
  {
   "cell_type": "markdown",
   "metadata": {},
   "source": [
    "Look closer at `days_active, avg_songs,avg_events,thumbs_up,thumbs_down,addfriend` columns for different types of users:"
   ]
  },
  {
   "cell_type": "code",
   "execution_count": 1039,
   "metadata": {},
   "outputs": [],
   "source": [
    "# find days_active for users who churned vs others\n",
    "churned = df_ml.select(\"days_active\").where(df_ml[\"churn\"] == 1).toPandas()[\"days_active\"].values\n",
    "stayed = df_ml.select(\"days_active\").where(df_ml[\"churn\"] == 0).toPandas()[\"days_active\"].values"
   ]
  },
  {
   "cell_type": "code",
   "execution_count": 1040,
   "metadata": {},
   "outputs": [
    {
     "data": {
      "image/png": "[encoded data removed]",
      "text/plain": [
       "<Figure size 432x288 with 1 Axes>"
      ]
     },
     "metadata": {
      "needs_background": "light"
     },
     "output_type": "display_data"
    }
   ],
   "source": [
    "# plot\n",
    "data = [churned, stayed]\n",
    "fig, ax = plt.subplots()\n",
    "ax.set_title('Days Active')\n",
    "ax.boxplot(data)\n",
    "\n",
    "fig.text(0.3, 0, \"churn\", color='black', weight='roman', size='large')\n",
    "\n",
    "fig.text(0.7, 0, \"stay\", color='black', weight='roman', size='large')\n",
    "\n",
    "plt.show()"
   ]
  },
  {
   "cell_type": "code",
   "execution_count": 1041,
   "metadata": {},
   "outputs": [
    {
     "data": {
      "image/png": "[encoded data removed]",
      "text/plain": [
       "<Figure size 432x288 with 1 Axes>"
      ]
     },
     "metadata": {
      "needs_background": "light"
     },
     "output_type": "display_data"
    }
   ],
   "source": [
    "# find avg_songs for users who churned vs others\n",
    "churned = df_ml.select(\"avg_songs\").where(df_ml[\"churn\"] == 1).toPandas()[\"avg_songs\"].values\n",
    "stayed = df_ml.select(\"avg_songs\").where(df_ml[\"churn\"] == 0).toPandas()[\"avg_songs\"].values\n",
    "\n",
    "# plot\n",
    "data = [churned, stayed]\n",
    "fig, ax = plt.subplots()\n",
    "ax.set_title('Average Songs per Day')\n",
    "ax.boxplot(data)\n",
    "\n",
    "fig.text(0.3, 0, \"churn\", color='black', weight='roman', size='large')\n",
    "\n",
    "fig.text(0.7, 0, \"stay\", color='black', weight='roman', size='large')\n",
    "\n",
    "plt.show()"
   ]
  },
  {
   "cell_type": "code",
   "execution_count": 1042,
   "metadata": {},
   "outputs": [
    {
     "data": {
      "image/png": "[encoded data removed]",
      "text/plain": [
       "<Figure size 432x288 with 1 Axes>"
      ]
     },
     "metadata": {
      "needs_background": "light"
     },
     "output_type": "display_data"
    }
   ],
   "source": [
    "# find avg_events for users who churned vs others\n",
    "churned = df_ml.select(\"avg_events\").where(df_ml[\"churn\"] == 1).toPandas()[\"avg_events\"].values\n",
    "stayed = df_ml.select(\"avg_events\").where(df_ml[\"churn\"] == 0).toPandas()[\"avg_events\"].values\n",
    "\n",
    "# plot\n",
    "data = [churned, stayed]\n",
    "fig, ax = plt.subplots()\n",
    "ax.set_title('Average Events per Day')\n",
    "ax.boxplot(data)\n",
    "\n",
    "fig.text(0.3, 0, \"churn\", color='black', weight='roman', size='large')\n",
    "\n",
    "fig.text(0.7, 0, \"stay\", color='black', weight='roman', size='large')\n",
    "\n",
    "plt.show()"
   ]
  },
  {
   "cell_type": "code",
   "execution_count": 1043,
   "metadata": {},
   "outputs": [
    {
     "data": {
      "image/png": "[encoded data removed]",
      "text/plain": [
       "<Figure size 432x288 with 1 Axes>"
      ]
     },
     "metadata": {
      "needs_background": "light"
     },
     "output_type": "display_data"
    }
   ],
   "source": [
    "# find thumbs_up for users who churned vs others\n",
    "churned = df_ml.select(\"thumbs_up\").where(df_ml[\"churn\"] == 1).toPandas()[\"thumbs_up\"].values\n",
    "stayed = df_ml.select(\"thumbs_up\").where(df_ml[\"churn\"] == 0).toPandas()[\"thumbs_up\"].values\n",
    "\n",
    "# plot\n",
    "data = [churned, stayed]\n",
    "fig, ax = plt.subplots()\n",
    "ax.set_title('Number of Thumbs Up')\n",
    "ax.boxplot(data)\n",
    "\n",
    "fig.text(0.3, 0, \"churn\", color='black', weight='roman', size='large')\n",
    "\n",
    "fig.text(0.7, 0, \"stay\", color='black', weight='roman', size='large')\n",
    "\n",
    "plt.show()"
   ]
  },
  {
   "cell_type": "code",
   "execution_count": 1044,
   "metadata": {},
   "outputs": [
    {
     "data": {
      "image/png": "[encoded data removed]",
      "text/plain": [
       "<Figure size 432x288 with 1 Axes>"
      ]
     },
     "metadata": {
      "needs_background": "light"
     },
     "output_type": "display_data"
    }
   ],
   "source": [
    "# find thumbs_down for users who churned vs others\n",
    "churned = df_ml.select(\"thumbs_down\").where(df_ml[\"churn\"] == 1).toPandas()[\"thumbs_down\"].values\n",
    "stayed = df_ml.select(\"thumbs_down\").where(df_ml[\"churn\"] == 0).toPandas()[\"thumbs_down\"].values\n",
    "\n",
    "# plot\n",
    "data = [churned, stayed]\n",
    "fig, ax = plt.subplots()\n",
    "ax.set_title('Number of Thumbs Down')\n",
    "ax.boxplot(data)\n",
    "\n",
    "fig.text(0.3, 0, \"churn\", color='black', weight='roman', size='large')\n",
    "\n",
    "fig.text(0.7, 0, \"stay\", color='black', weight='roman', size='large')\n",
    "\n",
    "plt.show()"
   ]
  },
  {
   "cell_type": "code",
   "execution_count": 1045,
   "metadata": {},
   "outputs": [
    {
     "data": {
      "image/png": "[encoded data removed]",
      "text/plain": [
       "<Figure size 432x288 with 1 Axes>"
      ]
     },
     "metadata": {
      "needs_background": "light"
     },
     "output_type": "display_data"
    }
   ],
   "source": [
    "# find addfriend for users who churned vs others\n",
    "churned = df_ml.select(\"addfriend\").where(df_ml[\"churn\"] == 1).toPandas()[\"addfriend\"].values\n",
    "stayed = df_ml.select(\"addfriend\").where(df_ml[\"churn\"] == 0).toPandas()[\"addfriend\"].values\n",
    "\n",
    "# plot\n",
    "data = [churned, stayed]\n",
    "fig, ax = plt.subplots()\n",
    "ax.set_title('Number of Add Friend Events')\n",
    "ax.boxplot(data)\n",
    "\n",
    "fig.text(0.3, 0, \"churn\", color='black', weight='roman', size='large')\n",
    "\n",
    "fig.text(0.7, 0, \"stay\", color='black', weight='roman', size='large')\n",
    "\n",
    "plt.show()"
   ]
  },
  {
   "cell_type": "markdown",
   "metadata": {},
   "source": [
    "# Modeling"
   ]
  },
  {
   "cell_type": "markdown",
   "metadata": {},
   "source": [
    "## `1.` Split into Train, Test and Validations Sets:"
   ]
  },
  {
   "cell_type": "code",
   "execution_count": 844,
   "metadata": {},
   "outputs": [],
   "source": [
    "# split into train, test and validation sets (60% - 20% - 20%)\n",
    "df_ml = df_ml.withColumnRenamed(\"churn\", \"label\")\n",
    "\n",
    "train, test_valid = df_ml.randomSplit([0.6, 0.4], seed = 42)\n",
    "test, validation = test_valid.randomSplit([0.5, 0.5], seed = 42)"
   ]
  },
  {
   "cell_type": "markdown",
   "metadata": {},
   "source": [
    "## `2.` Create Machine Learning Pipelines:"
   ]
  },
  {
   "cell_type": "markdown",
   "metadata": {},
   "source": [
    " `2.1` Random Forest Classifier:"
   ]
  },
  {
   "cell_type": "code",
   "execution_count": 862,
   "metadata": {},
   "outputs": [],
   "source": [
    "# index and encode categorical features gender, level and state\n",
    "\n",
    "stringIndexerGender = StringIndexer(inputCol=\"gender\", outputCol=\"genderIndex\", handleInvalid = 'skip')\n",
    "stringIndexerLevel = StringIndexer(inputCol=\"last_level\", outputCol=\"levelIndex\", handleInvalid = 'skip')\n",
    "stringIndexerState = StringIndexer(inputCol=\"last_state\", outputCol=\"stateIndex\", handleInvalid = 'skip')\n",
    "\n",
    "encoder = OneHotEncoderEstimator(inputCols=[\"genderIndex\", \"levelIndex\", \"stateIndex\"],\n",
    "                                       outputCols=[\"genderVec\", \"levelVec\", \"stateVec\"],\n",
    "                                handleInvalid = 'keep')\n",
    "\n",
    "# create vector for features\n",
    "features = ['genderVec', 'levelVec', 'stateVec', 'days_active', 'avg_songs', 'avg_events', 'thumbs_up', 'thumbs_down', 'addfriend']\n",
    "assembler = VectorAssembler(inputCols=features, outputCol=\"features\")\n",
    "\n",
    "# initialize random forest classifier\n",
    "rf = RandomForestClassifier(labelCol=\"label\", featuresCol=\"features\", numTrees=10)\n",
    "\n",
    "# assemble pipeline\n",
    "pipeline = Pipeline(stages = [stringIndexerGender, stringIndexerLevel, stringIndexerState, encoder, assembler, rf])"
   ]
  },
  {
   "cell_type": "code",
   "execution_count": 863,
   "metadata": {},
   "outputs": [],
   "source": [
    "model = pipeline.fit(train)"
   ]
  },
  {
   "cell_type": "code",
   "execution_count": 864,
   "metadata": {},
   "outputs": [],
   "source": [
    "pred_train = model.transform(train)\n",
    "pred_test = model.transform(test)"
   ]
  },
  {
   "cell_type": "code",
   "execution_count": 865,
   "metadata": {},
   "outputs": [
    {
     "name": "stdout",
     "output_type": "stream",
     "text": [
      "F1 score on train dataset is 0.8273381294964028\n"
     ]
    }
   ],
   "source": [
    "predictionAndLabels = pred_train.rdd.map(lambda lp: (float(lp.prediction), float(lp.label)))\n",
    "\n",
    "# Instantiate metrics object\n",
    "metrics = MulticlassMetrics(predictionAndLabels)\n",
    "\n",
    "# F1 score\n",
    "print(\"F1 score on train dataset is %s\" % metrics.fMeasure())"
   ]
  },
  {
   "cell_type": "code",
   "execution_count": 866,
   "metadata": {
    "scrolled": true
   },
   "outputs": [
    {
     "name": "stdout",
     "output_type": "stream",
     "text": [
      "F1 score on test dataset is 1.0\n"
     ]
    }
   ],
   "source": [
    "predictionAndLabels = pred_test.rdd.map(lambda lp: (float(lp.prediction), float(lp.label)))\n",
    "\n",
    "# Instantiate metrics object\n",
    "metrics = MulticlassMetrics(predictionAndLabels)\n",
    "\n",
    "# F1 score\n",
    "print(\"F1 score on test dataset is %s\" % metrics.fMeasure())"
   ]
  },
  {
   "cell_type": "markdown",
   "metadata": {},
   "source": [
    "Tune parameters for Random Forest classifier:"
   ]
  },
  {
   "cell_type": "code",
   "execution_count": 897,
   "metadata": {},
   "outputs": [],
   "source": [
    "paramGrid = ParamGridBuilder() \\\n",
    "    .addGrid(rf.numTrees, [10, 20, 30]) \\\n",
    "    .addGrid(rf.maxDepth, [3, 5, 10]) \\\n",
    "    .build()"
   ]
  },
  {
   "cell_type": "code",
   "execution_count": 898,
   "metadata": {},
   "outputs": [],
   "source": [
    "crossval = CrossValidator(estimator=pipeline,\n",
    "                          estimatorParamMaps=paramGrid,\n",
    "                          evaluator=MulticlassClassificationEvaluator(),\n",
    "                          numFolds=3)"
   ]
  },
  {
   "cell_type": "code",
   "execution_count": 899,
   "metadata": {},
   "outputs": [],
   "source": [
    "cvModel = crossval.fit(train)"
   ]
  },
  {
   "cell_type": "code",
   "execution_count": 901,
   "metadata": {},
   "outputs": [],
   "source": [
    "bestModel = cvModel.bestModel"
   ]
  },
  {
   "cell_type": "code",
   "execution_count": 902,
   "metadata": {},
   "outputs": [
    {
     "name": "stdout",
     "output_type": "stream",
     "text": [
      "F1 score on test dataset is 0.4\n"
     ]
    }
   ],
   "source": [
    "pred_test = bestModel.transform(test)\n",
    "\n",
    "predictionAndLabels = pred_test.rdd.map(lambda lp: (float(lp.prediction), float(lp.label)))\n",
    "\n",
    "# Instantiate metrics object\n",
    "metrics = MulticlassMetrics(predictionAndLabels)\n",
    "\n",
    "# F1 score\n",
    "print(\"F1 score on test dataset is %s\" % metrics.fMeasure())"
   ]
  },
  {
   "cell_type": "markdown",
   "metadata": {},
   "source": [
    " `2.2` Logistic Regression classifier:"
   ]
  },
  {
   "cell_type": "code",
   "execution_count": 880,
   "metadata": {},
   "outputs": [],
   "source": [
    "# initialize logistic regression\n",
    "lr = LogisticRegression(maxIter=10, regParam=0.3, elasticNetParam=0.8, family=\"multinomial\")\n",
    "\n",
    "# assemble pipeline\n",
    "pipeline = Pipeline(stages = [stringIndexerGender, stringIndexerLevel, stringIndexerState, encoderGender, \\\n",
    "                             encoderLevel, encoderState, assembler, lr])"
   ]
  },
  {
   "cell_type": "code",
   "execution_count": 881,
   "metadata": {},
   "outputs": [],
   "source": [
    "model = pipeline.fit(train)\n",
    "pred_train = model.transform(train)\n",
    "pred_test = model.transform(test)"
   ]
  },
  {
   "cell_type": "code",
   "execution_count": 882,
   "metadata": {},
   "outputs": [
    {
     "name": "stdout",
     "output_type": "stream",
     "text": [
      "F1 score on train dataset is 0.7697841726618705\n"
     ]
    }
   ],
   "source": [
    "predictionAndLabels = pred_train.rdd.map(lambda lp: (float(lp.prediction), float(lp.label)))\n",
    "\n",
    "# Instantiate metrics object\n",
    "metrics = MulticlassMetrics(predictionAndLabels)\n",
    "\n",
    "# F1 score\n",
    "print(\"F1 score on train dataset is %s\" % metrics.fMeasure())"
   ]
  },
  {
   "cell_type": "code",
   "execution_count": 883,
   "metadata": {},
   "outputs": [
    {
     "name": "stdout",
     "output_type": "stream",
     "text": [
      "F1 score on test dataset is 1.0\n"
     ]
    }
   ],
   "source": [
    "predictionAndLabels = pred_test.rdd.map(lambda lp: (float(lp.prediction), float(lp.label)))\n",
    "\n",
    "# Instantiate metrics object\n",
    "metrics = MulticlassMetrics(predictionAndLabels)\n",
    "\n",
    "# F1 score\n",
    "print(\"F1 score on test dataset is %s\" % metrics.fMeasure())"
   ]
  },
  {
   "cell_type": "markdown",
   "metadata": {},
   "source": [
    " `2.3` Gradient-boosted tree classifier:"
   ]
  },
  {
   "cell_type": "code",
   "execution_count": 887,
   "metadata": {},
   "outputs": [],
   "source": [
    "gbt = GBTClassifier(labelCol=\"label\", featuresCol=\"features\", maxIter=10)\n",
    "\n",
    "# assemble pipeline\n",
    "pipeline = Pipeline(stages = [stringIndexerGender, stringIndexerLevel, stringIndexerState, encoderGender, \\\n",
    "                             encoderLevel, encoderState, assembler, gbt])"
   ]
  },
  {
   "cell_type": "code",
   "execution_count": 888,
   "metadata": {},
   "outputs": [],
   "source": [
    "model = pipeline.fit(train)\n",
    "pred_train = model.transform(train)\n",
    "pred_test = model.transform(test)"
   ]
  },
  {
   "cell_type": "code",
   "execution_count": 889,
   "metadata": {},
   "outputs": [
    {
     "name": "stdout",
     "output_type": "stream",
     "text": [
      "F1 score on train dataset is 0.9856115107913669\n"
     ]
    }
   ],
   "source": [
    "predictionAndLabels = pred_train.rdd.map(lambda lp: (float(lp.prediction), float(lp.label)))\n",
    "\n",
    "# Instantiate metrics object\n",
    "metrics = MulticlassMetrics(predictionAndLabels)\n",
    "\n",
    "# F1 score\n",
    "print(\"F1 score on train dataset is %s\" % metrics.fMeasure())"
   ]
  },
  {
   "cell_type": "code",
   "execution_count": 890,
   "metadata": {},
   "outputs": [
    {
     "name": "stdout",
     "output_type": "stream",
     "text": [
      "F1 score on test dataset is 0.9333333333333333\n"
     ]
    }
   ],
   "source": [
    "predictionAndLabels = pred_test.rdd.map(lambda lp: (float(lp.prediction), float(lp.label)))\n",
    "\n",
    "# Instantiate metrics object\n",
    "metrics = MulticlassMetrics(predictionAndLabels)\n",
    "\n",
    "# F1 score\n",
    "print(\"F1 score on test dataset is %s\" % metrics.fMeasure())"
   ]
  },
  {
   "cell_type": "markdown",
   "metadata": {},
   "source": [
    " `2.4` Naive Bayes classifier:"
   ]
  },
  {
   "cell_type": "code",
   "execution_count": 893,
   "metadata": {},
   "outputs": [],
   "source": [
    "nb = NaiveBayes(smoothing=1.0, modelType=\"multinomial\")\n",
    "\n",
    "# assemble pipeline\n",
    "pipeline = Pipeline(stages = [stringIndexerGender, stringIndexerLevel, stringIndexerState, encoderGender, \\\n",
    "                             encoderLevel, encoderState, assembler, nb])"
   ]
  },
  {
   "cell_type": "code",
   "execution_count": 894,
   "metadata": {},
   "outputs": [],
   "source": [
    "model = pipeline.fit(train)\n",
    "pred_train = model.transform(train)\n",
    "pred_test = model.transform(test)"
   ]
  },
  {
   "cell_type": "code",
   "execution_count": 895,
   "metadata": {},
   "outputs": [
    {
     "name": "stdout",
     "output_type": "stream",
     "text": [
      "F1 score on train dataset is 0.5323741007194245\n"
     ]
    }
   ],
   "source": [
    "predictionAndLabels = pred_train.rdd.map(lambda lp: (float(lp.prediction), float(lp.label)))\n",
    "\n",
    "# Instantiate metrics object\n",
    "metrics = MulticlassMetrics(predictionAndLabels)\n",
    "\n",
    "# F1 score\n",
    "print(\"F1 score on train dataset is %s\" % metrics.fMeasure())"
   ]
  },
  {
   "cell_type": "code",
   "execution_count": 896,
   "metadata": {},
   "outputs": [
    {
     "name": "stdout",
     "output_type": "stream",
     "text": [
      "F1 score on test dataset is 0.4\n"
     ]
    }
   ],
   "source": [
    "predictionAndLabels = pred_test.rdd.map(lambda lp: (float(lp.prediction), float(lp.label)))\n",
    "\n",
    "# Instantiate metrics object\n",
    "metrics = MulticlassMetrics(predictionAndLabels)\n",
    "\n",
    "# F1 score\n",
    "print(\"F1 score on test dataset is %s\" % metrics.fMeasure())"
   ]
  },
  {
   "cell_type": "markdown",
   "metadata": {},
   "source": [
    "# Conclusion"
   ]
  },
  {
   "cell_type": "markdown",
   "metadata": {},
   "source": [
    "In this notebook we went through the process from data exploration to modeling.\n",
    "<b>Mini dataset is too small (test and validation sets have only 15 records), so we can't really evaluate models. To be able to evaluate models we should user medium dataset or the whole dataset."
   ]
  }
 ],
 "metadata": {
  "kernelspec": {
   "display_name": "Python 3",
   "language": "python",
   "name": "python3"
  },
  "language_info": {
   "codemirror_mode": {
    "name": "ipython",
    "version": 3
   },
   "file_extension": ".py",
   "mimetype": "text/x-python",
   "name": "python",
   "nbconvert_exporter": "python",
   "pygments_lexer": "ipython3",
   "version": "3.6.8"
  }
 },
 "nbformat": 4,
 "nbformat_minor": 2
}
