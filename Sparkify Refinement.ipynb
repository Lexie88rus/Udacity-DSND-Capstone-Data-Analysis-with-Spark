{
 "cells": [
  {
   "cell_type": "markdown",
   "metadata": {},
   "source": [
    "# Sparkify Project Refinement"
   ]
  },
  {
   "cell_type": "markdown",
   "metadata": {},
   "source": [
    "This notebook contains the refinement of modeling for medium sized dataset."
   ]
  },
  {
   "cell_type": "markdown",
   "metadata": {},
   "source": [
    "The overview of the project and data anaylsis is presented in Sparkify.ipynb notebook."
   ]
  },
  {
   "cell_type": "markdown",
   "metadata": {},
   "source": [
    "## Prepare Data"
   ]
  },
  {
   "cell_type": "markdown",
   "metadata": {},
   "source": [
    "Scripts for data processing were described in Sparkify.ipynb notebook:"
   ]
  },
  {
   "cell_type": "code",
   "execution_count": 1,
   "metadata": {},
   "outputs": [],
   "source": [
    "# import general libraries for data manipulation and plotting\n",
    "import numpy as np\n",
    "import pandas as pd\n",
    "import matplotlib.pyplot as plt\n",
    "\n",
    "from datetime import datetime\n",
    "\n",
    "import re"
   ]
  },
  {
   "cell_type": "code",
   "execution_count": 2,
   "metadata": {},
   "outputs": [],
   "source": [
    "# import spark libraries\n",
    "from pyspark.sql import SparkSession\n",
    "\n",
    "from pyspark.ml.feature import StringIndexer, VectorAssembler, Normalizer, StandardScaler, MinMaxScaler\n",
    "from pyspark.ml.feature import OneHotEncoder, StringIndexer, OneHotEncoderEstimator\n",
    "from pyspark.sql.functions import udf\n",
    "from pyspark.sql.types import IntegerType\n",
    "from pyspark.sql.types import StringType, DateType\n",
    "from pyspark.sql.functions import to_date, datediff\n",
    "from pyspark.sql.functions import concat, lit, avg, split, isnan, when, count, col, sum, mean, stddev, min, max, round\n",
    "from pyspark.sql import Window\n",
    "\n",
    "from pyspark.ml.classification import LogisticRegression, GBTClassifier, NaiveBayes, RandomForestClassifier\n",
    "\n",
    "from pyspark.ml import Pipeline\n",
    "from pyspark.ml.evaluation import MulticlassClassificationEvaluator\n",
    "from pyspark.ml.tuning import CrossValidator, ParamGridBuilder\n",
    "\n",
    "from pyspark.mllib.evaluation import BinaryClassificationMetrics, MulticlassMetrics\n",
    "from pyspark.mllib.util import MLUtils\n",
    "\n",
    "from pyspark.ml.feature import Bucketizer"
   ]
  },
  {
   "cell_type": "code",
   "execution_count": 3,
   "metadata": {},
   "outputs": [],
   "source": [
    "# create a Spark session\n",
    "spark = SparkSession.builder \\\n",
    "    .master(\"local\") \\\n",
    "    .appName(\"Sparkify\") \\\n",
    "    .getOrCreate()"
   ]
  },
  {
   "cell_type": "code",
   "execution_count": 4,
   "metadata": {},
   "outputs": [
    {
     "data": {
      "text/plain": [
       "DataFrame[artist: string, auth: string, firstName: string, gender: string, itemInSession: bigint, lastName: string, length: double, level: string, location: string, method: string, page: string, registration: bigint, sessionId: bigint, song: string, status: bigint, ts: bigint, userAgent: string, userId: string]"
      ]
     },
     "execution_count": 4,
     "metadata": {},
     "output_type": "execute_result"
    }
   ],
   "source": [
    "df = spark.read.json('medium-sparkify-event-data.json')\n",
    "df.persist()"
   ]
  },
  {
   "cell_type": "code",
   "execution_count": 5,
   "metadata": {},
   "outputs": [
    {
     "data": {
      "text/plain": [
       "Row(artist='Martin Orford', auth='Logged In', firstName='Joseph', gender='M', itemInSession=20, lastName='Morales', length=597.55057, level='free', location='Corpus Christi, TX', method='PUT', page='NextSong', registration=1532063507000, sessionId=292, song='Grand Designs', status=200, ts=1538352011000, userAgent='\"Mozilla/5.0 (Macintosh; Intel Mac OS X 10_9_4) AppleWebKit/537.36 (KHTML, like Gecko) Chrome/36.0.1985.125 Safari/537.36\"', userId='293')"
      ]
     },
     "execution_count": 5,
     "metadata": {},
     "output_type": "execute_result"
    }
   ],
   "source": [
    "def clean_data(df):\n",
    "    '''\n",
    "    Function which performs data cleaning of Sparkify dataset.\n",
    "    \n",
    "    INPUT: \n",
    "    df - pyspark dataframe containing Sparkify log events\n",
    "    \n",
    "    OUTPUT:\n",
    "    df_new - pyspark dataframe with removed rows with empty 'userId' column\n",
    "    '''\n",
    "    \n",
    "    # remove rows where userId is empty\n",
    "    df_new = df.filter(df[\"userId\"] != \"\")\n",
    "    \n",
    "    return df_new\n",
    "\n",
    "# clean data\n",
    "df = clean_data(df)\n",
    "\n",
    "# print out first line\n",
    "df.head()"
   ]
  },
  {
   "cell_type": "code",
   "execution_count": 8,
   "metadata": {},
   "outputs": [],
   "source": [
    "def prepare_dataset(df):\n",
    "    '''\n",
    "    Function for preparation of dataset for machine learning\n",
    "    INPUT:\n",
    "    df - initial dataset loaded from json file\n",
    "    \n",
    "    OUTPUT:\n",
    "    df_ml - new dataset prepared for machine learning\n",
    "    contains the following columns:\n",
    "    1. userId - initial id of the user\n",
    "    2. gender - user's gender\n",
    "    3. avg_events - average number of events per day for the user\n",
    "    4. avg_songs - average number of songs the user listens to per day\n",
    "    5. thumbs_up - number of thumbs up events\n",
    "    6. thumbs_down - number of thumbs down events\n",
    "    7. active_days - days since user's firts event\n",
    "    8. last_location - location of the last event\n",
    "    9. last_level - user's last level (paid or free)\n",
    "    10. addfriends - number of add friends events\n",
    "    '''\n",
    "    \n",
    "    # clean dataset using clean_data function\n",
    "    df = clean_data(df)\n",
    "    \n",
    "    # add 'churn' column to the original dataset\n",
    "    \n",
    "    # define cancellation udf\n",
    "    cancellation_event = udf(lambda x: 1 if x == \"Cancellation Confirmation\" else 0, IntegerType())\n",
    "    \n",
    "    # set churn = 1 for rows where page == 'Cancellation Confirmation'\n",
    "    df = df.withColumn(\"churn\", cancellation_event(\"page\"))\n",
    "    \n",
    "    # get userId with churn == 1\n",
    "    cancelled_users = df.select(['userId']).where(df.churn == 1).groupby('userId').count().toPandas()['userId'].values\n",
    "    \n",
    "    # create udf, which sets churn of a row to 1 if userId is in cancelled_users list\n",
    "    def fill_array(userId, features):\n",
    "        if(userId in cancelled_users): return 1\n",
    "        else : return 0\n",
    "    \n",
    "    # set churn == 1 for all rows for users who cancelled their subscription\n",
    "    fill_array_udf = udf(fill_array, IntegerType())\n",
    "    df = df.withColumn(\"churn\", fill_array_udf(col(\"userId\"), col(\"churn\")))\n",
    "    \n",
    "    # set column last ts with the first and the last event timestamp\n",
    "    w = Window.partitionBy('userId')\n",
    "    df = df.withColumn('last_ts', max('ts').over(w))\n",
    "    df = df.withColumn('first_ts', min('ts').over(w))\n",
    "    \n",
    "    # convert timestamp to date (string)\n",
    "    def get_date_from_ts(ts):\n",
    "        return str(datetime.utcfromtimestamp(ts / 1000).strftime('%Y-%m-%d'))\n",
    "    \n",
    "    get_date_from_ts_udf = udf(get_date_from_ts, StringType())\n",
    "    df = df.withColumn('last_date', get_date_from_ts_udf(col('last_ts')))\n",
    "    df = df.withColumn('first_date', get_date_from_ts_udf(col('first_ts')))\n",
    "    \n",
    "    # add column date and convert timetamp to date\n",
    "    df = df.withColumn('date', get_date_from_ts_udf(col('ts')))\n",
    "    \n",
    "    # set column last_level to level when timestamp is last timestamp\n",
    "    df = df.withColumn('last_level',when(df.last_ts == df.ts, df.level))\n",
    "    \n",
    "    # create column avg_songs to calculate average number of songs per day\n",
    "    w = Window.partitionBy('userId', 'date')\n",
    "    songs = df.where(df.page == 'NextSong').select('userId', 'date', count('userId').over(w).alias('songs')).distinct()\n",
    "    w = Window.partitionBy('userId')\n",
    "    songs = songs.withColumn('avg_songs', avg('songs').over(w))\n",
    "    songs = songs.select(col(\"userId\").alias(\"songs_userId\"), 'avg_songs')\n",
    "    songs = songs.withColumn(\"avg_songs\", round(songs[\"avg_songs\"], 2))\n",
    "    \n",
    "    # create column avg_songs to calculate average number of events per day\n",
    "    w = Window.partitionBy('userId', 'date')\n",
    "    events = df.select('userId', 'date', count('userId').over(w).alias('events')).distinct()\n",
    "    w = Window.partitionBy('userId')\n",
    "    events = events.withColumn('avg_events', avg('events').over(w))\n",
    "    events = events.select(col(\"userId\").alias(\"events_userId\"), 'avg_events')\n",
    "    events = events.withColumn(\"avg_events\", round(events[\"avg_events\"], 2))\n",
    "    \n",
    "    # calculate number of thumbs up for a user\n",
    "    w = Window.partitionBy('userId')\n",
    "    thumbsup = df.where(df.page == 'Thumbs Up').select('userId', count('userId').over(w).alias('thumbs_up')).distinct()\n",
    "    thumbsup = thumbsup.select(col(\"userId\").alias(\"thumbsup_userId\"), 'thumbs_up')\n",
    "    \n",
    "    # calculate number of thumbs down for a user\n",
    "    w = Window.partitionBy('userId')\n",
    "    thumbsdown = df.where(df.page == 'Thumbs Down').select('userId', count('userId').over(w).alias('thumbs_down')).distinct()\n",
    "    thumbsdown = thumbsdown.select(col(\"userId\").alias(\"thumbsdown_userId\"), 'thumbs_down')\n",
    "    \n",
    "    # calculate days since the date of the first event\n",
    "    df = df.withColumn(\"days_active\", \n",
    "              datediff(to_date(lit(datetime.now().strftime(\"%Y-%m-%d %H:%M\"))),\n",
    "                       to_date(\"first_date\",\"yyyy-MM-dd\")))\n",
    "    \n",
    "    # add column with state of the event based on location column\n",
    "    def get_state(location):\n",
    "        location = location.split(',')[-1].strip()\n",
    "        if (len(location) > 2):\n",
    "            location = location.split('-')[-1].strip()\n",
    "    \n",
    "        return location\n",
    "    \n",
    "    get_state_udf = udf(get_state, StringType())\n",
    "    df = df.withColumn('state', get_state_udf(col('location')))\n",
    "    \n",
    "    #add column with last location of the user\n",
    "    df = df.withColumn('last_state',when(df.last_ts == df.ts, df.state))\n",
    "    \n",
    "    # calculate number of add friends for a user\n",
    "    w = Window.partitionBy('userId')\n",
    "    addfriend = df.where(df.page == 'Add Friend').select('userId', count('userId').over(w).alias('addfriend')).distinct()\n",
    "    addfriend = addfriend.select(col(\"userId\").alias(\"addfriend_userId\"), 'addfriend')\n",
    "\n",
    "    # assemble everything into resulting dataset\n",
    "    df_ml = df.select('userId', 'gender', 'churn', 'last_level', 'days_active', 'last_state')\\\n",
    "    .dropna().drop_duplicates()\n",
    "    df_ml = df_ml.join(songs, df_ml.userId == songs.songs_userId).distinct()\n",
    "    df_ml = df_ml.join(events, df_ml.userId == events.events_userId).distinct()\n",
    "    df_ml = df_ml.join(thumbsup, df_ml.userId == thumbsup.thumbsup_userId, how='left').distinct()\n",
    "    df_ml = df_ml.fillna(0, subset=['thumbs_up'])\n",
    "    df_ml = df_ml.join(thumbsdown, df_ml.userId == thumbsdown.thumbsdown_userId, how='left').distinct()\n",
    "    df_ml = df_ml.fillna(0, subset=['thumbs_down'])\n",
    "    df_ml = df_ml.join(addfriend, df_ml.userId == addfriend.addfriend_userId, how='left').distinct()\n",
    "    df_ml = df_ml.fillna(0, subset=['addfriend'])\n",
    "    df_ml = df_ml.drop('songs_userId','events_userId', 'thumbsup_userId', 'thumbsdown_userId', 'addfriend_userId')\n",
    "    \n",
    "    return df, df_ml"
   ]
  },
  {
   "cell_type": "code",
   "execution_count": 9,
   "metadata": {},
   "outputs": [],
   "source": [
    "df, df_ml = prepare_dataset(df)"
   ]
  },
  {
   "cell_type": "code",
   "execution_count": 10,
   "metadata": {},
   "outputs": [
    {
     "data": {
      "text/plain": [
       "448"
      ]
     },
     "execution_count": 10,
     "metadata": {},
     "output_type": "execute_result"
    }
   ],
   "source": [
    "df_ml.count()"
   ]
  },
  {
   "cell_type": "code",
   "execution_count": 11,
   "metadata": {
    "scrolled": true
   },
   "outputs": [
    {
     "data": {
      "text/plain": [
       "[Row(userId='100010', gender='F', churn=1, last_level='free', days_active=189, last_state='CT', avg_songs=48.0, avg_events=68.5, thumbs_up=4, thumbs_down=3, addfriend=3),\n",
       " Row(userId='200002', gender='M', churn=1, last_level='paid', days_active=196, last_state='WI', avg_songs=51.67, avg_events=65.83, thumbs_up=15, thumbs_down=5, addfriend=2),\n",
       " Row(userId='296', gender='F', churn=1, last_level='paid', days_active=195, last_state='NJ', avg_songs=22.4, avg_events=30.4, thumbs_up=8, thumbs_down=0, addfriend=2)]"
      ]
     },
     "execution_count": 11,
     "metadata": {},
     "output_type": "execute_result"
    }
   ],
   "source": [
    "df_ml.head(3)"
   ]
  },
  {
   "cell_type": "markdown",
   "metadata": {},
   "source": [
    "## Modeling"
   ]
  },
  {
   "cell_type": "markdown",
   "metadata": {},
   "source": [
    "### Initial Preparation"
   ]
  },
  {
   "cell_type": "markdown",
   "metadata": {},
   "source": [
    "Prepare train, test, and validation datasets:"
   ]
  },
  {
   "cell_type": "code",
   "execution_count": 14,
   "metadata": {},
   "outputs": [],
   "source": [
    "# split into train, test and validation sets (60% - 20% - 20%)\n",
    "df_ml = df_ml.withColumnRenamed(\"churn\", \"label\")\n",
    "\n",
    "train, test, valid = df_ml.randomSplit([0.6, 0.2, 0.2])"
   ]
  },
  {
   "cell_type": "markdown",
   "metadata": {},
   "source": [
    "Prepare machine learning pipeline:"
   ]
  },
  {
   "cell_type": "code",
   "execution_count": 15,
   "metadata": {},
   "outputs": [],
   "source": [
    "# index and encode categorical features gender, level and state\n",
    "\n",
    "stringIndexerGender = StringIndexer(inputCol=\"gender\", outputCol=\"genderIndex\", handleInvalid = 'skip')\n",
    "stringIndexerLevel = StringIndexer(inputCol=\"last_level\", outputCol=\"levelIndex\", handleInvalid = 'skip')\n",
    "stringIndexerState = StringIndexer(inputCol=\"last_state\", outputCol=\"stateIndex\", handleInvalid = 'skip')\n",
    "\n",
    "encoder = OneHotEncoderEstimator(inputCols=[\"genderIndex\", \"levelIndex\", \"stateIndex\"],\n",
    "                                       outputCols=[\"genderVec\", \"levelVec\", \"stateVec\"],\n",
    "                                handleInvalid = 'keep')\n",
    "\n",
    "# create vector for features\n",
    "features = ['genderVec', 'levelVec', 'stateVec', 'days_active', 'avg_songs', 'avg_events', 'thumbs_up', 'thumbs_down', 'addfriend']\n",
    "assembler = VectorAssembler(inputCols=features, outputCol=\"features\")"
   ]
  },
  {
   "cell_type": "markdown",
   "metadata": {},
   "source": [
    "### Try Several Classifiers"
   ]
  },
  {
   "cell_type": "markdown",
   "metadata": {},
   "source": [
    "`1` Random Forest Classifier:"
   ]
  },
  {
   "cell_type": "code",
   "execution_count": 27,
   "metadata": {},
   "outputs": [],
   "source": [
    "# initialize random forest classifier\n",
    "rf = RandomForestClassifier(labelCol=\"label\", featuresCol=\"features\", numTrees=10)\n",
    "\n",
    "# assemble pipeline\n",
    "pipeline = Pipeline(stages = [stringIndexerGender, stringIndexerLevel, stringIndexerState, encoder, assembler, rf])"
   ]
  },
  {
   "cell_type": "code",
   "execution_count": 28,
   "metadata": {},
   "outputs": [],
   "source": [
    "model = pipeline.fit(train)"
   ]
  },
  {
   "cell_type": "code",
   "execution_count": 29,
   "metadata": {},
   "outputs": [],
   "source": [
    "pred_train = model.transform(train)\n",
    "pred_test = model.transform(test)"
   ]
  },
  {
   "cell_type": "code",
   "execution_count": 50,
   "metadata": {},
   "outputs": [
    {
     "name": "stdout",
     "output_type": "stream",
     "text": [
      "F1 score on train dataset is 0.796812749003984\n"
     ]
    }
   ],
   "source": [
    "predictionAndLabels = pred_train.rdd.map(lambda lp: (float(lp.prediction), float(lp.label)))\n",
    "\n",
    "# Instantiate metrics object\n",
    "metrics = MulticlassMetrics(predictionAndLabels)\n",
    "\n",
    "rf_train = metrics.fMeasure()\n",
    "\n",
    "# F1 score\n",
    "print(\"F1 score on train dataset is %s\" % metrics.fMeasure())"
   ]
  },
  {
   "cell_type": "code",
   "execution_count": 51,
   "metadata": {},
   "outputs": [
    {
     "name": "stdout",
     "output_type": "stream",
     "text": [
      "F1 score on test dataset is 0.7849462365591398\n"
     ]
    }
   ],
   "source": [
    "predictionAndLabels = pred_test.rdd.map(lambda lp: (float(lp.prediction), float(lp.label)))\n",
    "\n",
    "# Instantiate metrics object\n",
    "metrics = MulticlassMetrics(predictionAndLabels)\n",
    "\n",
    "rf_test = metrics.fMeasure()\n",
    "\n",
    "# F1 score\n",
    "print(\"F1 score on test dataset is %s\" % metrics.fMeasure())"
   ]
  },
  {
   "cell_type": "markdown",
   "metadata": {},
   "source": [
    "`2` Logistic Regression classifier:"
   ]
  },
  {
   "cell_type": "code",
   "execution_count": 35,
   "metadata": {},
   "outputs": [],
   "source": [
    "# initialize logistic regression\n",
    "lr = LogisticRegression(maxIter=10, regParam=0.3, elasticNetParam=0.8, family=\"multinomial\")\n",
    "\n",
    "# assemble pipeline\n",
    "pipeline_lr = Pipeline(stages = [stringIndexerGender, stringIndexerLevel, stringIndexerState, encoder, assembler, lr])"
   ]
  },
  {
   "cell_type": "code",
   "execution_count": 36,
   "metadata": {},
   "outputs": [],
   "source": [
    "model_lr = pipeline_lr.fit(train)"
   ]
  },
  {
   "cell_type": "code",
   "execution_count": 37,
   "metadata": {},
   "outputs": [],
   "source": [
    "pred_train_lr = model_lr.transform(train)\n",
    "pred_test_lr = model_lr.transform(test)"
   ]
  },
  {
   "cell_type": "code",
   "execution_count": 52,
   "metadata": {},
   "outputs": [
    {
     "name": "stdout",
     "output_type": "stream",
     "text": [
      "F1 score on train dataset is 0.7888446215139442\n"
     ]
    }
   ],
   "source": [
    "predictionAndLabels = pred_train_lr.rdd.map(lambda lp: (float(lp.prediction), float(lp.label)))\n",
    "\n",
    "# Instantiate metrics object\n",
    "metrics = MulticlassMetrics(predictionAndLabels)\n",
    "\n",
    "lr_train = metrics.fMeasure()\n",
    "\n",
    "# F1 score\n",
    "print(\"F1 score on train dataset is %s\" % metrics.fMeasure())"
   ]
  },
  {
   "cell_type": "code",
   "execution_count": 53,
   "metadata": {},
   "outputs": [
    {
     "name": "stdout",
     "output_type": "stream",
     "text": [
      "F1 score on test dataset is 0.7741935483870968\n"
     ]
    }
   ],
   "source": [
    "predictionAndLabels = pred_test_lr.rdd.map(lambda lp: (float(lp.prediction), float(lp.label)))\n",
    "\n",
    "# Instantiate metrics object\n",
    "metrics = MulticlassMetrics(predictionAndLabels)\n",
    "\n",
    "lr_test = metrics.fMeasure()\n",
    "\n",
    "# F1 score\n",
    "print(\"F1 score on test dataset is %s\" % metrics.fMeasure())"
   ]
  },
  {
   "cell_type": "markdown",
   "metadata": {},
   "source": [
    "`3` Gradient-boosted tree classifier:"
   ]
  },
  {
   "cell_type": "code",
   "execution_count": 40,
   "metadata": {},
   "outputs": [],
   "source": [
    "gbt = GBTClassifier(labelCol=\"label\", featuresCol=\"features\", maxIter=10)\n",
    "\n",
    "# assemble pipeline\n",
    "pipeline_gbt = Pipeline(stages = [stringIndexerGender, stringIndexerLevel, stringIndexerState, encoder, assembler, gbt])"
   ]
  },
  {
   "cell_type": "code",
   "execution_count": 41,
   "metadata": {},
   "outputs": [],
   "source": [
    "model_gbt = pipeline_gbt.fit(train)"
   ]
  },
  {
   "cell_type": "code",
   "execution_count": 42,
   "metadata": {},
   "outputs": [],
   "source": [
    "pred_train_gbt = model_gbt.transform(train)\n",
    "pred_test_gbt = model_gbt.transform(test)"
   ]
  },
  {
   "cell_type": "code",
   "execution_count": 54,
   "metadata": {},
   "outputs": [
    {
     "name": "stdout",
     "output_type": "stream",
     "text": [
      "F1 score on train dataset is 0.952191235059761\n"
     ]
    }
   ],
   "source": [
    "predictionAndLabels = pred_train_gbt.rdd.map(lambda lp: (float(lp.prediction), float(lp.label)))\n",
    "\n",
    "# Instantiate metrics object\n",
    "metrics = MulticlassMetrics(predictionAndLabels)\n",
    "\n",
    "gbt_train = metrics.fMeasure()\n",
    "\n",
    "# F1 score\n",
    "print(\"F1 score on train dataset is %s\" % metrics.fMeasure())"
   ]
  },
  {
   "cell_type": "code",
   "execution_count": 64,
   "metadata": {},
   "outputs": [
    {
     "name": "stdout",
     "output_type": "stream",
     "text": [
      "F1 score on test dataset is 0.7634408602150538\n"
     ]
    }
   ],
   "source": [
    "predictionAndLabels = pred_test_gbt.rdd.map(lambda lp: (float(lp.prediction), float(lp.label)))\n",
    "\n",
    "# Instantiate metrics object\n",
    "metrics = MulticlassMetrics(predictionAndLabels)\n",
    "\n",
    "gbt_test = metrics.fMeasure()\n",
    "\n",
    "# F1 score\n",
    "print(\"F1 score on test dataset is %s\" % metrics.fMeasure())"
   ]
  },
  {
   "cell_type": "markdown",
   "metadata": {},
   "source": [
    "`4` Naive Bayes classifier:"
   ]
  },
  {
   "cell_type": "code",
   "execution_count": 45,
   "metadata": {},
   "outputs": [],
   "source": [
    "nb = NaiveBayes(smoothing=1.0, modelType=\"multinomial\")\n",
    "\n",
    "# assemble pipeline\n",
    "pipeline_nb = Pipeline(stages = [stringIndexerGender, stringIndexerLevel, stringIndexerState, encoder, assembler, nb])"
   ]
  },
  {
   "cell_type": "code",
   "execution_count": 46,
   "metadata": {},
   "outputs": [],
   "source": [
    "model_nb = pipeline_nb.fit(train)"
   ]
  },
  {
   "cell_type": "code",
   "execution_count": 47,
   "metadata": {},
   "outputs": [],
   "source": [
    "pred_train_nb = model_nb.transform(train)\n",
    "pred_test_nb = model_nb.transform(test)"
   ]
  },
  {
   "cell_type": "code",
   "execution_count": 56,
   "metadata": {},
   "outputs": [
    {
     "name": "stdout",
     "output_type": "stream",
     "text": [
      "F1 score on train dataset is 0.4541832669322709\n"
     ]
    }
   ],
   "source": [
    "predictionAndLabels = pred_train_nb.rdd.map(lambda lp: (float(lp.prediction), float(lp.label)))\n",
    "\n",
    "# Instantiate metrics object\n",
    "metrics = MulticlassMetrics(predictionAndLabels)\n",
    "\n",
    "nb_train = metrics.fMeasure()\n",
    "\n",
    "# F1 score\n",
    "print(\"F1 score on train dataset is %s\" % metrics.fMeasure())"
   ]
  },
  {
   "cell_type": "code",
   "execution_count": 62,
   "metadata": {},
   "outputs": [
    {
     "name": "stdout",
     "output_type": "stream",
     "text": [
      "F1 score on test dataset is 0.5268817204301075\n"
     ]
    }
   ],
   "source": [
    "predictionAndLabels = pred_test_nb.rdd.map(lambda lp: (float(lp.prediction), float(lp.label)))\n",
    "\n",
    "# Instantiate metrics object\n",
    "metrics = MulticlassMetrics(predictionAndLabels)\n",
    "\n",
    "nb_test = metrics.fMeasure()\n",
    "\n",
    "# F1 score\n",
    "print(\"F1 score on test dataset is %s\" % metrics.fMeasure())"
   ]
  },
  {
   "cell_type": "markdown",
   "metadata": {},
   "source": [
    "`5` Compare the results:"
   ]
  },
  {
   "cell_type": "code",
   "execution_count": 71,
   "metadata": {},
   "outputs": [
    {
     "data": {
      "text/html": [
       "<div>\n",
       "<style scoped>\n",
       "    .dataframe tbody tr th:only-of-type {\n",
       "        vertical-align: middle;\n",
       "    }\n",
       "\n",
       "    .dataframe tbody tr th {\n",
       "        vertical-align: top;\n",
       "    }\n",
       "\n",
       "    .dataframe thead th {\n",
       "        text-align: right;\n",
       "    }\n",
       "</style>\n",
       "<table border=\"1\" class=\"dataframe\">\n",
       "  <thead>\n",
       "    <tr style=\"text-align: right;\">\n",
       "      <th></th>\n",
       "      <th>Classifier</th>\n",
       "      <th>Test</th>\n",
       "      <th>Train</th>\n",
       "    </tr>\n",
       "  </thead>\n",
       "  <tbody>\n",
       "    <tr>\n",
       "      <th>0</th>\n",
       "      <td>Random Forest</td>\n",
       "      <td>0.784946</td>\n",
       "      <td>0.796813</td>\n",
       "    </tr>\n",
       "    <tr>\n",
       "      <th>1</th>\n",
       "      <td>Logistic Regression</td>\n",
       "      <td>0.774194</td>\n",
       "      <td>0.788845</td>\n",
       "    </tr>\n",
       "    <tr>\n",
       "      <th>2</th>\n",
       "      <td>Gradient-boosted Tree</td>\n",
       "      <td>0.763441</td>\n",
       "      <td>0.952191</td>\n",
       "    </tr>\n",
       "    <tr>\n",
       "      <th>3</th>\n",
       "      <td>Naive Bayes</td>\n",
       "      <td>0.526882</td>\n",
       "      <td>0.454183</td>\n",
       "    </tr>\n",
       "  </tbody>\n",
       "</table>\n",
       "</div>"
      ],
      "text/plain": [
       "              Classifier      Test     Train\n",
       "0          Random Forest  0.784946  0.796813\n",
       "1    Logistic Regression  0.774194  0.788845\n",
       "2  Gradient-boosted Tree  0.763441  0.952191\n",
       "3            Naive Bayes  0.526882  0.454183"
      ]
     },
     "execution_count": 71,
     "metadata": {},
     "output_type": "execute_result"
    }
   ],
   "source": [
    "# assemble the results dataframe\n",
    "res = [{'Classifier': 'Random Forest', 'Train': rf_train, 'Test': rf_test},\n",
    "       {'Classifier': 'Logistic Regression', 'Train': lr_train, 'Test': lr_test},\n",
    "       {'Classifier': 'Gradient-boosted Tree', 'Train': gbt_train, 'Test': gbt_test},\n",
    "       {'Classifier': 'Naive Bayes', 'Train': nb_train, 'Test': nb_test}]\n",
    "results = pd.DataFrame(res)\n",
    "\n",
    "results"
   ]
  },
  {
   "cell_type": "code",
   "execution_count": 68,
   "metadata": {},
   "outputs": [
    {
     "data": {
      "text/plain": [
       "[]"
      ]
     },
     "execution_count": 68,
     "metadata": {},
     "output_type": "execute_result"
    },
    {
     "data": {
      "image/png": "[encoded data removed]",
      "text/plain": [
       "<Figure size 432x288 with 1 Axes>"
      ]
     },
     "metadata": {
      "needs_background": "light"
     },
     "output_type": "display_data"
    }
   ],
   "source": [
    "# plot the results to compare models\n",
    "\n",
    "fig, ax = plt.subplots()\n",
    "ax.set_title('Classifiers Comparison')\n",
    "\n",
    "width = 0.35\n",
    "\n",
    "x_pos = np.arange(0, 4)\n",
    "\n",
    "p1 = ax.bar(x_pos, [rf_train, lr_train, gbt_train, nb_train], width,\\\n",
    "            tick_label = ['Random Forest', 'Logistic Regression', 'Gradient-boosted Tree', 'Naive Bayes'])\n",
    "p2 = ax.bar(x_pos + width, [rf_test, lr_test, gbt_test, nb_test], width, \\\n",
    "                 tick_label = ['Random Forest', 'Logistic Regression', 'Gradient-boosted Tree', 'Naive Bayes'])\n",
    "\n",
    "ax.legend((p1[0], p2[0]), ('Train', 'Test'))\n",
    "\n",
    "for tick in ax.get_xticklabels():\n",
    "    tick.set_rotation(60)\n",
    "\n",
    "plt.plot()"
   ]
  },
  {
   "cell_type": "markdown",
   "metadata": {},
   "source": [
    "## Refinement"
   ]
  },
  {
   "cell_type": "markdown",
   "metadata": {},
   "source": [
    "To increase F1 scores, we can take the following refinement measures:\n",
    "* Add preprocessing to the pipeline: add scaling or normalization to preprocess numeric features.\n",
    "* Refine `last_state` column values: introduce categorical value ‘other’ for rare states.\n",
    "* Bucketize `avg_songs` and `avg_events` columns."
   ]
  },
  {
   "cell_type": "markdown",
   "metadata": {},
   "source": [
    "### Add preprocessing of features:"
   ]
  },
  {
   "cell_type": "markdown",
   "metadata": {},
   "source": [
    "Define framework for model comparison:"
   ]
  },
  {
   "cell_type": "code",
   "execution_count": 78,
   "metadata": {},
   "outputs": [],
   "source": [
    "def evaluate_model(pipeline, train, test):\n",
    "    '''\n",
    "    Function which evaluates the model and returns f1 score for train and test sets\n",
    "    INPUTS:\n",
    "        1. pipeline - machine learning pipeline\n",
    "        2. train - train dataset\n",
    "        3. test - test dataset\n",
    "        \n",
    "    OUTPUTS:\n",
    "        1. f1_train - f1 score for train set\n",
    "        2. f1_test - f1 score for test set\n",
    "    '''\n",
    "    \n",
    "    model = pipeline.fit(train)\n",
    "     \n",
    "    # get predictions\n",
    "    pred_train = model.transform(train)\n",
    "    pred_test = model.transform(test)\n",
    "    \n",
    "    # get metrics for train\n",
    "    predictionAndLabels = pred_train.rdd.map(lambda lp: (float(lp.prediction), float(lp.label)))\n",
    "    metrics = MulticlassMetrics(predictionAndLabels)\n",
    "\n",
    "    f1_train = metrics.fMeasure()\n",
    "    \n",
    "    # get metrics for test\n",
    "    predictionAndLabels = pred_test.rdd.map(lambda lp: (float(lp.prediction), float(lp.label)))\n",
    "    metrics = MulticlassMetrics(predictionAndLabels)\n",
    "\n",
    "    f1_test = metrics.fMeasure()\n",
    "    \n",
    "    return f1_train, f1_test"
   ]
  },
  {
   "cell_type": "code",
   "execution_count": 79,
   "metadata": {},
   "outputs": [],
   "source": [
    "def compare_models(stages, classifiers, train, test):\n",
    "    '''\n",
    "    Function to compare classifiers\n",
    "    INPUTS:\n",
    "        1. stages - list of pipeline stages\n",
    "        2. classifiers - dictionary of classifiers\n",
    "        3. train - train dataset\n",
    "        4. test - test dataset\n",
    "        \n",
    "    OUTPUT:\n",
    "        1. f1_scores - pandas dataframe with f1 scores for each classifier\n",
    "        for test and train datasets\n",
    "    '''\n",
    "    \n",
    "    f1_scores = pd.DataFrame()\n",
    "    \n",
    "    # for each classifier in list\n",
    "    for classifier_key in classifiers.keys():\n",
    "        \n",
    "        # assemble pipeline\n",
    "        stages_cl = stages.copy()\n",
    "        stages_cl.append(classifiers[classifier_key])\n",
    "        \n",
    "        print(stages_cl)\n",
    "        \n",
    "        pipeline = Pipeline(stages = stages_cl)\n",
    "        \n",
    "        # get f1 scores for train and test\n",
    "        f1_train, f1_test = evaluate_model(pipeline, train, test)\n",
    "        \n",
    "        # append to dataframe\n",
    "        f1_scores = f1_scores.append({'classifier': classifier_key, 'train': f1_train, 'test': f1_test}\\\n",
    "                                     , ignore_index=True)\n",
    "        \n",
    "    return f1_scores"
   ]
  },
  {
   "cell_type": "code",
   "execution_count": 80,
   "metadata": {},
   "outputs": [],
   "source": [
    "def plot_model_comparison(title, f1_scores):\n",
    "    '''\n",
    "    Function plots bar chart with f1 scores\n",
    "    INPUTS:\n",
    "        1. title - plot title\n",
    "        2. f1_scores - pandas dataframe with f1 scores for each classifier\n",
    "        for test and train datasets\n",
    "        \n",
    "    OUTPUT:\n",
    "        None, the function plots bar chart with f1 scores for train and test\n",
    "    '''\n",
    "    \n",
    "    fig, ax = plt.subplots()\n",
    "    ax.set_title(title)\n",
    "\n",
    "    width = 0.35\n",
    "\n",
    "    x_pos = np.arange(0, 4)\n",
    "\n",
    "    p1 = ax.bar(x_pos, f1_scores['train'].values, width,\\\n",
    "            tick_label = f1_scores['classifier'].values)\n",
    "    p2 = ax.bar(x_pos + width, f1_scores['test'].values, width, \\\n",
    "                 tick_label = f1_scores['classifier'].values)\n",
    "\n",
    "    ax.legend((p1[0], p2[0]), ('Train', 'Test'))\n",
    "\n",
    "    for tick in ax.get_xticklabels():\n",
    "        tick.set_rotation(60)\n",
    "\n",
    "    plt.plot()"
   ]
  },
  {
   "cell_type": "markdown",
   "metadata": {},
   "source": [
    "Use functions defined above to compare different algorithms:"
   ]
  },
  {
   "cell_type": "code",
   "execution_count": 10,
   "metadata": {},
   "outputs": [],
   "source": [
    "df_ml = df_ml.withColumnRenamed(\"churn\", \"label\")\n",
    "\n",
    "# split dataset\n",
    "train, test, valid = df_ml.randomSplit([0.6, 0.2, 0.2])"
   ]
  },
  {
   "cell_type": "code",
   "execution_count": 11,
   "metadata": {},
   "outputs": [],
   "source": [
    "#create stages\n",
    "\n",
    "stringIndexerGender = StringIndexer(inputCol=\"gender\", outputCol=\"genderIndex\", handleInvalid = 'skip')\n",
    "stringIndexerLevel = StringIndexer(inputCol=\"last_level\", outputCol=\"levelIndex\", handleInvalid = 'skip')\n",
    "stringIndexerState = StringIndexer(inputCol=\"last_state\", outputCol=\"stateIndex\", handleInvalid = 'skip')\n",
    "\n",
    "encoder = OneHotEncoderEstimator(inputCols=[\"genderIndex\", \"levelIndex\", \"stateIndex\"],\n",
    "                                       outputCols=[\"genderVec\", \"levelVec\", \"stateVec\"],\n",
    "                                handleInvalid = 'keep')\n",
    "\n",
    "# create vector for features\n",
    "features = ['genderVec', 'levelVec', 'stateVec', 'days_active', 'avg_songs', 'avg_events', 'thumbs_up', 'thumbs_down', 'addfriend']\n",
    "assembler = VectorAssembler(inputCols=features, outputCol=\"features\")\n",
    "\n",
    "stages = [stringIndexerGender, stringIndexerLevel, stringIndexerState, encoder, assembler]"
   ]
  },
  {
   "cell_type": "code",
   "execution_count": 12,
   "metadata": {},
   "outputs": [],
   "source": [
    "# initialize classifiers\n",
    "\n",
    "rf = RandomForestClassifier(labelCol=\"label\", featuresCol=\"features\", numTrees=10)\n",
    "lr = LogisticRegression(maxIter=10, regParam=0.3, elasticNetParam=0.8, family=\"multinomial\")\n",
    "gbt = GBTClassifier(labelCol=\"label\", featuresCol=\"features\", maxIter=10)\n",
    "nb = NaiveBayes(smoothing=1.0, modelType=\"multinomial\")\n",
    "\n",
    "# create dictionary\n",
    "\n",
    "classifiers = {'Random Forest': rf, 'Logistic Regression' : lr, 'Gradient-boosted Tree' : gbt, 'Naive Bayes' : nb}"
   ]
  },
  {
   "cell_type": "code",
   "execution_count": 84,
   "metadata": {},
   "outputs": [
    {
     "name": "stdout",
     "output_type": "stream",
     "text": [
      "[StringIndexer_f4ad95db6594, StringIndexer_0a830a182e19, StringIndexer_b1f60f6160ca, OneHotEncoderEstimator_43048b6bf185, VectorAssembler_c666fce1f754, RandomForestClassifier_33c20388a91f]\n",
      "[StringIndexer_f4ad95db6594, StringIndexer_0a830a182e19, StringIndexer_b1f60f6160ca, OneHotEncoderEstimator_43048b6bf185, VectorAssembler_c666fce1f754, LogisticRegression_a1a4b8a1ae02]\n",
      "[StringIndexer_f4ad95db6594, StringIndexer_0a830a182e19, StringIndexer_b1f60f6160ca, OneHotEncoderEstimator_43048b6bf185, VectorAssembler_c666fce1f754, GBTClassifier_8639e453de8d]\n",
      "[StringIndexer_f4ad95db6594, StringIndexer_0a830a182e19, StringIndexer_b1f60f6160ca, OneHotEncoderEstimator_43048b6bf185, VectorAssembler_c666fce1f754, NaiveBayes_d67dc8de5a8c]\n"
     ]
    }
   ],
   "source": [
    "# calculate f1 scores\n",
    "f1_scores = compare_models(stages, classifiers, train, test)"
   ]
  },
  {
   "cell_type": "code",
   "execution_count": 85,
   "metadata": {},
   "outputs": [
    {
     "data": {
      "image/png": "[encoded data removed]",
      "text/plain": [
       "<Figure size 432x288 with 1 Axes>"
      ]
     },
     "metadata": {
      "needs_background": "light"
     },
     "output_type": "display_data"
    }
   ],
   "source": [
    "# plot results\n",
    "plot_model_comparison('Classifiers Comparison', f1_scores)"
   ]
  },
  {
   "cell_type": "code",
   "execution_count": 92,
   "metadata": {},
   "outputs": [
    {
     "data": {
      "text/html": [
       "<div>\n",
       "<style scoped>\n",
       "    .dataframe tbody tr th:only-of-type {\n",
       "        vertical-align: middle;\n",
       "    }\n",
       "\n",
       "    .dataframe tbody tr th {\n",
       "        vertical-align: top;\n",
       "    }\n",
       "\n",
       "    .dataframe thead th {\n",
       "        text-align: right;\n",
       "    }\n",
       "</style>\n",
       "<table border=\"1\" class=\"dataframe\">\n",
       "  <thead>\n",
       "    <tr style=\"text-align: right;\">\n",
       "      <th></th>\n",
       "      <th>classifier</th>\n",
       "      <th>test</th>\n",
       "      <th>train</th>\n",
       "    </tr>\n",
       "  </thead>\n",
       "  <tbody>\n",
       "    <tr>\n",
       "      <th>0</th>\n",
       "      <td>Random Forest</td>\n",
       "      <td>0.780488</td>\n",
       "      <td>0.841328</td>\n",
       "    </tr>\n",
       "    <tr>\n",
       "      <th>1</th>\n",
       "      <td>Logistic Regression</td>\n",
       "      <td>0.804878</td>\n",
       "      <td>0.782288</td>\n",
       "    </tr>\n",
       "    <tr>\n",
       "      <th>2</th>\n",
       "      <td>Gradient-boosted Tree</td>\n",
       "      <td>0.743902</td>\n",
       "      <td>0.977860</td>\n",
       "    </tr>\n",
       "    <tr>\n",
       "      <th>3</th>\n",
       "      <td>Naive Bayes</td>\n",
       "      <td>0.365854</td>\n",
       "      <td>0.464945</td>\n",
       "    </tr>\n",
       "  </tbody>\n",
       "</table>\n",
       "</div>"
      ],
      "text/plain": [
       "              classifier      test     train\n",
       "0          Random Forest  0.780488  0.841328\n",
       "1    Logistic Regression  0.804878  0.782288\n",
       "2  Gradient-boosted Tree  0.743902  0.977860\n",
       "3            Naive Bayes  0.365854  0.464945"
      ]
     },
     "execution_count": 92,
     "metadata": {},
     "output_type": "execute_result"
    }
   ],
   "source": [
    "f1_scores"
   ]
  },
  {
   "cell_type": "markdown",
   "metadata": {},
   "source": [
    "`1`  Add scaling as preprocessing:"
   ]
  },
  {
   "cell_type": "code",
   "execution_count": 86,
   "metadata": {},
   "outputs": [],
   "source": [
    "# add scaler\n",
    "assembler = VectorAssembler(inputCols=features, outputCol=\"rawFeatures\")\n",
    "scaler = MinMaxScaler(inputCol=\"rawFeatures\", outputCol=\"features\")\n",
    "\n",
    "stages = [stringIndexerGender, stringIndexerLevel, stringIndexerState, encoder, assembler, scaler]"
   ]
  },
  {
   "cell_type": "code",
   "execution_count": 87,
   "metadata": {},
   "outputs": [
    {
     "name": "stdout",
     "output_type": "stream",
     "text": [
      "[StringIndexer_f4ad95db6594, StringIndexer_0a830a182e19, StringIndexer_b1f60f6160ca, OneHotEncoderEstimator_43048b6bf185, VectorAssembler_83e54155f1ab, MinMaxScaler_88e115a7c388, RandomForestClassifier_33c20388a91f]\n",
      "[StringIndexer_f4ad95db6594, StringIndexer_0a830a182e19, StringIndexer_b1f60f6160ca, OneHotEncoderEstimator_43048b6bf185, VectorAssembler_83e54155f1ab, MinMaxScaler_88e115a7c388, LogisticRegression_a1a4b8a1ae02]\n",
      "[StringIndexer_f4ad95db6594, StringIndexer_0a830a182e19, StringIndexer_b1f60f6160ca, OneHotEncoderEstimator_43048b6bf185, VectorAssembler_83e54155f1ab, MinMaxScaler_88e115a7c388, GBTClassifier_8639e453de8d]\n",
      "[StringIndexer_f4ad95db6594, StringIndexer_0a830a182e19, StringIndexer_b1f60f6160ca, OneHotEncoderEstimator_43048b6bf185, VectorAssembler_83e54155f1ab, MinMaxScaler_88e115a7c388, NaiveBayes_d67dc8de5a8c]\n"
     ]
    }
   ],
   "source": [
    "# calculate f1 scores\n",
    "f1_scores_scaling = compare_models(stages, classifiers, train, test)"
   ]
  },
  {
   "cell_type": "code",
   "execution_count": 88,
   "metadata": {},
   "outputs": [
    {
     "data": {
      "image/png": "[encoded data removed]",
      "text/plain": [
       "<Figure size 432x288 with 1 Axes>"
      ]
     },
     "metadata": {
      "needs_background": "light"
     },
     "output_type": "display_data"
    }
   ],
   "source": [
    "# plot results\n",
    "plot_model_comparison('Classifiers Comparison with Scaling', f1_scores_scaling)"
   ]
  },
  {
   "cell_type": "code",
   "execution_count": 93,
   "metadata": {},
   "outputs": [
    {
     "data": {
      "text/html": [
       "<div>\n",
       "<style scoped>\n",
       "    .dataframe tbody tr th:only-of-type {\n",
       "        vertical-align: middle;\n",
       "    }\n",
       "\n",
       "    .dataframe tbody tr th {\n",
       "        vertical-align: top;\n",
       "    }\n",
       "\n",
       "    .dataframe thead th {\n",
       "        text-align: right;\n",
       "    }\n",
       "</style>\n",
       "<table border=\"1\" class=\"dataframe\">\n",
       "  <thead>\n",
       "    <tr style=\"text-align: right;\">\n",
       "      <th></th>\n",
       "      <th>classifier</th>\n",
       "      <th>test</th>\n",
       "      <th>train</th>\n",
       "    </tr>\n",
       "  </thead>\n",
       "  <tbody>\n",
       "    <tr>\n",
       "      <th>0</th>\n",
       "      <td>Random Forest</td>\n",
       "      <td>0.780488</td>\n",
       "      <td>0.837638</td>\n",
       "    </tr>\n",
       "    <tr>\n",
       "      <th>1</th>\n",
       "      <td>Logistic Regression</td>\n",
       "      <td>0.804878</td>\n",
       "      <td>0.782288</td>\n",
       "    </tr>\n",
       "    <tr>\n",
       "      <th>2</th>\n",
       "      <td>Gradient-boosted Tree</td>\n",
       "      <td>0.743902</td>\n",
       "      <td>0.977860</td>\n",
       "    </tr>\n",
       "    <tr>\n",
       "      <th>3</th>\n",
       "      <td>Naive Bayes</td>\n",
       "      <td>0.804878</td>\n",
       "      <td>0.793358</td>\n",
       "    </tr>\n",
       "  </tbody>\n",
       "</table>\n",
       "</div>"
      ],
      "text/plain": [
       "              classifier      test     train\n",
       "0          Random Forest  0.780488  0.837638\n",
       "1    Logistic Regression  0.804878  0.782288\n",
       "2  Gradient-boosted Tree  0.743902  0.977860\n",
       "3            Naive Bayes  0.804878  0.793358"
      ]
     },
     "execution_count": 93,
     "metadata": {},
     "output_type": "execute_result"
    }
   ],
   "source": [
    "f1_scores_scaling"
   ]
  },
  {
   "cell_type": "markdown",
   "metadata": {},
   "source": [
    "`2` Add normalization as preprocessing:"
   ]
  },
  {
   "cell_type": "code",
   "execution_count": 89,
   "metadata": {},
   "outputs": [],
   "source": [
    "# add normalizer\n",
    "assembler = VectorAssembler(inputCols=features, outputCol=\"rawFeatures\")\n",
    "normalizer = Normalizer(inputCol=\"rawFeatures\", outputCol=\"features\", p=1.0)\n",
    "\n",
    "stages = [stringIndexerGender, stringIndexerLevel, stringIndexerState, encoder, assembler, normalizer]"
   ]
  },
  {
   "cell_type": "code",
   "execution_count": 90,
   "metadata": {},
   "outputs": [
    {
     "name": "stdout",
     "output_type": "stream",
     "text": [
      "[StringIndexer_f4ad95db6594, StringIndexer_0a830a182e19, StringIndexer_b1f60f6160ca, OneHotEncoderEstimator_43048b6bf185, VectorAssembler_0f38495907b4, Normalizer_6ba2297486c8, RandomForestClassifier_33c20388a91f]\n",
      "[StringIndexer_f4ad95db6594, StringIndexer_0a830a182e19, StringIndexer_b1f60f6160ca, OneHotEncoderEstimator_43048b6bf185, VectorAssembler_0f38495907b4, Normalizer_6ba2297486c8, LogisticRegression_a1a4b8a1ae02]\n",
      "[StringIndexer_f4ad95db6594, StringIndexer_0a830a182e19, StringIndexer_b1f60f6160ca, OneHotEncoderEstimator_43048b6bf185, VectorAssembler_0f38495907b4, Normalizer_6ba2297486c8, GBTClassifier_8639e453de8d]\n",
      "[StringIndexer_f4ad95db6594, StringIndexer_0a830a182e19, StringIndexer_b1f60f6160ca, OneHotEncoderEstimator_43048b6bf185, VectorAssembler_0f38495907b4, Normalizer_6ba2297486c8, NaiveBayes_d67dc8de5a8c]\n"
     ]
    }
   ],
   "source": [
    "# calculate f1 scores\n",
    "f1_scores_norm = compare_models(stages, classifiers, train, test)"
   ]
  },
  {
   "cell_type": "code",
   "execution_count": 91,
   "metadata": {},
   "outputs": [
    {
     "data": {
      "image/png": "[encoded data removed]",
      "text/plain": [
       "<Figure size 432x288 with 1 Axes>"
      ]
     },
     "metadata": {
      "needs_background": "light"
     },
     "output_type": "display_data"
    }
   ],
   "source": [
    "# plot results\n",
    "plot_model_comparison('Classifiers Comparison with Normalization', f1_scores_norm)"
   ]
  },
  {
   "cell_type": "code",
   "execution_count": 94,
   "metadata": {},
   "outputs": [
    {
     "data": {
      "text/html": [
       "<div>\n",
       "<style scoped>\n",
       "    .dataframe tbody tr th:only-of-type {\n",
       "        vertical-align: middle;\n",
       "    }\n",
       "\n",
       "    .dataframe tbody tr th {\n",
       "        vertical-align: top;\n",
       "    }\n",
       "\n",
       "    .dataframe thead th {\n",
       "        text-align: right;\n",
       "    }\n",
       "</style>\n",
       "<table border=\"1\" class=\"dataframe\">\n",
       "  <thead>\n",
       "    <tr style=\"text-align: right;\">\n",
       "      <th></th>\n",
       "      <th>classifier</th>\n",
       "      <th>test</th>\n",
       "      <th>train</th>\n",
       "    </tr>\n",
       "  </thead>\n",
       "  <tbody>\n",
       "    <tr>\n",
       "      <th>0</th>\n",
       "      <td>Random Forest</td>\n",
       "      <td>0.804878</td>\n",
       "      <td>0.800738</td>\n",
       "    </tr>\n",
       "    <tr>\n",
       "      <th>1</th>\n",
       "      <td>Logistic Regression</td>\n",
       "      <td>0.804878</td>\n",
       "      <td>0.782288</td>\n",
       "    </tr>\n",
       "    <tr>\n",
       "      <th>2</th>\n",
       "      <td>Gradient-boosted Tree</td>\n",
       "      <td>0.780488</td>\n",
       "      <td>0.922509</td>\n",
       "    </tr>\n",
       "    <tr>\n",
       "      <th>3</th>\n",
       "      <td>Naive Bayes</td>\n",
       "      <td>0.804878</td>\n",
       "      <td>0.782288</td>\n",
       "    </tr>\n",
       "  </tbody>\n",
       "</table>\n",
       "</div>"
      ],
      "text/plain": [
       "              classifier      test     train\n",
       "0          Random Forest  0.804878  0.800738\n",
       "1    Logistic Regression  0.804878  0.782288\n",
       "2  Gradient-boosted Tree  0.780488  0.922509\n",
       "3            Naive Bayes  0.804878  0.782288"
      ]
     },
     "execution_count": 94,
     "metadata": {},
     "output_type": "execute_result"
    }
   ],
   "source": [
    "f1_scores_norm"
   ]
  },
  {
   "cell_type": "markdown",
   "metadata": {},
   "source": [
    "#### Conclusions:"
   ]
  },
  {
   "cell_type": "markdown",
   "metadata": {},
   "source": [
    "Preprocessing increases slightly F1 scores of Random Forest and Gradient-boosted Tree algorithms and dramatically increases scores of Naïve Bayes algorithm."
   ]
  },
  {
   "cell_type": "markdown",
   "metadata": {},
   "source": [
    "### Refine `last_level` feature: set value 'other' for rare states"
   ]
  },
  {
   "cell_type": "markdown",
   "metadata": {},
   "source": [
    "Rewrite `prepare_dataset` function to set value 'other' for rare states instead of postal codes:"
   ]
  },
  {
   "cell_type": "code",
   "execution_count": 6,
   "metadata": {},
   "outputs": [],
   "source": [
    "def prepare_dataset_refined(df):\n",
    "    '''\n",
    "    Function for preparation of dataset for machine learning\n",
    "    INPUT:\n",
    "    df - initial dataset loaded from json file\n",
    "    \n",
    "    OUTPUT:\n",
    "    df_ml - new dataset prepared for machine learning\n",
    "    contains the following columns:\n",
    "    1. userId - initial id of the user\n",
    "    2. gender - user's gender\n",
    "    3. avg_events - average number of events per day for the user\n",
    "    4. avg_songs - average number of songs the user listens to per day\n",
    "    5. thumbs_up - number of thumbs up events\n",
    "    6. thumbs_down - number of thumbs down events\n",
    "    7. active_days - days since user's firts event\n",
    "    8. last_location - location of the last event\n",
    "    9. last_level - user's last level (paid or free)\n",
    "    10. addfriends - number of add friends events\n",
    "    '''\n",
    "    \n",
    "    # clean dataset using clean_data function\n",
    "    df = clean_data(df)\n",
    "    \n",
    "    # add 'churn' column to the original dataset\n",
    "    \n",
    "    # define cancellation udf\n",
    "    cancellation_event = udf(lambda x: 1 if x == \"Cancellation Confirmation\" else 0, IntegerType())\n",
    "    \n",
    "    # set churn = 1 for rows where page == 'Cancellation Confirmation'\n",
    "    df = df.withColumn(\"churn\", cancellation_event(\"page\"))\n",
    "    \n",
    "    # get userId with churn == 1\n",
    "    cancelled_users = df.select(['userId']).where(df.churn == 1).groupby('userId').count().toPandas()['userId'].values\n",
    "    \n",
    "    # create udf, which sets churn of a row to 1 if userId is in cancelled_users list\n",
    "    def fill_array(userId, features):\n",
    "        if(userId in cancelled_users): return 1\n",
    "        else : return 0\n",
    "    \n",
    "    # set churn == 1 for all rows for users who cancelled their subscription\n",
    "    fill_array_udf = udf(fill_array, IntegerType())\n",
    "    df = df.withColumn(\"churn\", fill_array_udf(col(\"userId\"), col(\"churn\")))\n",
    "    \n",
    "    # set column last ts with the first and the last event timestamp\n",
    "    w = Window.partitionBy('userId')\n",
    "    df = df.withColumn('last_ts', max('ts').over(w))\n",
    "    df = df.withColumn('first_ts', min('ts').over(w))\n",
    "    \n",
    "    # convert timestamp to date (string)\n",
    "    def get_date_from_ts(ts):\n",
    "        return str(datetime.utcfromtimestamp(ts / 1000).strftime('%Y-%m-%d'))\n",
    "    \n",
    "    get_date_from_ts_udf = udf(get_date_from_ts, StringType())\n",
    "    df = df.withColumn('last_date', get_date_from_ts_udf(col('last_ts')))\n",
    "    df = df.withColumn('first_date', get_date_from_ts_udf(col('first_ts')))\n",
    "    \n",
    "    # add column date and convert timetamp to date\n",
    "    df = df.withColumn('date', get_date_from_ts_udf(col('ts')))\n",
    "    \n",
    "    # set column last_level to level when timestamp is last timestamp\n",
    "    df = df.withColumn('last_level',when(df.last_ts == df.ts, df.level))\n",
    "    \n",
    "    # create column avg_songs to calculate average number of songs per day\n",
    "    w = Window.partitionBy('userId', 'date')\n",
    "    songs = df.where(df.page == 'NextSong').select('userId', 'date', count('userId').over(w).alias('songs')).distinct()\n",
    "    w = Window.partitionBy('userId')\n",
    "    songs = songs.withColumn('avg_songs', avg('songs').over(w))\n",
    "    songs = songs.select(col(\"userId\").alias(\"songs_userId\"), 'avg_songs')\n",
    "    songs = songs.withColumn(\"avg_songs\", round(songs[\"avg_songs\"], 2))\n",
    "    \n",
    "    # create column avg_songs to calculate average number of events per day\n",
    "    w = Window.partitionBy('userId', 'date')\n",
    "    events = df.select('userId', 'date', count('userId').over(w).alias('events')).distinct()\n",
    "    w = Window.partitionBy('userId')\n",
    "    events = events.withColumn('avg_events', avg('events').over(w))\n",
    "    events = events.select(col(\"userId\").alias(\"events_userId\"), 'avg_events')\n",
    "    events = events.withColumn(\"avg_events\", round(events[\"avg_events\"], 2))\n",
    "    \n",
    "    # calculate number of thumbs up for a user\n",
    "    w = Window.partitionBy('userId')\n",
    "    thumbsup = df.where(df.page == 'Thumbs Up').select('userId', count('userId').over(w).alias('thumbs_up')).distinct()\n",
    "    thumbsup = thumbsup.select(col(\"userId\").alias(\"thumbsup_userId\"), 'thumbs_up')\n",
    "    \n",
    "    # calculate number of thumbs down for a user\n",
    "    w = Window.partitionBy('userId')\n",
    "    thumbsdown = df.where(df.page == 'Thumbs Down').select('userId', count('userId').over(w).alias('thumbs_down')).distinct()\n",
    "    thumbsdown = thumbsdown.select(col(\"userId\").alias(\"thumbsdown_userId\"), 'thumbs_down')\n",
    "    \n",
    "    # calculate days since the date of the first event\n",
    "    df = df.withColumn(\"days_active\", \n",
    "              datediff(to_date(lit(datetime.now().strftime(\"%Y-%m-%d %H:%M\"))),\n",
    "                       to_date(\"first_date\",\"yyyy-MM-dd\")))\n",
    "    \n",
    "    # add column with state of the event based on location column\n",
    "    def get_state(location):\n",
    "        location = location.split(',')[-1].strip()\n",
    "        if (len(location) > 2):\n",
    "            location = location.split('-')[-1].strip()\n",
    "    \n",
    "        return location\n",
    "    \n",
    "    get_state_udf = udf(get_state, StringType())\n",
    "    df = df.withColumn('state', get_state_udf(col('location')))\n",
    "    \n",
    "    #add column with last location of the user\n",
    "    df = df.withColumn('last_state',when(df.last_ts == df.ts, df.state))\n",
    "    \n",
    "    # find top states\n",
    "    top_states = df.select('last_state').groupBy(df.last_state).count().sort(col(\"count\").desc()).limit(11).toPandas()\n",
    "    top_states_list = top_states['last_state'][1:].values.tolist()\n",
    "    \n",
    "    # change names of rare states to 'OTHER'\n",
    "    df = df.withColumn('last_state',when(df.last_state.isin(top_states_list), df.last_state).otherwise('OTHER'))\n",
    "    \n",
    "    # calculate number of add friends for a user\n",
    "    w = Window.partitionBy('userId')\n",
    "    addfriend = df.where(df.page == 'Add Friend').select('userId', count('userId').over(w).alias('addfriend')).distinct()\n",
    "    addfriend = addfriend.select(col(\"userId\").alias(\"addfriend_userId\"), 'addfriend')\n",
    "\n",
    "    # assemble everything into resulting dataset\n",
    "    df_ml = df.select('userId', 'gender', 'churn', 'last_level', 'days_active', 'last_state')\\\n",
    "    .dropna().drop_duplicates()\n",
    "    df_ml = df_ml.join(songs, df_ml.userId == songs.songs_userId).distinct()\n",
    "    df_ml = df_ml.join(events, df_ml.userId == events.events_userId).distinct()\n",
    "    df_ml = df_ml.join(thumbsup, df_ml.userId == thumbsup.thumbsup_userId, how='left').distinct()\n",
    "    df_ml = df_ml.fillna(0, subset=['thumbs_up'])\n",
    "    df_ml = df_ml.join(thumbsdown, df_ml.userId == thumbsdown.thumbsdown_userId, how='left').distinct()\n",
    "    df_ml = df_ml.fillna(0, subset=['thumbs_down'])\n",
    "    df_ml = df_ml.join(addfriend, df_ml.userId == addfriend.addfriend_userId, how='left').distinct()\n",
    "    df_ml = df_ml.fillna(0, subset=['addfriend'])\n",
    "    df_ml = df_ml.drop('songs_userId','events_userId', 'thumbsup_userId', 'thumbsdown_userId', 'addfriend_userId')\n",
    "    \n",
    "    return df, df_ml"
   ]
  },
  {
   "cell_type": "markdown",
   "metadata": {},
   "source": [
    "Apply the function to dataset, ensure that the function works as assumed:"
   ]
  },
  {
   "cell_type": "code",
   "execution_count": 7,
   "metadata": {},
   "outputs": [],
   "source": [
    "df, df_ml = prepare_dataset_refined(df)"
   ]
  },
  {
   "cell_type": "code",
   "execution_count": 8,
   "metadata": {},
   "outputs": [
    {
     "data": {
      "text/plain": [
       "Row(artist='Darude', auth='Logged In', firstName='Darianna', gender='F', itemInSession=0, lastName='Carpenter', length=226.08934, level='free', location='Bridgeport-Stamford-Norwalk, CT', method='PUT', page='NextSong', registration=1538016340000, sessionId=62, song='Sandstorm', status=200, ts=1538991392000, userAgent='\"Mozilla/5.0 (iPhone; CPU iPhone OS 7_1_2 like Mac OS X) AppleWebKit/537.51.2 (KHTML, like Gecko) Version/7.0 Mobile/11D257 Safari/9537.53\"', userId='100010', churn=1, last_ts=1539254318000, first_ts=1538991392000, last_date='2018-10-11', first_date='2018-10-08', date='2018-10-08', last_level=None, days_active=190, state='CT', last_state='OTHER')"
      ]
     },
     "execution_count": 8,
     "metadata": {},
     "output_type": "execute_result"
    }
   ],
   "source": [
    "df.head()"
   ]
  },
  {
   "cell_type": "code",
   "execution_count": 9,
   "metadata": {},
   "outputs": [
    {
     "name": "stdout",
     "output_type": "stream",
     "text": [
      "+------+------+-----+----------+-----------+----------+---------+----------+---------+-----------+---------+\n",
      "|userId|gender|churn|last_level|days_active|last_state|avg_songs|avg_events|thumbs_up|thumbs_down|addfriend|\n",
      "+------+------+-----+----------+-----------+----------+---------+----------+---------+-----------+---------+\n",
      "|100010|     F|    1|      free|        190|     OTHER|     48.0|      68.5|        4|          3|        3|\n",
      "|200002|     M|    1|      paid|        197|        WI|    51.67|     65.83|       15|          5|        2|\n",
      "|   296|     F|    1|      paid|        196|     OTHER|     22.4|      30.4|        8|          0|        2|\n",
      "|   125|     M|    0|      free|        196|        TX|    20.67|      28.0|        3|          1|        3|\n",
      "|   124|     F|    1|      paid|        197|     OTHER|    86.95|      98.0|      102|         15|       26|\n",
      "|    51|     M|    1|      paid|        197|     OTHER|    44.33|     54.67|       16|          1|        3|\n",
      "|     7|     M|    0|      free|        196|        WA|     30.8|      40.0|       12|          4|       16|\n",
      "|200037|     M|    1|      free|        190|     OTHER|    17.43|     22.14|        5|          3|        2|\n",
      "|   169|     M|    0|      free|        196|        IN|     14.0|     18.63|        6|          0|        6|\n",
      "|   205|     F|    0|      paid|        194|        IL|   116.44|    138.22|       50|         10|       21|\n",
      "|   272|     F|    0|      free|        182|        SC|     48.5|      65.5|        7|          4|        0|\n",
      "|    15|     M|    0|      paid|        189|     OTHER|    87.38|    103.48|       93|         16|       32|\n",
      "|   232|     F|    0|      paid|        197|        CA|    75.04|      93.0|       97|         17|       43|\n",
      "|   234|     M|    1|      paid|        196|     OTHER|    76.09|     87.87|       91|         22|       17|\n",
      "|   282|     M|    0|      paid|        197|        CA|    87.63|    102.94|      133|         29|       79|\n",
      "|    54|     F|    1|      paid|        197|        WA|    86.17|     104.0|       26|          7|       20|\n",
      "|   155|     F|    0|      paid|        186|        WI|     28.0|      34.4|        7|          0|        0|\n",
      "|200043|     F|    0|      paid|        196|     OTHER|    55.91|     67.33|       33|         22|       12|\n",
      "|100014|     M|    1|      paid|        195|        PA|     83.0|     101.5|       14|          3|        3|\n",
      "|   132|     F|    1|      paid|        196|     OTHER|     56.5|      72.0|        4|          1|        4|\n",
      "+------+------+-----+----------+-----------+----------+---------+----------+---------+-----------+---------+\n",
      "only showing top 20 rows\n",
      "\n"
     ]
    }
   ],
   "source": [
    "df_ml.show()"
   ]
  },
  {
   "cell_type": "code",
   "execution_count": 118,
   "metadata": {},
   "outputs": [
    {
     "name": "stdout",
     "output_type": "stream",
     "text": [
      "+----------+\n",
      "|last_state|\n",
      "+----------+\n",
      "|        SC|\n",
      "|        WI|\n",
      "|        CA|\n",
      "|        NC|\n",
      "|        MD|\n",
      "|        WA|\n",
      "|        IN|\n",
      "|        PA|\n",
      "|     OTHER|\n",
      "|        TX|\n",
      "|        FL|\n",
      "+----------+\n",
      "\n"
     ]
    }
   ],
   "source": [
    "df_ml.select('last_state').distinct().show()"
   ]
  },
  {
   "cell_type": "code",
   "execution_count": 119,
   "metadata": {},
   "outputs": [
    {
     "data": {
      "text/plain": [
       "448"
      ]
     },
     "execution_count": 119,
     "metadata": {},
     "output_type": "execute_result"
    }
   ],
   "source": [
    "df_ml.count()"
   ]
  },
  {
   "cell_type": "markdown",
   "metadata": {},
   "source": [
    "Check F1 scores for dataset with refined `'last_state'` values:"
   ]
  },
  {
   "cell_type": "code",
   "execution_count": 120,
   "metadata": {},
   "outputs": [],
   "source": [
    "df_ml = df_ml.withColumnRenamed(\"churn\", \"label\")\n",
    "\n",
    "# split dataset\n",
    "train, test, valid = df_ml.randomSplit([0.6, 0.2, 0.2])"
   ]
  },
  {
   "cell_type": "code",
   "execution_count": 121,
   "metadata": {},
   "outputs": [],
   "source": [
    "# assemble pipeline\n",
    "\n",
    "assembler = VectorAssembler(inputCols=features, outputCol=\"features\")\n",
    "stages = [stringIndexerGender, stringIndexerLevel, stringIndexerState, encoder, assembler]"
   ]
  },
  {
   "cell_type": "code",
   "execution_count": 122,
   "metadata": {},
   "outputs": [
    {
     "name": "stdout",
     "output_type": "stream",
     "text": [
      "[StringIndexer_f4ad95db6594, StringIndexer_0a830a182e19, StringIndexer_b1f60f6160ca, OneHotEncoderEstimator_43048b6bf185, VectorAssembler_41b83e5903ba, RandomForestClassifier_33c20388a91f]\n",
      "[StringIndexer_f4ad95db6594, StringIndexer_0a830a182e19, StringIndexer_b1f60f6160ca, OneHotEncoderEstimator_43048b6bf185, VectorAssembler_41b83e5903ba, LogisticRegression_a1a4b8a1ae02]\n",
      "[StringIndexer_f4ad95db6594, StringIndexer_0a830a182e19, StringIndexer_b1f60f6160ca, OneHotEncoderEstimator_43048b6bf185, VectorAssembler_41b83e5903ba, GBTClassifier_8639e453de8d]\n",
      "[StringIndexer_f4ad95db6594, StringIndexer_0a830a182e19, StringIndexer_b1f60f6160ca, OneHotEncoderEstimator_43048b6bf185, VectorAssembler_41b83e5903ba, NaiveBayes_d67dc8de5a8c]\n"
     ]
    }
   ],
   "source": [
    "# calculate f1 scores\n",
    "f1_scores_refined_state = compare_models(stages, classifiers, train, test)"
   ]
  },
  {
   "cell_type": "code",
   "execution_count": 124,
   "metadata": {},
   "outputs": [
    {
     "data": {
      "image/png": "[encoded data removed]",
      "text/plain": [
       "<Figure size 432x288 with 1 Axes>"
      ]
     },
     "metadata": {
      "needs_background": "light"
     },
     "output_type": "display_data"
    }
   ],
   "source": [
    "# plot results\n",
    "plot_model_comparison('Classifiers Comparison with Refined States', f1_scores)"
   ]
  },
  {
   "cell_type": "code",
   "execution_count": 125,
   "metadata": {},
   "outputs": [
    {
     "data": {
      "text/html": [
       "<div>\n",
       "<style scoped>\n",
       "    .dataframe tbody tr th:only-of-type {\n",
       "        vertical-align: middle;\n",
       "    }\n",
       "\n",
       "    .dataframe tbody tr th {\n",
       "        vertical-align: top;\n",
       "    }\n",
       "\n",
       "    .dataframe thead th {\n",
       "        text-align: right;\n",
       "    }\n",
       "</style>\n",
       "<table border=\"1\" class=\"dataframe\">\n",
       "  <thead>\n",
       "    <tr style=\"text-align: right;\">\n",
       "      <th></th>\n",
       "      <th>classifier</th>\n",
       "      <th>test</th>\n",
       "      <th>train</th>\n",
       "    </tr>\n",
       "  </thead>\n",
       "  <tbody>\n",
       "    <tr>\n",
       "      <th>0</th>\n",
       "      <td>Random Forest</td>\n",
       "      <td>0.792208</td>\n",
       "      <td>0.822222</td>\n",
       "    </tr>\n",
       "    <tr>\n",
       "      <th>1</th>\n",
       "      <td>Logistic Regression</td>\n",
       "      <td>0.792208</td>\n",
       "      <td>0.800000</td>\n",
       "    </tr>\n",
       "    <tr>\n",
       "      <th>2</th>\n",
       "      <td>Gradient-boosted Tree</td>\n",
       "      <td>0.727273</td>\n",
       "      <td>0.951852</td>\n",
       "    </tr>\n",
       "    <tr>\n",
       "      <th>3</th>\n",
       "      <td>Naive Bayes</td>\n",
       "      <td>0.610390</td>\n",
       "      <td>0.666667</td>\n",
       "    </tr>\n",
       "  </tbody>\n",
       "</table>\n",
       "</div>"
      ],
      "text/plain": [
       "              classifier      test     train\n",
       "0          Random Forest  0.792208  0.822222\n",
       "1    Logistic Regression  0.792208  0.800000\n",
       "2  Gradient-boosted Tree  0.727273  0.951852\n",
       "3            Naive Bayes  0.610390  0.666667"
      ]
     },
     "execution_count": 125,
     "metadata": {},
     "output_type": "execute_result"
    }
   ],
   "source": [
    "f1_scores_refined_state"
   ]
  },
  {
   "cell_type": "markdown",
   "metadata": {},
   "source": [
    "#### Conclusions"
   ]
  },
  {
   "cell_type": "markdown",
   "metadata": {},
   "source": [
    "We can see that refining the location feature helps to improve scores for some algorithms."
   ]
  },
  {
   "cell_type": "markdown",
   "metadata": {},
   "source": [
    "### Bucketize `avg_songs` and `avg_events` "
   ]
  },
  {
   "cell_type": "markdown",
   "metadata": {},
   "source": [
    "View distribution of `avg_songs` and `avg_events` values to find out buckets to bucketize features:"
   ]
  },
  {
   "cell_type": "code",
   "execution_count": 130,
   "metadata": {},
   "outputs": [],
   "source": [
    "events = df_ml.select('avg_songs', 'avg_events').toPandas()"
   ]
  },
  {
   "cell_type": "code",
   "execution_count": 137,
   "metadata": {},
   "outputs": [
    {
     "data": {
      "text/plain": [
       "<matplotlib.axes._subplots.AxesSubplot at 0x11525ca90>"
      ]
     },
     "execution_count": 137,
     "metadata": {},
     "output_type": "execute_result"
    },
    {
     "data": {
      "image/png": "[encoded data removed]",
      "text/plain": [
       "<Figure size 432x288 with 1 Axes>"
      ]
     },
     "metadata": {
      "needs_background": "light"
     },
     "output_type": "display_data"
    }
   ],
   "source": [
    "events['avg_songs'].plot.hist(title = 'avg_songs frequency')"
   ]
  },
  {
   "cell_type": "code",
   "execution_count": 138,
   "metadata": {},
   "outputs": [
    {
     "data": {
      "text/plain": [
       "<matplotlib.axes._subplots.AxesSubplot at 0x115325ba8>"
      ]
     },
     "execution_count": 138,
     "metadata": {},
     "output_type": "execute_result"
    },
    {
     "data": {
      "image/png": "[encoded data removed]",
      "text/plain": [
       "<Figure size 432x288 with 1 Axes>"
      ]
     },
     "metadata": {
      "needs_background": "light"
     },
     "output_type": "display_data"
    }
   ],
   "source": [
    "events['avg_events'].plot.hist(title = 'avg_events frequency')"
   ]
  },
  {
   "cell_type": "code",
   "execution_count": 147,
   "metadata": {},
   "outputs": [],
   "source": [
    "# add bucketizers\n",
    "\n",
    "songs_bucketizer = Bucketizer(splits=[ 0, 25, 50, 75, 100, 125, float('Inf') ],inputCol=\"avg_songs\", outputCol=\"songs_buckets\", handleInvalid = 'keep')\n",
    "events_bucketizer = Bucketizer(splits=[ 0, 25, 50, 100, 150, float('Inf') ],inputCol=\"avg_events\", outputCol=\"events_buckets\", handleInvalid = 'keep')\n",
    "\n",
    "# create vector for features\n",
    "features = ['genderVec', 'levelVec', 'stateVec', 'days_active', 'songs_buckets', 'events_buckets', 'thumbs_up', 'thumbs_down', 'addfriend']\n",
    "assembler = VectorAssembler(inputCols=features, outputCol=\"features\")"
   ]
  },
  {
   "cell_type": "code",
   "execution_count": 142,
   "metadata": {},
   "outputs": [],
   "source": [
    "# assemble pipeline\n",
    "\n",
    "stages = [stringIndexerGender, stringIndexerLevel, stringIndexerState, encoder\\\n",
    "          , songs_bucketizer, events_bucketizer, assembler]"
   ]
  },
  {
   "cell_type": "code",
   "execution_count": 143,
   "metadata": {},
   "outputs": [],
   "source": [
    "# initialize classifiers\n",
    "\n",
    "rf = RandomForestClassifier(labelCol=\"label\", featuresCol=\"features\", numTrees=10)\n",
    "lr = LogisticRegression(maxIter=10, regParam=0.3, elasticNetParam=0.8, family=\"multinomial\")\n",
    "gbt = GBTClassifier(labelCol=\"label\", featuresCol=\"features\", maxIter=10)\n",
    "nb = NaiveBayes(smoothing=1.0, modelType=\"multinomial\")\n",
    "\n",
    "# create dictionary\n",
    "\n",
    "classifiers = {'Random Forest': rf, 'Logistic Regression' : lr, 'Gradient-boosted Tree' : gbt, 'Naive Bayes' : nb}"
   ]
  },
  {
   "cell_type": "code",
   "execution_count": 148,
   "metadata": {},
   "outputs": [
    {
     "name": "stdout",
     "output_type": "stream",
     "text": [
      "[StringIndexer_f4ad95db6594, StringIndexer_0a830a182e19, StringIndexer_b1f60f6160ca, OneHotEncoderEstimator_43048b6bf185, Bucketizer_e13908ad694e, Bucketizer_e23a8e10aa49, VectorAssembler_5c5514d7489a, RandomForestClassifier_06c46fb9688b]\n",
      "[StringIndexer_f4ad95db6594, StringIndexer_0a830a182e19, StringIndexer_b1f60f6160ca, OneHotEncoderEstimator_43048b6bf185, Bucketizer_e13908ad694e, Bucketizer_e23a8e10aa49, VectorAssembler_5c5514d7489a, LogisticRegression_7abd99efa2de]\n",
      "[StringIndexer_f4ad95db6594, StringIndexer_0a830a182e19, StringIndexer_b1f60f6160ca, OneHotEncoderEstimator_43048b6bf185, Bucketizer_e13908ad694e, Bucketizer_e23a8e10aa49, VectorAssembler_5c5514d7489a, GBTClassifier_7ebc129a8269]\n",
      "[StringIndexer_f4ad95db6594, StringIndexer_0a830a182e19, StringIndexer_b1f60f6160ca, OneHotEncoderEstimator_43048b6bf185, Bucketizer_e13908ad694e, Bucketizer_e23a8e10aa49, VectorAssembler_5c5514d7489a, NaiveBayes_d2677d9fd43a]\n"
     ]
    }
   ],
   "source": [
    "# calculate f1 scores\n",
    "f1_scores_buckets = compare_models(stages, classifiers, train, test)"
   ]
  },
  {
   "cell_type": "code",
   "execution_count": 149,
   "metadata": {},
   "outputs": [
    {
     "data": {
      "image/png": "[encoded data removed]",
      "text/plain": [
       "<Figure size 432x288 with 1 Axes>"
      ]
     },
     "metadata": {
      "needs_background": "light"
     },
     "output_type": "display_data"
    }
   ],
   "source": [
    "# plot results\n",
    "plot_model_comparison('Classifiers Comparison with Normalization', f1_scores_buckets)"
   ]
  },
  {
   "cell_type": "code",
   "execution_count": 150,
   "metadata": {},
   "outputs": [
    {
     "data": {
      "text/html": [
       "<div>\n",
       "<style scoped>\n",
       "    .dataframe tbody tr th:only-of-type {\n",
       "        vertical-align: middle;\n",
       "    }\n",
       "\n",
       "    .dataframe tbody tr th {\n",
       "        vertical-align: top;\n",
       "    }\n",
       "\n",
       "    .dataframe thead th {\n",
       "        text-align: right;\n",
       "    }\n",
       "</style>\n",
       "<table border=\"1\" class=\"dataframe\">\n",
       "  <thead>\n",
       "    <tr style=\"text-align: right;\">\n",
       "      <th></th>\n",
       "      <th>classifier</th>\n",
       "      <th>test</th>\n",
       "      <th>train</th>\n",
       "    </tr>\n",
       "  </thead>\n",
       "  <tbody>\n",
       "    <tr>\n",
       "      <th>0</th>\n",
       "      <td>Random Forest</td>\n",
       "      <td>0.792208</td>\n",
       "      <td>0.811111</td>\n",
       "    </tr>\n",
       "    <tr>\n",
       "      <th>1</th>\n",
       "      <td>Logistic Regression</td>\n",
       "      <td>0.792208</td>\n",
       "      <td>0.800000</td>\n",
       "    </tr>\n",
       "    <tr>\n",
       "      <th>2</th>\n",
       "      <td>Gradient-boosted Tree</td>\n",
       "      <td>0.688312</td>\n",
       "      <td>0.948148</td>\n",
       "    </tr>\n",
       "    <tr>\n",
       "      <th>3</th>\n",
       "      <td>Naive Bayes</td>\n",
       "      <td>0.519481</td>\n",
       "      <td>0.503704</td>\n",
       "    </tr>\n",
       "  </tbody>\n",
       "</table>\n",
       "</div>"
      ],
      "text/plain": [
       "              classifier      test     train\n",
       "0          Random Forest  0.792208  0.811111\n",
       "1    Logistic Regression  0.792208  0.800000\n",
       "2  Gradient-boosted Tree  0.688312  0.948148\n",
       "3            Naive Bayes  0.519481  0.503704"
      ]
     },
     "execution_count": 150,
     "metadata": {},
     "output_type": "execute_result"
    }
   ],
   "source": [
    "f1_scores_buckets"
   ]
  },
  {
   "cell_type": "markdown",
   "metadata": {},
   "source": [
    "#### Conclusions"
   ]
  },
  {
   "cell_type": "markdown",
   "metadata": {},
   "source": [
    "Bucketizing has no effect on the F1 score, so I won't include bucketizing in the final model."
   ]
  },
  {
   "cell_type": "markdown",
   "metadata": {},
   "source": [
    "### Combine Refinement Approaches"
   ]
  },
  {
   "cell_type": "code",
   "execution_count": 13,
   "metadata": {},
   "outputs": [],
   "source": [
    "# add normalizer\n",
    "features = ['genderVec', 'levelVec', 'stateVec', 'days_active', 'avg_songs', 'avg_events', 'thumbs_up', 'thumbs_down', 'addfriend']\n",
    "assembler = VectorAssembler(inputCols=features, outputCol=\"rawFeatures\")\n",
    "normalizer = Normalizer(inputCol=\"rawFeatures\", outputCol=\"features\", p=1.0)\n",
    "\n",
    "stages = [stringIndexerGender, stringIndexerLevel, stringIndexerState, encoder, assembler, normalizer]"
   ]
  },
  {
   "cell_type": "code",
   "execution_count": 156,
   "metadata": {},
   "outputs": [
    {
     "name": "stdout",
     "output_type": "stream",
     "text": [
      "[StringIndexer_f4ad95db6594, StringIndexer_0a830a182e19, StringIndexer_b1f60f6160ca, OneHotEncoderEstimator_43048b6bf185, VectorAssembler_de936a698610, Normalizer_da6161589199, RandomForestClassifier_06c46fb9688b]\n",
      "[StringIndexer_f4ad95db6594, StringIndexer_0a830a182e19, StringIndexer_b1f60f6160ca, OneHotEncoderEstimator_43048b6bf185, VectorAssembler_de936a698610, Normalizer_da6161589199, LogisticRegression_7abd99efa2de]\n",
      "[StringIndexer_f4ad95db6594, StringIndexer_0a830a182e19, StringIndexer_b1f60f6160ca, OneHotEncoderEstimator_43048b6bf185, VectorAssembler_de936a698610, Normalizer_da6161589199, GBTClassifier_7ebc129a8269]\n",
      "[StringIndexer_f4ad95db6594, StringIndexer_0a830a182e19, StringIndexer_b1f60f6160ca, OneHotEncoderEstimator_43048b6bf185, VectorAssembler_de936a698610, Normalizer_da6161589199, NaiveBayes_d2677d9fd43a]\n"
     ]
    }
   ],
   "source": [
    "# calculate f1 scores\n",
    "f1_scores_norm_refined = compare_models(stages, classifiers, train, test)"
   ]
  },
  {
   "cell_type": "code",
   "execution_count": 157,
   "metadata": {},
   "outputs": [
    {
     "data": {
      "image/png": "[encoded data removed]",
      "text/plain": [
       "<Figure size 432x288 with 1 Axes>"
      ]
     },
     "metadata": {
      "needs_background": "light"
     },
     "output_type": "display_data"
    }
   ],
   "source": [
    "# plot results\n",
    "plot_model_comparison('Classifiers Comparison with Normalization', f1_scores_norm_refined)"
   ]
  },
  {
   "cell_type": "code",
   "execution_count": 158,
   "metadata": {},
   "outputs": [
    {
     "data": {
      "text/html": [
       "<div>\n",
       "<style scoped>\n",
       "    .dataframe tbody tr th:only-of-type {\n",
       "        vertical-align: middle;\n",
       "    }\n",
       "\n",
       "    .dataframe tbody tr th {\n",
       "        vertical-align: top;\n",
       "    }\n",
       "\n",
       "    .dataframe thead th {\n",
       "        text-align: right;\n",
       "    }\n",
       "</style>\n",
       "<table border=\"1\" class=\"dataframe\">\n",
       "  <thead>\n",
       "    <tr style=\"text-align: right;\">\n",
       "      <th></th>\n",
       "      <th>classifier</th>\n",
       "      <th>test</th>\n",
       "      <th>train</th>\n",
       "    </tr>\n",
       "  </thead>\n",
       "  <tbody>\n",
       "    <tr>\n",
       "      <th>0</th>\n",
       "      <td>Random Forest</td>\n",
       "      <td>0.805195</td>\n",
       "      <td>0.829630</td>\n",
       "    </tr>\n",
       "    <tr>\n",
       "      <th>1</th>\n",
       "      <td>Logistic Regression</td>\n",
       "      <td>0.792208</td>\n",
       "      <td>0.800000</td>\n",
       "    </tr>\n",
       "    <tr>\n",
       "      <th>2</th>\n",
       "      <td>Gradient-boosted Tree</td>\n",
       "      <td>0.753247</td>\n",
       "      <td>0.933333</td>\n",
       "    </tr>\n",
       "    <tr>\n",
       "      <th>3</th>\n",
       "      <td>Naive Bayes</td>\n",
       "      <td>0.792208</td>\n",
       "      <td>0.800000</td>\n",
       "    </tr>\n",
       "  </tbody>\n",
       "</table>\n",
       "</div>"
      ],
      "text/plain": [
       "              classifier      test     train\n",
       "0          Random Forest  0.805195  0.829630\n",
       "1    Logistic Regression  0.792208  0.800000\n",
       "2  Gradient-boosted Tree  0.753247  0.933333\n",
       "3            Naive Bayes  0.792208  0.800000"
      ]
     },
     "execution_count": 158,
     "metadata": {},
     "output_type": "execute_result"
    }
   ],
   "source": [
    "f1_scores_norm_refined"
   ]
  },
  {
   "cell_type": "markdown",
   "metadata": {},
   "source": [
    "## Refinement Conclusion"
   ]
  },
  {
   "cell_type": "markdown",
   "metadata": {},
   "source": [
    "As we see above the most effective measures for model refinement are <b> normalization of numeric features and the additional preprocessing of location feature </b>. Bucketizing of numerical values didn't help to increase scores.\n",
    "In conclusion I can say that the combination of the refinement measures taken above helped to <b>improve the final scores by 2-3% </b>."
   ]
  },
  {
   "cell_type": "markdown",
   "metadata": {},
   "source": [
    "## Final Model Evaluation"
   ]
  },
  {
   "cell_type": "markdown",
   "metadata": {},
   "source": [
    "For the final model I chose Random Forest algorithm, because it showed the best performance.\n",
    "<br> Let's tune the parameters for this algorithm:"
   ]
  },
  {
   "cell_type": "code",
   "execution_count": 17,
   "metadata": {},
   "outputs": [],
   "source": [
    "# assemble the resulting pipeline\n",
    "\n",
    "stages = [stringIndexerGender, stringIndexerLevel, stringIndexerState, encoder, assembler, normalizer, rf]\n",
    "pipeline = Pipeline(stages = stages)"
   ]
  },
  {
   "cell_type": "code",
   "execution_count": 18,
   "metadata": {},
   "outputs": [],
   "source": [
    "# initialize the parameter grid\n",
    "\n",
    "paramGrid = ParamGridBuilder() \\\n",
    "    .addGrid(rf.numTrees, [10, 50, 100]) \\\n",
    "    .addGrid(rf.maxDepth, [2, 3, 5]) \\\n",
    "    .addGrid(rf.impurity, ['entropy', 'gini'])\\\n",
    "    .addGrid(rf.featureSubsetStrategy, ['auto','sqrt', 'log2'])\\\n",
    "    .build()"
   ]
  },
  {
   "cell_type": "code",
   "execution_count": 19,
   "metadata": {},
   "outputs": [],
   "source": [
    "# initialize the cross validator instance\n",
    "\n",
    "crossval = CrossValidator(estimator=pipeline,\n",
    "                          estimatorParamMaps=paramGrid,\n",
    "                          evaluator=MulticlassClassificationEvaluator(),\n",
    "                          numFolds=3)"
   ]
  },
  {
   "cell_type": "code",
   "execution_count": 20,
   "metadata": {},
   "outputs": [],
   "source": [
    "# perform cross validation\n",
    "\n",
    "cvModel = crossval.fit(train)\n",
    "bestModel = cvModel.bestModel"
   ]
  },
  {
   "cell_type": "code",
   "execution_count": 21,
   "metadata": {},
   "outputs": [],
   "source": [
    "# get the results of cross validation\n",
    "\n",
    "# get parameters\n",
    "params = [{p.name: v for p, v in m.items()} for m in cvModel.getEstimatorParamMaps()]\n",
    "\n",
    "# convert validation results to pandas dataframe\n",
    "validation_results = pd.DataFrame.from_dict([\n",
    "    {cvModel.getEvaluator().getMetricName(): metric, **ps} \n",
    "    for ps, metric in zip(params, cvModel.avgMetrics)\n",
    "])"
   ]
  },
  {
   "cell_type": "code",
   "execution_count": 22,
   "metadata": {},
   "outputs": [
    {
     "data": {
      "text/html": [
       "<div>\n",
       "<style scoped>\n",
       "    .dataframe tbody tr th:only-of-type {\n",
       "        vertical-align: middle;\n",
       "    }\n",
       "\n",
       "    .dataframe tbody tr th {\n",
       "        vertical-align: top;\n",
       "    }\n",
       "\n",
       "    .dataframe thead th {\n",
       "        text-align: right;\n",
       "    }\n",
       "</style>\n",
       "<table border=\"1\" class=\"dataframe\">\n",
       "  <thead>\n",
       "    <tr style=\"text-align: right;\">\n",
       "      <th></th>\n",
       "      <th>f1</th>\n",
       "      <th>featureSubsetStrategy</th>\n",
       "      <th>impurity</th>\n",
       "      <th>maxDepth</th>\n",
       "      <th>numTrees</th>\n",
       "    </tr>\n",
       "  </thead>\n",
       "  <tbody>\n",
       "    <tr>\n",
       "      <th>0</th>\n",
       "      <td>0.669582</td>\n",
       "      <td>auto</td>\n",
       "      <td>entropy</td>\n",
       "      <td>2</td>\n",
       "      <td>10</td>\n",
       "    </tr>\n",
       "    <tr>\n",
       "      <th>1</th>\n",
       "      <td>0.669582</td>\n",
       "      <td>sqrt</td>\n",
       "      <td>entropy</td>\n",
       "      <td>2</td>\n",
       "      <td>10</td>\n",
       "    </tr>\n",
       "    <tr>\n",
       "      <th>2</th>\n",
       "      <td>0.669582</td>\n",
       "      <td>log2</td>\n",
       "      <td>entropy</td>\n",
       "      <td>2</td>\n",
       "      <td>10</td>\n",
       "    </tr>\n",
       "    <tr>\n",
       "      <th>3</th>\n",
       "      <td>0.669582</td>\n",
       "      <td>auto</td>\n",
       "      <td>gini</td>\n",
       "      <td>2</td>\n",
       "      <td>10</td>\n",
       "    </tr>\n",
       "    <tr>\n",
       "      <th>4</th>\n",
       "      <td>0.669582</td>\n",
       "      <td>sqrt</td>\n",
       "      <td>gini</td>\n",
       "      <td>2</td>\n",
       "      <td>10</td>\n",
       "    </tr>\n",
       "    <tr>\n",
       "      <th>5</th>\n",
       "      <td>0.669582</td>\n",
       "      <td>log2</td>\n",
       "      <td>gini</td>\n",
       "      <td>2</td>\n",
       "      <td>10</td>\n",
       "    </tr>\n",
       "    <tr>\n",
       "      <th>6</th>\n",
       "      <td>0.669582</td>\n",
       "      <td>auto</td>\n",
       "      <td>entropy</td>\n",
       "      <td>3</td>\n",
       "      <td>10</td>\n",
       "    </tr>\n",
       "    <tr>\n",
       "      <th>7</th>\n",
       "      <td>0.669582</td>\n",
       "      <td>sqrt</td>\n",
       "      <td>entropy</td>\n",
       "      <td>3</td>\n",
       "      <td>10</td>\n",
       "    </tr>\n",
       "    <tr>\n",
       "      <th>8</th>\n",
       "      <td>0.669582</td>\n",
       "      <td>log2</td>\n",
       "      <td>entropy</td>\n",
       "      <td>3</td>\n",
       "      <td>10</td>\n",
       "    </tr>\n",
       "    <tr>\n",
       "      <th>9</th>\n",
       "      <td>0.669582</td>\n",
       "      <td>auto</td>\n",
       "      <td>gini</td>\n",
       "      <td>3</td>\n",
       "      <td>10</td>\n",
       "    </tr>\n",
       "    <tr>\n",
       "      <th>10</th>\n",
       "      <td>0.669582</td>\n",
       "      <td>sqrt</td>\n",
       "      <td>gini</td>\n",
       "      <td>3</td>\n",
       "      <td>10</td>\n",
       "    </tr>\n",
       "    <tr>\n",
       "      <th>11</th>\n",
       "      <td>0.669582</td>\n",
       "      <td>log2</td>\n",
       "      <td>gini</td>\n",
       "      <td>3</td>\n",
       "      <td>10</td>\n",
       "    </tr>\n",
       "    <tr>\n",
       "      <th>12</th>\n",
       "      <td>0.687989</td>\n",
       "      <td>auto</td>\n",
       "      <td>entropy</td>\n",
       "      <td>5</td>\n",
       "      <td>10</td>\n",
       "    </tr>\n",
       "    <tr>\n",
       "      <th>13</th>\n",
       "      <td>0.687989</td>\n",
       "      <td>sqrt</td>\n",
       "      <td>entropy</td>\n",
       "      <td>5</td>\n",
       "      <td>10</td>\n",
       "    </tr>\n",
       "    <tr>\n",
       "      <th>14</th>\n",
       "      <td>0.687989</td>\n",
       "      <td>log2</td>\n",
       "      <td>entropy</td>\n",
       "      <td>5</td>\n",
       "      <td>10</td>\n",
       "    </tr>\n",
       "    <tr>\n",
       "      <th>15</th>\n",
       "      <td>0.684809</td>\n",
       "      <td>auto</td>\n",
       "      <td>gini</td>\n",
       "      <td>5</td>\n",
       "      <td>10</td>\n",
       "    </tr>\n",
       "    <tr>\n",
       "      <th>16</th>\n",
       "      <td>0.684809</td>\n",
       "      <td>sqrt</td>\n",
       "      <td>gini</td>\n",
       "      <td>5</td>\n",
       "      <td>10</td>\n",
       "    </tr>\n",
       "    <tr>\n",
       "      <th>17</th>\n",
       "      <td>0.684809</td>\n",
       "      <td>log2</td>\n",
       "      <td>gini</td>\n",
       "      <td>5</td>\n",
       "      <td>10</td>\n",
       "    </tr>\n",
       "    <tr>\n",
       "      <th>18</th>\n",
       "      <td>0.669582</td>\n",
       "      <td>auto</td>\n",
       "      <td>entropy</td>\n",
       "      <td>2</td>\n",
       "      <td>50</td>\n",
       "    </tr>\n",
       "    <tr>\n",
       "      <th>19</th>\n",
       "      <td>0.669582</td>\n",
       "      <td>sqrt</td>\n",
       "      <td>entropy</td>\n",
       "      <td>2</td>\n",
       "      <td>50</td>\n",
       "    </tr>\n",
       "    <tr>\n",
       "      <th>20</th>\n",
       "      <td>0.669582</td>\n",
       "      <td>log2</td>\n",
       "      <td>entropy</td>\n",
       "      <td>2</td>\n",
       "      <td>50</td>\n",
       "    </tr>\n",
       "    <tr>\n",
       "      <th>21</th>\n",
       "      <td>0.669582</td>\n",
       "      <td>auto</td>\n",
       "      <td>gini</td>\n",
       "      <td>2</td>\n",
       "      <td>50</td>\n",
       "    </tr>\n",
       "    <tr>\n",
       "      <th>22</th>\n",
       "      <td>0.669582</td>\n",
       "      <td>sqrt</td>\n",
       "      <td>gini</td>\n",
       "      <td>2</td>\n",
       "      <td>50</td>\n",
       "    </tr>\n",
       "    <tr>\n",
       "      <th>23</th>\n",
       "      <td>0.669582</td>\n",
       "      <td>log2</td>\n",
       "      <td>gini</td>\n",
       "      <td>2</td>\n",
       "      <td>50</td>\n",
       "    </tr>\n",
       "    <tr>\n",
       "      <th>24</th>\n",
       "      <td>0.678648</td>\n",
       "      <td>auto</td>\n",
       "      <td>entropy</td>\n",
       "      <td>3</td>\n",
       "      <td>50</td>\n",
       "    </tr>\n",
       "    <tr>\n",
       "      <th>25</th>\n",
       "      <td>0.678648</td>\n",
       "      <td>sqrt</td>\n",
       "      <td>entropy</td>\n",
       "      <td>3</td>\n",
       "      <td>50</td>\n",
       "    </tr>\n",
       "    <tr>\n",
       "      <th>26</th>\n",
       "      <td>0.678648</td>\n",
       "      <td>log2</td>\n",
       "      <td>entropy</td>\n",
       "      <td>3</td>\n",
       "      <td>50</td>\n",
       "    </tr>\n",
       "    <tr>\n",
       "      <th>27</th>\n",
       "      <td>0.669582</td>\n",
       "      <td>auto</td>\n",
       "      <td>gini</td>\n",
       "      <td>3</td>\n",
       "      <td>50</td>\n",
       "    </tr>\n",
       "    <tr>\n",
       "      <th>28</th>\n",
       "      <td>0.669582</td>\n",
       "      <td>sqrt</td>\n",
       "      <td>gini</td>\n",
       "      <td>3</td>\n",
       "      <td>50</td>\n",
       "    </tr>\n",
       "    <tr>\n",
       "      <th>29</th>\n",
       "      <td>0.669582</td>\n",
       "      <td>log2</td>\n",
       "      <td>gini</td>\n",
       "      <td>3</td>\n",
       "      <td>50</td>\n",
       "    </tr>\n",
       "    <tr>\n",
       "      <th>30</th>\n",
       "      <td>0.676230</td>\n",
       "      <td>auto</td>\n",
       "      <td>entropy</td>\n",
       "      <td>5</td>\n",
       "      <td>50</td>\n",
       "    </tr>\n",
       "    <tr>\n",
       "      <th>31</th>\n",
       "      <td>0.676230</td>\n",
       "      <td>sqrt</td>\n",
       "      <td>entropy</td>\n",
       "      <td>5</td>\n",
       "      <td>50</td>\n",
       "    </tr>\n",
       "    <tr>\n",
       "      <th>32</th>\n",
       "      <td>0.676230</td>\n",
       "      <td>log2</td>\n",
       "      <td>entropy</td>\n",
       "      <td>5</td>\n",
       "      <td>50</td>\n",
       "    </tr>\n",
       "    <tr>\n",
       "      <th>33</th>\n",
       "      <td>0.690154</td>\n",
       "      <td>auto</td>\n",
       "      <td>gini</td>\n",
       "      <td>5</td>\n",
       "      <td>50</td>\n",
       "    </tr>\n",
       "    <tr>\n",
       "      <th>34</th>\n",
       "      <td>0.690154</td>\n",
       "      <td>sqrt</td>\n",
       "      <td>gini</td>\n",
       "      <td>5</td>\n",
       "      <td>50</td>\n",
       "    </tr>\n",
       "    <tr>\n",
       "      <th>35</th>\n",
       "      <td>0.690154</td>\n",
       "      <td>log2</td>\n",
       "      <td>gini</td>\n",
       "      <td>5</td>\n",
       "      <td>50</td>\n",
       "    </tr>\n",
       "    <tr>\n",
       "      <th>36</th>\n",
       "      <td>0.669582</td>\n",
       "      <td>auto</td>\n",
       "      <td>entropy</td>\n",
       "      <td>2</td>\n",
       "      <td>100</td>\n",
       "    </tr>\n",
       "    <tr>\n",
       "      <th>37</th>\n",
       "      <td>0.669582</td>\n",
       "      <td>sqrt</td>\n",
       "      <td>entropy</td>\n",
       "      <td>2</td>\n",
       "      <td>100</td>\n",
       "    </tr>\n",
       "    <tr>\n",
       "      <th>38</th>\n",
       "      <td>0.669582</td>\n",
       "      <td>log2</td>\n",
       "      <td>entropy</td>\n",
       "      <td>2</td>\n",
       "      <td>100</td>\n",
       "    </tr>\n",
       "    <tr>\n",
       "      <th>39</th>\n",
       "      <td>0.669582</td>\n",
       "      <td>auto</td>\n",
       "      <td>gini</td>\n",
       "      <td>2</td>\n",
       "      <td>100</td>\n",
       "    </tr>\n",
       "    <tr>\n",
       "      <th>40</th>\n",
       "      <td>0.669582</td>\n",
       "      <td>sqrt</td>\n",
       "      <td>gini</td>\n",
       "      <td>2</td>\n",
       "      <td>100</td>\n",
       "    </tr>\n",
       "    <tr>\n",
       "      <th>41</th>\n",
       "      <td>0.669582</td>\n",
       "      <td>log2</td>\n",
       "      <td>gini</td>\n",
       "      <td>2</td>\n",
       "      <td>100</td>\n",
       "    </tr>\n",
       "    <tr>\n",
       "      <th>42</th>\n",
       "      <td>0.669582</td>\n",
       "      <td>auto</td>\n",
       "      <td>entropy</td>\n",
       "      <td>3</td>\n",
       "      <td>100</td>\n",
       "    </tr>\n",
       "    <tr>\n",
       "      <th>43</th>\n",
       "      <td>0.669582</td>\n",
       "      <td>sqrt</td>\n",
       "      <td>entropy</td>\n",
       "      <td>3</td>\n",
       "      <td>100</td>\n",
       "    </tr>\n",
       "    <tr>\n",
       "      <th>44</th>\n",
       "      <td>0.669582</td>\n",
       "      <td>log2</td>\n",
       "      <td>entropy</td>\n",
       "      <td>3</td>\n",
       "      <td>100</td>\n",
       "    </tr>\n",
       "    <tr>\n",
       "      <th>45</th>\n",
       "      <td>0.669582</td>\n",
       "      <td>auto</td>\n",
       "      <td>gini</td>\n",
       "      <td>3</td>\n",
       "      <td>100</td>\n",
       "    </tr>\n",
       "    <tr>\n",
       "      <th>46</th>\n",
       "      <td>0.669582</td>\n",
       "      <td>sqrt</td>\n",
       "      <td>gini</td>\n",
       "      <td>3</td>\n",
       "      <td>100</td>\n",
       "    </tr>\n",
       "    <tr>\n",
       "      <th>47</th>\n",
       "      <td>0.669582</td>\n",
       "      <td>log2</td>\n",
       "      <td>gini</td>\n",
       "      <td>3</td>\n",
       "      <td>100</td>\n",
       "    </tr>\n",
       "    <tr>\n",
       "      <th>48</th>\n",
       "      <td>0.676230</td>\n",
       "      <td>auto</td>\n",
       "      <td>entropy</td>\n",
       "      <td>5</td>\n",
       "      <td>100</td>\n",
       "    </tr>\n",
       "    <tr>\n",
       "      <th>49</th>\n",
       "      <td>0.676230</td>\n",
       "      <td>sqrt</td>\n",
       "      <td>entropy</td>\n",
       "      <td>5</td>\n",
       "      <td>100</td>\n",
       "    </tr>\n",
       "    <tr>\n",
       "      <th>50</th>\n",
       "      <td>0.676230</td>\n",
       "      <td>log2</td>\n",
       "      <td>entropy</td>\n",
       "      <td>5</td>\n",
       "      <td>100</td>\n",
       "    </tr>\n",
       "    <tr>\n",
       "      <th>51</th>\n",
       "      <td>0.692592</td>\n",
       "      <td>auto</td>\n",
       "      <td>gini</td>\n",
       "      <td>5</td>\n",
       "      <td>100</td>\n",
       "    </tr>\n",
       "    <tr>\n",
       "      <th>52</th>\n",
       "      <td>0.692592</td>\n",
       "      <td>sqrt</td>\n",
       "      <td>gini</td>\n",
       "      <td>5</td>\n",
       "      <td>100</td>\n",
       "    </tr>\n",
       "    <tr>\n",
       "      <th>53</th>\n",
       "      <td>0.692592</td>\n",
       "      <td>log2</td>\n",
       "      <td>gini</td>\n",
       "      <td>5</td>\n",
       "      <td>100</td>\n",
       "    </tr>\n",
       "  </tbody>\n",
       "</table>\n",
       "</div>"
      ],
      "text/plain": [
       "          f1 featureSubsetStrategy impurity  maxDepth  numTrees\n",
       "0   0.669582                  auto  entropy         2        10\n",
       "1   0.669582                  sqrt  entropy         2        10\n",
       "2   0.669582                  log2  entropy         2        10\n",
       "3   0.669582                  auto     gini         2        10\n",
       "4   0.669582                  sqrt     gini         2        10\n",
       "5   0.669582                  log2     gini         2        10\n",
       "6   0.669582                  auto  entropy         3        10\n",
       "7   0.669582                  sqrt  entropy         3        10\n",
       "8   0.669582                  log2  entropy         3        10\n",
       "9   0.669582                  auto     gini         3        10\n",
       "10  0.669582                  sqrt     gini         3        10\n",
       "11  0.669582                  log2     gini         3        10\n",
       "12  0.687989                  auto  entropy         5        10\n",
       "13  0.687989                  sqrt  entropy         5        10\n",
       "14  0.687989                  log2  entropy         5        10\n",
       "15  0.684809                  auto     gini         5        10\n",
       "16  0.684809                  sqrt     gini         5        10\n",
       "17  0.684809                  log2     gini         5        10\n",
       "18  0.669582                  auto  entropy         2        50\n",
       "19  0.669582                  sqrt  entropy         2        50\n",
       "20  0.669582                  log2  entropy         2        50\n",
       "21  0.669582                  auto     gini         2        50\n",
       "22  0.669582                  sqrt     gini         2        50\n",
       "23  0.669582                  log2     gini         2        50\n",
       "24  0.678648                  auto  entropy         3        50\n",
       "25  0.678648                  sqrt  entropy         3        50\n",
       "26  0.678648                  log2  entropy         3        50\n",
       "27  0.669582                  auto     gini         3        50\n",
       "28  0.669582                  sqrt     gini         3        50\n",
       "29  0.669582                  log2     gini         3        50\n",
       "30  0.676230                  auto  entropy         5        50\n",
       "31  0.676230                  sqrt  entropy         5        50\n",
       "32  0.676230                  log2  entropy         5        50\n",
       "33  0.690154                  auto     gini         5        50\n",
       "34  0.690154                  sqrt     gini         5        50\n",
       "35  0.690154                  log2     gini         5        50\n",
       "36  0.669582                  auto  entropy         2       100\n",
       "37  0.669582                  sqrt  entropy         2       100\n",
       "38  0.669582                  log2  entropy         2       100\n",
       "39  0.669582                  auto     gini         2       100\n",
       "40  0.669582                  sqrt     gini         2       100\n",
       "41  0.669582                  log2     gini         2       100\n",
       "42  0.669582                  auto  entropy         3       100\n",
       "43  0.669582                  sqrt  entropy         3       100\n",
       "44  0.669582                  log2  entropy         3       100\n",
       "45  0.669582                  auto     gini         3       100\n",
       "46  0.669582                  sqrt     gini         3       100\n",
       "47  0.669582                  log2     gini         3       100\n",
       "48  0.676230                  auto  entropy         5       100\n",
       "49  0.676230                  sqrt  entropy         5       100\n",
       "50  0.676230                  log2  entropy         5       100\n",
       "51  0.692592                  auto     gini         5       100\n",
       "52  0.692592                  sqrt     gini         5       100\n",
       "53  0.692592                  log2     gini         5       100"
      ]
     },
     "execution_count": 22,
     "metadata": {},
     "output_type": "execute_result"
    }
   ],
   "source": [
    "validation_results"
   ]
  },
  {
   "cell_type": "markdown",
   "metadata": {},
   "source": [
    "Best model score:"
   ]
  },
  {
   "cell_type": "code",
   "execution_count": 37,
   "metadata": {},
   "outputs": [],
   "source": [
    "# initialize RF with best parameters\n",
    "rf_tuned = RandomForestClassifier(labelCol=\"label\", featuresCol=\"features\", numTrees=100, maxDepth = 5,\\\n",
    "                                 impurity = 'gini', featureSubsetStrategy = 'sqrt')\n",
    "\n",
    "# assemble pipeline\n",
    "stages = [stringIndexerGender, stringIndexerLevel, stringIndexerState, encoder, assembler, normalizer, rf_tuned]\n",
    "pipeline_tuned = Pipeline(stages = stages)\n",
    "\n",
    "# fit model\n",
    "pipeline_tuned.fit(train)\n",
    "\n",
    "# get predictions for train, test, and validation datasets\n",
    "best_pred_train = bestModel.transform(train)\n",
    "best_pred_test = bestModel.transform(test)\n",
    "best_pred_valid = bestModel.transform(valid)"
   ]
  },
  {
   "cell_type": "code",
   "execution_count": 38,
   "metadata": {},
   "outputs": [
    {
     "name": "stdout",
     "output_type": "stream",
     "text": [
      "F1 score on train dataset is 0.8231046931407943\n"
     ]
    }
   ],
   "source": [
    "predictionAndLabels = best_pred_train.rdd.map(lambda lp: (float(lp.prediction), float(lp.label)))\n",
    "\n",
    "# Instantiate metrics object\n",
    "metrics_train = MulticlassMetrics(predictionAndLabels)\n",
    "\n",
    "f1_train = metrics_train.fMeasure()\n",
    "\n",
    "# F1 score\n",
    "print(\"F1 score on train dataset is %s\" % metrics_train.fMeasure())"
   ]
  },
  {
   "cell_type": "code",
   "execution_count": 39,
   "metadata": {},
   "outputs": [
    {
     "name": "stdout",
     "output_type": "stream",
     "text": [
      "F1 score on test dataset is 0.7864077669902912\n"
     ]
    }
   ],
   "source": [
    "predictionAndLabels = best_pred_test.rdd.map(lambda lp: (float(lp.prediction), float(lp.label)))\n",
    "\n",
    "# Instantiate metrics object\n",
    "metrics_test = MulticlassMetrics(predictionAndLabels)\n",
    "\n",
    "f1_test = metrics_test.fMeasure()\n",
    "\n",
    "# F1 score\n",
    "print(\"F1 score on test dataset is %s\" % metrics_test.fMeasure())"
   ]
  },
  {
   "cell_type": "code",
   "execution_count": 40,
   "metadata": {},
   "outputs": [
    {
     "name": "stdout",
     "output_type": "stream",
     "text": [
      "F1 score on validation dataset is 0.8088235294117647\n"
     ]
    }
   ],
   "source": [
    "predictionAndLabels = best_pred_valid.rdd.map(lambda lp: (float(lp.prediction), float(lp.label)))\n",
    "\n",
    "# Instantiate metrics object\n",
    "metrics_valid = MulticlassMetrics(predictionAndLabels)\n",
    "\n",
    "f1_valid = metrics_valid.fMeasure()\n",
    "\n",
    "# F1 score\n",
    "print(\"F1 score on validation dataset is %s\" % metrics_valid.fMeasure())"
   ]
  },
  {
   "cell_type": "markdown",
   "metadata": {},
   "source": [
    "## Conclusion"
   ]
  },
  {
   "cell_type": "markdown",
   "metadata": {},
   "source": [
    "To predict customer churn there was built a machine learning pipeline which consist of:\n",
    "* the indexers and an encoder for categorical features,\n",
    "* the feature assembler,\n",
    "* the normalizer for numeric features,\n",
    "* the Random Forest Classifier.\n",
    "\n",
    "The Random Forest Classifier was chosen from set of other models because it demonstrated the best performance in terms of the F1 score.\n",
    "\n",
    "<br> For the final model the best hyperparameters for the Random Forest Classifier were chosen using the cross validation approach. The best model's scores are:\n",
    "* 82% F1 score on train dataset,\n",
    "* 78% F1 score on test dataset,\n",
    "* and 81% F1 score on validation dataset.\n",
    "\n",
    "<br> We achieved robust solution, because the model generalizes well to the new validation dataset. The difference between train and validation scores is about 1%."
   ]
  },
  {
   "cell_type": "markdown",
   "metadata": {},
   "source": [
    "### Justification"
   ]
  },
  {
   "cell_type": "markdown",
   "metadata": {},
   "source": [
    "These are the main characteristics of the final solution:\n",
    "* Spark (PySpark and SparkML libraries) was used to analyze data and make predictions. \n",
    "* The solution is based on dataset, which contains the following extracted features for each user: gender, last user level , the number of days since registration, last location, the average number of events and songs listened per day, the number of thumbs up events, the number of thumbs down events, the number of add friend action events.\n",
    "* Categorical features (last level, last location, gender) are transformed into dummy variables.\n",
    "* Numerical features are normalized. Normalization improved scores Gradient-boosted Tree Classifier because without normalization some weights update much faster than others in case of using gradient descent/ascent-based optimization. Normalization also improved scores of Naive Bayes, because this algorithm is sensitive to distances between points.\n",
    "* In the final model Random Forest Classifier was used to predict churn. This classifier performs best in our case because this method is good at handling categorical variables and is resistant to overfitting. The final model has 81% F1 score on the validation dataset.\n",
    "* The flask web application was built to demonstrate the working model. Flask was chosen because it allows building a rapid solution in Python."
   ]
  }
 ],
 "metadata": {
  "kernelspec": {
   "display_name": "Python 3",
   "language": "python",
   "name": "python3"
  },
  "language_info": {
   "codemirror_mode": {
    "name": "ipython",
    "version": 3
   },
   "file_extension": ".py",
   "mimetype": "text/x-python",
   "name": "python",
   "nbconvert_exporter": "python",
   "pygments_lexer": "ipython3",
   "version": "3.6.8"
  }
 },
 "nbformat": 4,
 "nbformat_minor": 2
}
